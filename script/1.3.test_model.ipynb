{
 "cells": [
  {
   "cell_type": "code",
   "execution_count": 1,
   "id": "fe821d2f-7bfb-44ec-b53c-1bd5c3d2211f",
   "metadata": {},
   "outputs": [
    {
     "name": "stderr",
     "output_type": "stream",
     "text": [
      "12it [00:04,  2.46it/s]\n"
     ]
    }
   ],
   "source": [
    "import commonsetting\n",
    "from models import perceptual_network, Encoder, Class_out, Conf_out\n",
    "from dataloader import CustomImageDataset, concatenate_transform_steps\n",
    "from torch.utils.data import Dataset, DataLoader\n",
    "from torch.optim import Adam\n",
    "from torch import nn\n",
    "import torch\n",
    "from tqdm import tqdm\n",
    "import numpy as np\n",
    "import pandas as pd\n",
    "\n",
    "\n",
    "if __name__ == \"__main__\":\n",
    "    pretrained_model_name   = commonsetting.pretrained_model_name\n",
    "    hidden_layer_size       = commonsetting.hidden_layer_size\n",
    "    hidden_activation_name  = commonsetting.hidden_activation_name\n",
    "    hidden_activation       = commonsetting.hidden_activation\n",
    "    hidden_dropout          = commonsetting.hidden_dropout\n",
    "    resize                  = commonsetting.image_resize\n",
    "    in_shape                = (1,3,resize,resize)\n",
    "\n",
    "    SimpleCNN_args = dict(\n",
    "        pretrained_model_name   = pretrained_model_name,\n",
    "        hidden_layer_size       = hidden_layer_size,\n",
    "        hidden_activation       = hidden_activation,\n",
    "        hidden_dropout          = hidden_dropout,\n",
    "        hidden_layer_type       = commonsetting.hidden_layer_type,\n",
    "        output_layer_size       = commonsetting.output_layer_size,\n",
    "        in_shape                = (1,3,resize,resize),\n",
    "        retrain_encoder         = commonsetting.retrain_encoder,\n",
    "        device                  = commonsetting.device,\n",
    "        )\n",
    "        \n",
    "\n",
    "    tranformer_steps = concatenate_transform_steps(image_resize=commonsetting.image_resize, rotate=0)\n",
    "\n",
    "    dataset_test = CustomImageDataset(commonsetting.test_dir,label_map=commonsetting.label_map , transform=tranformer_steps)\n",
    "    dataloader_test = DataLoader(dataset_test, batch_size=commonsetting.batch_size, shuffle=True, num_workers=commonsetting.num_workers)\n",
    "    SimpleCNN = perceptual_network(**SimpleCNN_args)\n",
    "    SimpleCNN.load_state_dict(torch.load(\"../models/train_mixed_weight/simplecnn_retest.h5\"))\n",
    "    for p in SimpleCNN.parameters(): p.requires_grad = False\n",
    "    # define loss function\n",
    "    classification_loss = nn.BCELoss()\n",
    "    # when there is no noise\n",
    "    SimpleCNN.eval()\n",
    "    SimpleCNN.to(commonsetting.device)\n",
    "    with torch.no_grad():\n",
    "        # extract features of each image\n",
    "        y_true = []\n",
    "        y_pred = []\n",
    "        y_correct_pred = []\n",
    "        confidence_out = []\n",
    "        for idx_batch, (batch_image, batch_label) in tqdm(enumerate(dataloader_test)):\n",
    "            batch_label = torch.vstack(batch_label).T.float()\n",
    "            #记得每一次处理数据之前要做这一步\n",
    "            batch_image = batch_image.to(commonsetting.device)\n",
    "            batch_label = batch_label.to(commonsetting.device)\n",
    "            \n",
    "            features,hidden_representation,prediction, confidence =  SimpleCNN(batch_image.to(commonsetting.device))\n",
    "            correct_preds = batch_label.clone().detach().argmax(1)==prediction.clone().detach().argmax(1)\n",
    "            correct_preds = correct_preds.float()\n",
    "\n",
    "            correct_preds = torch.vstack([1-correct_preds, correct_preds]).T.float()\n",
    "            \n",
    "            \n",
    "            y_correct_pred.append(correct_preds.detach().cpu().numpy())\n",
    "            y_true.append(batch_label.detach().cpu().numpy())\n",
    "            y_pred.append(prediction.detach().cpu().numpy())\n",
    "            confidence_out.append(confidence.detach().cpu().numpy())\n",
    "    \n",
    "    y_pred = np.concatenate(y_pred, axis=0)\n",
    "    y_true = np.concatenate(y_true, axis=0)\n",
    "    y_correct_pred = np.concatenate(y_correct_pred, axis=0)\n",
    "    confidence_out = np.concatenate(confidence_out, axis=0)"
   ]
  },
  {
   "cell_type": "code",
   "execution_count": 2,
   "id": "06c9f356-4629-4a02-93c4-01168fe98bc0",
   "metadata": {},
   "outputs": [],
   "source": [
    "from sklearn.metrics import roc_auc_score, accuracy_score"
   ]
  },
  {
   "cell_type": "code",
   "execution_count": 3,
   "id": "12ef5757-3322-42bc-be37-d12c46acd702",
   "metadata": {},
   "outputs": [
    {
     "data": {
      "text/plain": [
       "0.8137962962962964"
      ]
     },
     "execution_count": 3,
     "metadata": {},
     "output_type": "execute_result"
    }
   ],
   "source": [
    "roc_auc_score(y_true, y_pred)"
   ]
  },
  {
   "cell_type": "code",
   "execution_count": 4,
   "id": "e69652cf",
   "metadata": {},
   "outputs": [
    {
     "data": {
      "text/plain": [
       "0.6722742474916388"
      ]
     },
     "execution_count": 4,
     "metadata": {},
     "output_type": "execute_result"
    }
   ],
   "source": [
    "roc_auc_score(y_correct_pred, confidence_out)"
   ]
  },
  {
   "cell_type": "code",
   "execution_count": 5,
   "id": "e639657a",
   "metadata": {},
   "outputs": [
    {
     "data": {
      "text/plain": [
       "(360, 3)"
      ]
     },
     "execution_count": 5,
     "metadata": {},
     "output_type": "execute_result"
    }
   ],
   "source": [
    "y_pred.shape"
   ]
  },
  {
   "cell_type": "code",
   "execution_count": 6,
   "id": "4fd104c7",
   "metadata": {},
   "outputs": [
    {
     "data": {
      "text/plain": [
       "Counter({2: 106, 0: 143, 1: 111})"
      ]
     },
     "execution_count": 6,
     "metadata": {},
     "output_type": "execute_result"
    }
   ],
   "source": [
    "from collections import Counter\n",
    "Counter(y_pred.argmax(1))"
   ]
  },
  {
   "cell_type": "code",
   "execution_count": 7,
   "id": "cbd5a31d-a368-47f2-b430-5916b1495180",
   "metadata": {},
   "outputs": [],
   "source": [
    "from matplotlib import pyplot as plt"
   ]
  },
  {
   "cell_type": "code",
   "execution_count": 8,
   "id": "fa34703b-48e1-429b-a8b4-36fa92094306",
   "metadata": {},
   "outputs": [
    {
     "data": {
      "text/plain": [
       "(array([ 6.,  4., 14., 31., 45., 75., 72., 72., 35.,  6.]),\n",
       " array([0.20555222, 0.25583661, 0.30612099, 0.35640535, 0.40668973,\n",
       "        0.45697412, 0.50725847, 0.55754286, 0.60782725, 0.65811163,\n",
       "        0.70839602]),\n",
       " <BarContainer object of 10 artists>)"
      ]
     },
     "execution_count": 8,
     "metadata": {},
     "output_type": "execute_result"
    },
    {
     "data": {
      "image/png": "[encoded data removed]",
      "text/plain": [
       "<Figure size 640x480 with 1 Axes>"
      ]
     },
     "metadata": {},
     "output_type": "display_data"
    }
   ],
   "source": [
    "plt.hist(confidence_out[:,0])"
   ]
  },
  {
   "cell_type": "code",
   "execution_count": 9,
   "id": "d3be74bf",
   "metadata": {},
   "outputs": [],
   "source": [
    "confidence_onehot = np.vstack([1-confidence_out.argmax(1), confidence_out.argmax(1)]).T"
   ]
  },
  {
   "cell_type": "code",
   "execution_count": 10,
   "id": "3ebaf012-75af-46f4-af67-6713dacc7f8a",
   "metadata": {},
   "outputs": [],
   "source": [
    "response = y_pred.argmax(1) == 1"
   ]
  },
  {
   "cell_type": "code",
   "execution_count": 11,
   "id": "9e8007fd-b3f5-410f-a870-bf502d000565",
   "metadata": {},
   "outputs": [],
   "source": [
    "rating = confidence_out.argmax(1) == 1"
   ]
  },
  {
   "cell_type": "code",
   "execution_count": 12,
   "id": "2c176f5b-d61a-4c5c-a37f-16559b7008d2",
   "metadata": {},
   "outputs": [
    {
     "data": {
      "text/plain": [
       "Counter({1.0: 230, 0.0: 130})"
      ]
     },
     "execution_count": 12,
     "metadata": {},
     "output_type": "execute_result"
    }
   ],
   "source": [
    "from collections import Counter\n",
    "Counter(y_correct_pred[:,1])"
   ]
  },
  {
   "cell_type": "code",
   "execution_count": 13,
   "id": "2b9e6c01-45ca-4ca0-8890-3cb835ab04cc",
   "metadata": {},
   "outputs": [],
   "source": [
    "df_cnn = pd.DataFrame({\"response\":response.astype(int).tolist(), \n",
    "              \"stim\":y_true[:, 1].astype(int).tolist(), \n",
    "             \"acc\":y_correct_pred[:, 1].astype(int).tolist(), \n",
    "             \"confidence\":rating.astype(int).tolist()})"
   ]
  },
  {
   "cell_type": "code",
   "execution_count": 14,
   "id": "244fa8ef-c7fc-4a63-9d0c-b066ce646d8a",
   "metadata": {},
   "outputs": [],
   "source": [
    "def type2_proba(data):\n",
    "    data_result = {'proba_low_correct':[], \n",
    "                   'proba_high_correct':[], \n",
    "                  'proba_low_incorrect':[],\n",
    "                  'proba_high_incorrect':[], \n",
    "                  'proba_correct':[]}\n",
    "    \n",
    "    confidence_onehot = np.vstack([1-data[\"confidence\"], data[\"confidence\"]]).T\n",
    "    \n",
    "    idx_correct_trial = data[\"acc\"] == 1#正确的trial\n",
    "    idx_incorrect_trial = data[\"acc\"] == 0#错误的trial\n",
    "    \n",
    "    total_correct = sum(idx_correct_trial.astype(int))\n",
    "    total_incorrect = sum(idx_incorrect_trial.astype(int))\n",
    "    prob_correct = total_correct/len(data[\"acc\"])\n",
    "    correct_confidence =confidence_onehot[:, 1][idx_correct_trial]\n",
    "    \n",
    "    low_confidence = confidence_onehot[:, 0]\n",
    "    high_confidence = confidence_onehot[:, 1]\n",
    "    \n",
    "    low_correct =  sum(low_confidence[idx_correct_trial])/ total_correct\n",
    "    low_incorrect = sum(low_confidence[idx_incorrect_trial])/ total_incorrect\n",
    "    \n",
    "    high_correct = sum(high_confidence[idx_correct_trial])/ total_correct\n",
    "    high_incorrect = sum(high_confidence[idx_incorrect_trial])/ total_incorrect\n",
    "    \n",
    "    data_result['proba_low_correct'].append(low_correct)\n",
    "    data_result['proba_high_correct'].append(high_correct)\n",
    "    data_result['proba_low_incorrect'].append(low_incorrect)\n",
    "    data_result['proba_high_incorrect'].append(high_incorrect)\n",
    "    data_result['proba_correct'].append(prob_correct)\n",
    "    return  pd.DataFrame(data_result)"
   ]
  },
  {
   "cell_type": "code",
   "execution_count": 15,
   "id": "d692ce67-65ae-4b6c-9e1d-da7844fb502e",
   "metadata": {},
   "outputs": [
    {
     "data": {
      "text/html": [
       "<div>\n",
       "<style scoped>\n",
       "    .dataframe tbody tr th:only-of-type {\n",
       "        vertical-align: middle;\n",
       "    }\n",
       "\n",
       "    .dataframe tbody tr th {\n",
       "        vertical-align: top;\n",
       "    }\n",
       "\n",
       "    .dataframe thead th {\n",
       "        text-align: right;\n",
       "    }\n",
       "</style>\n",
       "<table border=\"1\" class=\"dataframe\">\n",
       "  <thead>\n",
       "    <tr style=\"text-align: right;\">\n",
       "      <th></th>\n",
       "      <th>proba_low_correct</th>\n",
       "      <th>proba_high_correct</th>\n",
       "      <th>proba_low_incorrect</th>\n",
       "      <th>proba_high_incorrect</th>\n",
       "      <th>proba_correct</th>\n",
       "    </tr>\n",
       "  </thead>\n",
       "  <tbody>\n",
       "    <tr>\n",
       "      <th>0</th>\n",
       "      <td>0.426087</td>\n",
       "      <td>0.573913</td>\n",
       "      <td>0.730769</td>\n",
       "      <td>0.269231</td>\n",
       "      <td>0.638889</td>\n",
       "    </tr>\n",
       "  </tbody>\n",
       "</table>\n",
       "</div>"
      ],
      "text/plain": [
       "   proba_low_correct  proba_high_correct  proba_low_incorrect  \\\n",
       "0           0.426087            0.573913             0.730769   \n",
       "\n",
       "   proba_high_incorrect  proba_correct  \n",
       "0              0.269231       0.638889  "
      ]
     },
     "execution_count": 15,
     "metadata": {},
     "output_type": "execute_result"
    }
   ],
   "source": [
    "type2_proba(df_cnn)"
   ]
  },
  {
   "cell_type": "code",
   "execution_count": 16,
   "id": "71fc15ee-120b-41d3-8377-3f075e1a933e",
   "metadata": {},
   "outputs": [],
   "source": [
    "df_sub1 = pd.read_csv(\"../data/sub/sub1.csv\")"
   ]
  },
  {
   "cell_type": "code",
   "execution_count": 17,
   "id": "b99d062d-b985-410c-97fa-054b107c439e",
   "metadata": {},
   "outputs": [],
   "source": [
    "df_sub1 = df_sub1.rename(columns = {\"rating\":\"confidence\"})"
   ]
  },
  {
   "cell_type": "code",
   "execution_count": 18,
   "id": "02a383e3-cb38-471a-bbb1-e517b12ec470",
   "metadata": {},
   "outputs": [],
   "source": [
    "def confidence_value(x):\n",
    "    if x[\"confidence\"] == 2:\n",
    "        return 1\n",
    "    else:\n",
    "        return 0"
   ]
  },
  {
   "cell_type": "code",
   "execution_count": 19,
   "id": "220bcf01-18d6-4cec-a780-c6e0b1a7b91c",
   "metadata": {},
   "outputs": [],
   "source": [
    "df_sub1[\"confidence\"] = df_sub1.apply(lambda x: confidence_value(x), axis=1)"
   ]
  },
  {
   "cell_type": "code",
   "execution_count": 20,
   "id": "217d9653-8d71-40cb-ae63-0961cfb3e829",
   "metadata": {},
   "outputs": [
    {
     "data": {
      "text/html": [
       "<div>\n",
       "<style scoped>\n",
       "    .dataframe tbody tr th:only-of-type {\n",
       "        vertical-align: middle;\n",
       "    }\n",
       "\n",
       "    .dataframe tbody tr th {\n",
       "        vertical-align: top;\n",
       "    }\n",
       "\n",
       "    .dataframe thead th {\n",
       "        text-align: right;\n",
       "    }\n",
       "</style>\n",
       "<table border=\"1\" class=\"dataframe\">\n",
       "  <thead>\n",
       "    <tr style=\"text-align: right;\">\n",
       "      <th></th>\n",
       "      <th>proba_low_correct</th>\n",
       "      <th>proba_high_correct</th>\n",
       "      <th>proba_low_incorrect</th>\n",
       "      <th>proba_high_incorrect</th>\n",
       "      <th>proba_correct</th>\n",
       "    </tr>\n",
       "  </thead>\n",
       "  <tbody>\n",
       "    <tr>\n",
       "      <th>0</th>\n",
       "      <td>0.15566</td>\n",
       "      <td>0.84434</td>\n",
       "      <td>0.590909</td>\n",
       "      <td>0.409091</td>\n",
       "      <td>0.706667</td>\n",
       "    </tr>\n",
       "  </tbody>\n",
       "</table>\n",
       "</div>"
      ],
      "text/plain": [
       "   proba_low_correct  proba_high_correct  proba_low_incorrect  \\\n",
       "0            0.15566             0.84434             0.590909   \n",
       "\n",
       "   proba_high_incorrect  proba_correct  \n",
       "0              0.409091       0.706667  "
      ]
     },
     "execution_count": 20,
     "metadata": {},
     "output_type": "execute_result"
    }
   ],
   "source": [
    "type2_proba(df_sub1)"
   ]
  },
  {
   "cell_type": "code",
   "execution_count": 21,
   "id": "fc2c671b-a95f-4e9f-94bf-0fda53dc067f",
   "metadata": {},
   "outputs": [],
   "source": [
    "#df_cnn.to_csv(\"../data/sub/cnn.csv\")"
   ]
  },
  {
   "cell_type": "code",
   "execution_count": 22,
   "id": "1fdf9426-3424-4dda-9e93-d2d22527d96c",
   "metadata": {},
   "outputs": [
    {
     "data": {
      "text/plain": [
       "stim  response  confidence\n",
       "0     0         0             106\n",
       "                1              96\n",
       "      1         0              25\n",
       "                1              13\n",
       "1     0         0              34\n",
       "                1              13\n",
       "      1         0              28\n",
       "                1              45\n",
       "Name: count, dtype: int64"
      ]
     },
     "execution_count": 22,
     "metadata": {},
     "output_type": "execute_result"
    }
   ],
   "source": [
    "df_cnn[\"count\"] = 1\n",
    "df_cnn.groupby([\"stim\", \"response\", \"confidence\"])[\"count\"].count()"
   ]
  },
  {
   "cell_type": "code",
   "execution_count": 23,
   "id": "3b05fdd0-10f7-4066-ac7b-ade6161c03e2",
   "metadata": {},
   "outputs": [
    {
     "data": {
      "text/plain": [
       "stim  response  confidence\n",
       "0     0         0              49\n",
       "                1             119\n",
       "      1         0              11\n",
       "                1              13\n",
       "1     0         0              14\n",
       "                1               3\n",
       "      1         0              11\n",
       "                1              80\n",
       "Name: count, dtype: int64"
      ]
     },
     "execution_count": 23,
     "metadata": {},
     "output_type": "execute_result"
    }
   ],
   "source": [
    "df_sub1[\"count\"] = 1\n",
    "df_sub1.groupby([\"stim\", \"response\", \"confidence\"])[\"count\"].count()"
   ]
  },
  {
   "cell_type": "code",
   "execution_count": 24,
   "id": "41509f7f-9d81-4043-b1e2-a9d574d4e765",
   "metadata": {},
   "outputs": [],
   "source": [
    "from fit_meta_d_MLE import fit_meta_d_MLE"
   ]
  },
  {
   "cell_type": "code",
   "execution_count": 25,
   "id": "ec7c653c-4fd9-48ce-bc8e-21fb1b0ec7bd",
   "metadata": {},
   "outputs": [
    {
     "name": "stderr",
     "output_type": "stream",
     "text": [
      "/root/autodl-tmp/CNN_Moral-MetaCog/script/fit_meta_d_MLE.py:198: RuntimeWarning: divide by zero encountered in log\n",
      "  + nI_rS2[i]*np.log(prI_rS2[i]) for i in range(nRatings)])\n",
      "/root/miniconda3/envs/py38/lib/python3.8/site-packages/scipy/optimize/_hessian_update_strategy.py:182: UserWarning: delta_grad == 0.0. Check if the approximated function is linear. If the function is linear better results can be obtained by defining the Hessian as zero instead of using quasi-Newton approximations.\n",
      "  warn('delta_grad == 0.0. Check if the approximated '\n"
     ]
    },
    {
     "name": "stdout",
     "output_type": "stream",
     "text": [
      "`xtol` termination condition is satisfied.\n",
      "Number of iterations: 99, function evaluations: 448, CG iterations: 172, optimality: 1.87e-06, constraint violation: 0.00e+00, execution time: 0.77 s.\n"
     ]
    }
   ],
   "source": [
    "CNN_nR_S1 = [96,106, 25, 13]\n",
    "CNN_nR_S2 = [13, 34, 28, 45]\n",
    "\n",
    "fit_cnn = fit_meta_d_MLE(CNN_nR_S1,CNN_nR_S2)\n"
   ]
  },
  {
   "cell_type": "code",
   "execution_count": 26,
   "id": "4c339ca3-451c-4140-95c6-92ed00ee2095",
   "metadata": {},
   "outputs": [
    {
     "name": "stdout",
     "output_type": "stream",
     "text": [
      "`gtol` termination condition is satisfied.\n",
      "Number of iterations: 26, function evaluations: 64, CG iterations: 41, optimality: 5.78e-09, constraint violation: 0.00e+00, execution time: 0.12 s.\n"
     ]
    }
   ],
   "source": [
    "sub1_nR_S1 = [119, 49, 11, 13]\n",
    "sub1_nR_S2 = [3, 14, 11, 80]\n",
    "\n",
    "fit_sub1 = fit_meta_d_MLE(sub1_nR_S1,sub1_nR_S2)"
   ]
  },
  {
   "cell_type": "code",
   "execution_count": 27,
   "id": "7c8d77a3-bd6a-43df-8b50-9618936e00c6",
   "metadata": {},
   "outputs": [
    {
     "name": "stdout",
     "output_type": "stream",
     "text": [
      "The drpime of CNN is  1.2763090464946976\n",
      "The meta drpime of CNN is  0.9103278817945828\n"
     ]
    }
   ],
   "source": [
    "print(\"The drpime of CNN is \", fit_cnn['da'])\n",
    "print(\"The meta drpime of CNN is \", fit_cnn['meta_da'])"
   ]
  },
  {
   "cell_type": "code",
   "execution_count": 28,
   "id": "8b31ae37-b244-4621-b6f1-125b376b212a",
   "metadata": {},
   "outputs": [
    {
     "name": "stdout",
     "output_type": "stream",
     "text": [
      "The drpime of real subject 2 is  2.1555197611904715\n",
      "The meta drpime of real subject 2 is  2.1983044015682114\n"
     ]
    }
   ],
   "source": [
    "print(\"The drpime of real subject 2 is \", fit_sub1['da'])\n",
    "print(\"The meta drpime of real subject 2 is \", fit_sub1['meta_da'])"
   ]
  },
  {
   "cell_type": "code",
   "execution_count": null,
   "id": "2cce8bc0-3107-4649-93fc-f728a04d13e9",
   "metadata": {},
   "outputs": [],
   "source": []
  }
 ],
 "metadata": {
  "kernelspec": {
   "display_name": "py38",
   "language": "python",
   "name": "py38"
  },
  "language_info": {
   "codemirror_mode": {
    "name": "ipython",
    "version": 3
   },
   "file_extension": ".py",
   "mimetype": "text/x-python",
   "name": "python",
   "nbconvert_exporter": "python",
   "pygments_lexer": "ipython3",
   "version": "3.8.13"
  }
 },
 "nbformat": 4,
 "nbformat_minor": 5
}
