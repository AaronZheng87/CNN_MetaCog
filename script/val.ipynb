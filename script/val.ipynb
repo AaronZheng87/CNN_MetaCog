{
 "cells": [
  {
   "cell_type": "code",
   "execution_count": 1,
   "id": "fe821d2f-7bfb-44ec-b53c-1bd5c3d2211f",
   "metadata": {},
   "outputs": [
    {
     "name": "stderr",
     "output_type": "stream",
     "text": [
      "47it [00:11,  4.12it/s]\n"
     ]
    }
   ],
   "source": [
    "import commonsetting\n",
    "from models import perceptual_network, Encoder, Class_out, Conf_out\n",
    "from dataloader import CustomImageDataset, concatenate_transform_steps\n",
    "from torch.utils.data import Dataset, DataLoader\n",
    "from torch.optim import Adam\n",
    "from torch import nn\n",
    "import torch\n",
    "from tqdm import tqdm\n",
    "import numpy as np\n",
    "import pandas as pd\n",
    "\n",
    "\n",
    "def calculate_confidence_label(y_pred):\n",
    "    if y_pred <= 1/3:\n",
    "        y_pred = 0\n",
    "    elif y_pred >= 2/3:\n",
    "        y_pred = 1\n",
    "    else:\n",
    "        y_pred = 0.5\n",
    "\n",
    "    return y_pred\n",
    "\n",
    "\n",
    "if __name__ == \"__main__\":\n",
    "    pretrained_model_name   = commonsetting.pretrained_model_name\n",
    "    hidden_layer_size       = commonsetting.hidden_layer_size\n",
    "    hidden_activation_name  = commonsetting.hidden_activation_name\n",
    "    hidden_activation       = commonsetting.hidden_activation\n",
    "    hidden_dropout          = commonsetting.hidden_dropout\n",
    "    resize                  = commonsetting.image_resize\n",
    "    in_shape                = (1,3,resize,resize)\n",
    "\n",
    "    SimpleCNN_args = dict(\n",
    "        pretrained_model_name   = pretrained_model_name,\n",
    "        hidden_layer_size       = hidden_layer_size,\n",
    "        hidden_activation       = hidden_activation,\n",
    "        hidden_dropout          = hidden_dropout,\n",
    "        hidden_layer_type       = commonsetting.hidden_layer_type,\n",
    "        output_layer_size       = commonsetting.output_layer_size,\n",
    "        in_shape                = (1,3,resize,resize),\n",
    "        retrain_encoder         = commonsetting.retrain_encoder,\n",
    "        device                  = commonsetting.device,\n",
    "        )\n",
    "        \n",
    "\n",
    "    tranformer_steps = concatenate_transform_steps(image_resize=commonsetting.image_resize, rotate=0)\n",
    "\n",
    "    dataset_val = CustomImageDataset(commonsetting.val_dir,label_map=commonsetting.label_map , transform=tranformer_steps)\n",
    "    dataloader_test = DataLoader(dataset_val, batch_size=commonsetting.batch_size, shuffle=True, num_workers=commonsetting.num_workers)\n",
    "    SimpleCNN = perceptual_network(**SimpleCNN_args)\n",
    "    SimpleCNN.load_state_dict(torch.load(\"../models/simplecnn.h5\"))\n",
    "    for p in SimpleCNN.parameters(): p.requires_grad = False\n",
    "    # define loss function\n",
    "    classification_loss = nn.BCELoss()\n",
    "    # when there is no noise\n",
    "    SimpleCNN.eval()\n",
    "    SimpleCNN.to(commonsetting.device)\n",
    "    with torch.no_grad():\n",
    "        # extract features of each image\n",
    "        y_true = []\n",
    "        y_pred = []\n",
    "        y_correct_pred = []\n",
    "        confidence_out = []\n",
    "        for idx_batch, (batch_image, batch_label) in tqdm(enumerate(dataloader_test)):\n",
    "            batch_label = torch.vstack(batch_label).T.float()\n",
    "            #记得每一次处理数据之前要做这一步\n",
    "            \n",
    "            features,hidden_representation,prediction, confidence =  SimpleCNN(batch_image.to(commonsetting.device))\n",
    "            correct_preds = batch_label.clone().detach().argmax(1)==prediction.clone().detach().argmax(1)\n",
    "            correct_preds = correct_preds.float()\n",
    "\n",
    "            correct_preds = torch.vstack([1-correct_preds, correct_preds]).T.float()\n",
    "            \n",
    "            \n",
    "            y_correct_pred.append(correct_preds.detach().cpu().numpy())\n",
    "            y_true.append(batch_label.detach().cpu().numpy())\n",
    "            y_pred.append(prediction.detach().cpu().numpy())\n",
    "            confidence_out.append(confidence.detach().cpu().numpy())\n",
    "    \n",
    "    y_pred = np.concatenate(y_pred, axis=0)\n",
    "    y_true = np.concatenate(y_true, axis=0)\n",
    "    y_correct_pred = np.concatenate(y_correct_pred, axis=0)\n",
    "    confidence_out = np.concatenate(confidence_out, axis=0)\n"
   ]
  },
  {
   "cell_type": "code",
   "execution_count": 2,
   "id": "06c9f356-4629-4a02-93c4-01168fe98bc0",
   "metadata": {},
   "outputs": [],
   "source": [
    "from sklearn.metrics import roc_auc_score, accuracy_score"
   ]
  },
  {
   "cell_type": "code",
   "execution_count": 3,
   "id": "12ef5757-3322-42bc-be37-d12c46acd702",
   "metadata": {},
   "outputs": [
    {
     "data": {
      "text/plain": [
       "0.6142773333333333"
      ]
     },
     "execution_count": 3,
     "metadata": {},
     "output_type": "execute_result"
    }
   ],
   "source": [
    "roc_auc_score(y_true, y_pred)"
   ]
  },
  {
   "cell_type": "code",
   "execution_count": 4,
   "id": "e69652cf",
   "metadata": {},
   "outputs": [
    {
     "data": {
      "text/plain": [
       "0.5361373367628091"
      ]
     },
     "execution_count": 4,
     "metadata": {},
     "output_type": "execute_result"
    }
   ],
   "source": [
    "roc_auc_score(y_correct_pred, confidence_out)"
   ]
  },
  {
   "cell_type": "code",
   "execution_count": 5,
   "id": "e639657a",
   "metadata": {},
   "outputs": [
    {
     "data": {
      "text/plain": [
       "(1500, 3)"
      ]
     },
     "execution_count": 5,
     "metadata": {},
     "output_type": "execute_result"
    }
   ],
   "source": [
    "y_pred.shape"
   ]
  },
  {
   "cell_type": "code",
   "execution_count": 6,
   "id": "4fd104c7",
   "metadata": {},
   "outputs": [
    {
     "data": {
      "text/plain": [
       "array([[0.28639126, 0.28446144, 0.42914733],\n",
       "       [0.26307756, 0.255458  , 0.4814644 ],\n",
       "       [0.2209375 , 0.2679964 , 0.51106614],\n",
       "       ...,\n",
       "       [0.23675464, 0.25288722, 0.51035815],\n",
       "       [0.29095462, 0.34629712, 0.36274827],\n",
       "       [0.2495555 , 0.3449533 , 0.40549114]], dtype=float32)"
      ]
     },
     "execution_count": 6,
     "metadata": {},
     "output_type": "execute_result"
    }
   ],
   "source": [
    "y_pred"
   ]
  },
  {
   "cell_type": "code",
   "execution_count": 7,
   "id": "098dfa2a",
   "metadata": {},
   "outputs": [
    {
     "data": {
      "text/plain": [
       "array([[0., 1., 0.],\n",
       "       [1., 0., 0.],\n",
       "       [0., 1., 0.],\n",
       "       ...,\n",
       "       [0., 1., 0.],\n",
       "       [0., 1., 0.],\n",
       "       [0., 0., 1.]], dtype=float32)"
      ]
     },
     "execution_count": 7,
     "metadata": {},
     "output_type": "execute_result"
    }
   ],
   "source": [
    "y_true"
   ]
  },
  {
   "cell_type": "code",
   "execution_count": 8,
   "id": "cbd5a31d-a368-47f2-b430-5916b1495180",
   "metadata": {},
   "outputs": [],
   "source": [
    "from matplotlib import pyplot as plt"
   ]
  },
  {
   "cell_type": "code",
   "execution_count": 22,
   "id": "fa34703b-48e1-429b-a8b4-36fa92094306",
   "metadata": {},
   "outputs": [
    {
     "data": {
      "text/plain": [
       "(array([  5.,  61., 245., 427., 383., 212., 112.,  34.,  16.,   5.]),\n",
       " array([0.22746027, 0.26261991, 0.29777956, 0.33293924, 0.36809888,\n",
       "        0.40325853, 0.43841818, 0.47357783, 0.5087375 , 0.54389715,\n",
       "        0.5790568 ]),\n",
       " <BarContainer object of 10 artists>)"
      ]
     },
     "execution_count": 22,
     "metadata": {},
     "output_type": "execute_result"
    },
    {
     "data": {
      "image/png": "[encoded data removed]",
      "text/plain": [
       "<Figure size 640x480 with 1 Axes>"
      ]
     },
     "metadata": {},
     "output_type": "display_data"
    }
   ],
   "source": [
    "plt.hist(confidence_out[:,1])"
   ]
  },
  {
   "cell_type": "code",
   "execution_count": 18,
   "id": "2c176f5b-d61a-4c5c-a37f-16559b7008d2",
   "metadata": {},
   "outputs": [
    {
     "data": {
      "text/plain": [
       "Counter({0.0: 946, 1.0: 554})"
      ]
     },
     "execution_count": 18,
     "metadata": {},
     "output_type": "execute_result"
    }
   ],
   "source": [
    "from collections import Counter\n",
    "Counter(y_correct_pred[:,1])"
   ]
  },
  {
   "cell_type": "code",
   "execution_count": 12,
   "id": "41394d4e-2134-4b5c-9830-a360f6d4bb3d",
   "metadata": {},
   "outputs": [
    {
     "data": {
      "text/plain": [
       "array([[1., 0.],\n",
       "       [1., 0.],\n",
       "       [1., 0.],\n",
       "       ...,\n",
       "       [1., 0.],\n",
       "       [1., 0.],\n",
       "       [0., 1.]], dtype=float32)"
      ]
     },
     "execution_count": 12,
     "metadata": {},
     "output_type": "execute_result"
    }
   ],
   "source": [
    "y_correct_pred"
   ]
  },
  {
   "cell_type": "code",
   "execution_count": 20,
   "id": "5ec39938-56ce-4ce1-8111-2f07e55910a0",
   "metadata": {},
   "outputs": [
    {
     "data": {
      "text/plain": [
       "array([[0.58844954, 0.41155052],\n",
       "       [0.5994418 , 0.40055817],\n",
       "       [0.616078  , 0.38392204],\n",
       "       ...,\n",
       "       [0.6222695 , 0.3777305 ],\n",
       "       [0.6252771 , 0.37472293],\n",
       "       [0.5718322 , 0.4281678 ]], dtype=float32)"
      ]
     },
     "execution_count": 20,
     "metadata": {},
     "output_type": "execute_result"
    }
   ],
   "source": [
    "confidence_out"
   ]
  },
  {
   "cell_type": "code",
   "execution_count": null,
   "id": "a6962c33-9672-4dd5-a6c4-59c7e9a1074a",
   "metadata": {},
   "outputs": [],
   "source": []
  }
 ],
 "metadata": {
  "kernelspec": {
   "display_name": "py38",
   "language": "python",
   "name": "py38"
  },
  "language_info": {
   "codemirror_mode": {
    "name": "ipython",
    "version": 3
   },
   "file_extension": ".py",
   "mimetype": "text/x-python",
   "name": "python",
   "nbconvert_exporter": "python",
   "pygments_lexer": "ipython3",
   "version": "3.8.13"
  }
 },
 "nbformat": 4,
 "nbformat_minor": 5
}
