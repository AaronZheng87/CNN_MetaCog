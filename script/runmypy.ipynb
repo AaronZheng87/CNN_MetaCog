{
 "cells": [
  {
   "cell_type": "code",
   "execution_count": null,
   "id": "9a1ffe47-09b2-497d-ad1f-fff7c48f286a",
   "metadata": {},
   "outputs": [
    {
     "name": "stderr",
     "output_type": "stream",
     "text": [
      "/root/miniconda3/envs/py38/lib/python3.8/site-packages/tqdm/auto.py:21: TqdmWarning: IProgress not found. Please update jupyter and ipywidgets. See https://ipywidgets.readthedocs.io/en/stable/user_install.html\n",
      "  from .autonotebook import tqdm as notebook_tqdm\n",
      "train loss = 1.428205: 100%|██████████| 94/94 [00:07<00:00, 12.27it/s]\n",
      "validation loss = 1.489493: 100%|██████████| 47/47 [00:03<00:00, 15.19it/s]\n"
     ]
    },
    {
     "name": "stdout",
     "output_type": "stream",
     "text": [
      "\n",
      "epoch 1, best valid loss = inf,count = 0\n"
     ]
    },
    {
     "name": "stderr",
     "output_type": "stream",
     "text": [
      "train loss = 1.367905: 100%|██████████| 94/94 [00:05<00:00, 18.67it/s]\n",
      "validation loss = 1.400514: 100%|██████████| 47/47 [00:03<00:00, 15.41it/s]\n"
     ]
    },
    {
     "name": "stdout",
     "output_type": "stream",
     "text": [
      "\n",
      "epoch 2, best valid loss = inf,count = 0\n"
     ]
    },
    {
     "name": "stderr",
     "output_type": "stream",
     "text": [
      "train loss = 1.356916: 100%|██████████| 94/94 [00:05<00:00, 18.24it/s]\n",
      "validation loss = 1.378233: 100%|██████████| 47/47 [00:03<00:00, 15.01it/s]\n"
     ]
    },
    {
     "name": "stdout",
     "output_type": "stream",
     "text": [
      "\n",
      "epoch 3, best valid loss = inf,count = 0\n"
     ]
    },
    {
     "name": "stderr",
     "output_type": "stream",
     "text": [
      "train loss = 1.351097: 100%|██████████| 94/94 [00:05<00:00, 18.49it/s]\n",
      "validation loss = 1.363248: 100%|██████████| 47/47 [00:03<00:00, 15.02it/s]\n"
     ]
    },
    {
     "name": "stdout",
     "output_type": "stream",
     "text": [
      "\n",
      "epoch 4, best valid loss = 64.07267678,count = 0\n"
     ]
    },
    {
     "name": "stderr",
     "output_type": "stream",
     "text": [
      "train loss = 1.333970: 100%|██████████| 94/94 [00:05<00:00, 18.12it/s]\n",
      "validation loss = 1.314165: 100%|██████████| 47/47 [00:03<00:00, 15.02it/s]\n"
     ]
    },
    {
     "name": "stdout",
     "output_type": "stream",
     "text": [
      "\n",
      "epoch 5, best valid loss = 61.76574266,count = 0\n"
     ]
    },
    {
     "name": "stderr",
     "output_type": "stream",
     "text": [
      "train loss = 1.337233: 100%|██████████| 94/94 [00:05<00:00, 18.26it/s]\n",
      "validation loss = 1.341101: 100%|██████████| 47/47 [00:03<00:00, 15.36it/s]\n"
     ]
    },
    {
     "name": "stdout",
     "output_type": "stream",
     "text": [
      "\n",
      "epoch 6, best valid loss = 61.76574266,count = 1\n"
     ]
    },
    {
     "name": "stderr",
     "output_type": "stream",
     "text": [
      "train loss = 1.322634: 100%|██████████| 94/94 [00:05<00:00, 18.62it/s]\n",
      "validation loss = 1.337700: 100%|██████████| 47/47 [00:03<00:00, 15.20it/s]\n"
     ]
    },
    {
     "name": "stdout",
     "output_type": "stream",
     "text": [
      "\n",
      "epoch 7, best valid loss = 61.76574266,count = 2\n"
     ]
    },
    {
     "name": "stderr",
     "output_type": "stream",
     "text": [
      "train loss = 1.321656: 100%|██████████| 94/94 [00:04<00:00, 18.80it/s]\n",
      "validation loss = 1.316394: 100%|██████████| 47/47 [00:03<00:00, 15.31it/s]\n"
     ]
    },
    {
     "name": "stdout",
     "output_type": "stream",
     "text": [
      "\n",
      "epoch 8, best valid loss = 61.76574266,count = 3\n"
     ]
    },
    {
     "name": "stderr",
     "output_type": "stream",
     "text": [
      "train loss = 1.315103: 100%|██████████| 94/94 [00:05<00:00, 18.70it/s]\n",
      "validation loss = 1.359047: 100%|██████████| 47/47 [00:02<00:00, 15.88it/s]\n"
     ]
    },
    {
     "name": "stdout",
     "output_type": "stream",
     "text": [
      "\n",
      "epoch 9, best valid loss = 61.76574266,count = 4\n"
     ]
    },
    {
     "name": "stderr",
     "output_type": "stream",
     "text": [
      "train loss = 1.311865: 100%|██████████| 94/94 [00:05<00:00, 18.74it/s]\n",
      "validation loss = 1.312353: 100%|██████████| 47/47 [00:03<00:00, 15.52it/s]\n"
     ]
    },
    {
     "name": "stdout",
     "output_type": "stream",
     "text": [
      "\n",
      "epoch 10, best valid loss = 61.68058383,count = 0\n"
     ]
    },
    {
     "name": "stderr",
     "output_type": "stream",
     "text": [
      "train loss = 1.318191: 100%|██████████| 94/94 [00:04<00:00, 18.92it/s]\n",
      "validation loss = 1.301757: 100%|██████████| 47/47 [00:03<00:00, 15.63it/s]\n"
     ]
    },
    {
     "name": "stdout",
     "output_type": "stream",
     "text": [
      "\n",
      "epoch 11, best valid loss = 61.18257725,count = 0\n"
     ]
    },
    {
     "name": "stderr",
     "output_type": "stream",
     "text": [
      "train loss = 1.312405: 100%|██████████| 94/94 [00:05<00:00, 18.67it/s]\n",
      "validation loss = 1.297447: 100%|██████████| 47/47 [00:03<00:00, 15.28it/s]\n"
     ]
    },
    {
     "name": "stdout",
     "output_type": "stream",
     "text": [
      "\n",
      "epoch 12, best valid loss = 60.98002899,count = 0\n"
     ]
    },
    {
     "name": "stderr",
     "output_type": "stream",
     "text": [
      "train loss = 1.307943: 100%|██████████| 94/94 [00:05<00:00, 18.53it/s]\n",
      "validation loss = 1.314979: 100%|██████████| 47/47 [00:02<00:00, 15.83it/s]\n"
     ]
    },
    {
     "name": "stdout",
     "output_type": "stream",
     "text": [
      "\n",
      "epoch 13, best valid loss = 60.98002899,count = 1\n"
     ]
    },
    {
     "name": "stderr",
     "output_type": "stream",
     "text": [
      "train loss = 1.317378: 100%|██████████| 94/94 [00:04<00:00, 18.82it/s]\n",
      "validation loss = 1.305313: 100%|██████████| 47/47 [00:03<00:00, 15.29it/s]\n"
     ]
    },
    {
     "name": "stdout",
     "output_type": "stream",
     "text": [
      "\n",
      "epoch 14, best valid loss = 60.98002899,count = 2\n"
     ]
    },
    {
     "name": "stderr",
     "output_type": "stream",
     "text": [
      "train loss = 1.303837: 100%|██████████| 94/94 [00:04<00:00, 19.43it/s]\n",
      "validation loss = 1.305231: 100%|██████████| 47/47 [00:02<00:00, 15.79it/s]\n"
     ]
    },
    {
     "name": "stdout",
     "output_type": "stream",
     "text": [
      "\n",
      "epoch 15, best valid loss = 60.98002899,count = 3\n"
     ]
    },
    {
     "name": "stderr",
     "output_type": "stream",
     "text": [
      "train loss = 1.312998: 100%|██████████| 94/94 [00:04<00:00, 18.91it/s]\n",
      "validation loss = 1.299070: 100%|██████████| 47/47 [00:03<00:00, 15.26it/s]\n"
     ]
    },
    {
     "name": "stdout",
     "output_type": "stream",
     "text": [
      "\n",
      "epoch 16, best valid loss = 60.98002899,count = 4\n"
     ]
    },
    {
     "name": "stderr",
     "output_type": "stream",
     "text": [
      "train loss = 1.305940: 100%|██████████| 94/94 [00:05<00:00, 18.75it/s]\n",
      "validation loss = 1.324909: 100%|██████████| 47/47 [00:02<00:00, 15.89it/s]\n"
     ]
    },
    {
     "name": "stdout",
     "output_type": "stream",
     "text": [
      "\n",
      "epoch 17, best valid loss = 60.98002899,count = 5\n"
     ]
    },
    {
     "name": "stderr",
     "output_type": "stream",
     "text": [
      "train loss = 1.305985: 100%|██████████| 94/94 [00:04<00:00, 19.20it/s]\n",
      "validation loss = 1.301901: 100%|██████████| 47/47 [00:03<00:00, 15.19it/s]\n"
     ]
    },
    {
     "name": "stdout",
     "output_type": "stream",
     "text": [
      "\n",
      "epoch 18, best valid loss = 60.98002899,count = 6\n"
     ]
    },
    {
     "name": "stderr",
     "output_type": "stream",
     "text": [
      "train loss = 1.303940: 100%|██████████| 94/94 [00:05<00:00, 18.71it/s]\n",
      "validation loss = 1.301293: 100%|██████████| 47/47 [00:02<00:00, 15.83it/s]\n"
     ]
    },
    {
     "name": "stdout",
     "output_type": "stream",
     "text": [
      "\n",
      "epoch 19, best valid loss = 60.98002899,count = 7\n"
     ]
    },
    {
     "name": "stderr",
     "output_type": "stream",
     "text": [
      "train loss = 1.305432: 100%|██████████| 94/94 [00:05<00:00, 18.73it/s]\n",
      "validation loss = 1.295757: 100%|██████████| 47/47 [00:02<00:00, 15.82it/s]\n"
     ]
    },
    {
     "name": "stdout",
     "output_type": "stream",
     "text": [
      "\n",
      "epoch 20, best valid loss = 60.90059948,count = 0\n"
     ]
    },
    {
     "name": "stderr",
     "output_type": "stream",
     "text": [
      "train loss = 1.307702: 100%|██████████| 94/94 [00:05<00:00, 18.52it/s]\n",
      "validation loss = 1.299621: 100%|██████████| 47/47 [00:02<00:00, 15.82it/s]\n"
     ]
    },
    {
     "name": "stdout",
     "output_type": "stream",
     "text": [
      "\n",
      "epoch 21, best valid loss = 60.90059948,count = 1\n"
     ]
    },
    {
     "name": "stderr",
     "output_type": "stream",
     "text": [
      "train loss = 1.306593: 100%|██████████| 94/94 [00:04<00:00, 19.31it/s]\n",
      "validation loss = 1.286619: 100%|██████████| 47/47 [00:03<00:00, 15.64it/s]\n"
     ]
    },
    {
     "name": "stdout",
     "output_type": "stream",
     "text": [
      "\n",
      "epoch 22, best valid loss = 60.47109711,count = 0\n"
     ]
    },
    {
     "name": "stderr",
     "output_type": "stream",
     "text": [
      "train loss = 1.303488: 100%|██████████| 94/94 [00:05<00:00, 18.39it/s]\n",
      "validation loss = 1.307787: 100%|██████████| 47/47 [00:03<00:00, 15.47it/s]\n"
     ]
    },
    {
     "name": "stdout",
     "output_type": "stream",
     "text": [
      "\n",
      "epoch 23, best valid loss = 60.47109711,count = 1\n"
     ]
    },
    {
     "name": "stderr",
     "output_type": "stream",
     "text": [
      "train loss = 1.304495: 100%|██████████| 94/94 [00:05<00:00, 18.62it/s]\n",
      "validation loss = 1.304921: 100%|██████████| 47/47 [00:03<00:00, 15.47it/s]\n"
     ]
    },
    {
     "name": "stdout",
     "output_type": "stream",
     "text": [
      "\n",
      "epoch 24, best valid loss = 60.47109711,count = 2\n"
     ]
    },
    {
     "name": "stderr",
     "output_type": "stream",
     "text": [
      "train loss = 1.306840: 100%|██████████| 94/94 [00:05<00:00, 18.61it/s]\n",
      "validation loss = 1.293769: 100%|██████████| 47/47 [00:03<00:00, 15.51it/s]\n"
     ]
    },
    {
     "name": "stdout",
     "output_type": "stream",
     "text": [
      "\n",
      "epoch 25, best valid loss = 60.47109711,count = 3\n"
     ]
    },
    {
     "name": "stderr",
     "output_type": "stream",
     "text": [
      "train loss = 1.302519: 100%|██████████| 94/94 [00:05<00:00, 18.46it/s]\n",
      "validation loss = 1.290591: 100%|██████████| 47/47 [00:03<00:00, 15.48it/s]\n"
     ]
    },
    {
     "name": "stdout",
     "output_type": "stream",
     "text": [
      "\n",
      "epoch 26, best valid loss = 60.47109711,count = 4\n"
     ]
    },
    {
     "name": "stderr",
     "output_type": "stream",
     "text": [
      "train loss = 1.305009: 100%|██████████| 94/94 [00:05<00:00, 18.55it/s]\n",
      "validation loss = 1.293006: 100%|██████████| 47/47 [00:03<00:00, 15.38it/s]\n"
     ]
    },
    {
     "name": "stdout",
     "output_type": "stream",
     "text": [
      "\n",
      "epoch 27, best valid loss = 60.47109711,count = 5\n"
     ]
    },
    {
     "name": "stderr",
     "output_type": "stream",
     "text": [
      "train loss = 1.294564: 100%|██████████| 94/94 [00:05<00:00, 18.61it/s]\n",
      "validation loss = 1.289260: 100%|██████████| 47/47 [00:02<00:00, 15.92it/s]\n"
     ]
    },
    {
     "name": "stdout",
     "output_type": "stream",
     "text": [
      "\n",
      "epoch 28, best valid loss = 60.47109711,count = 6\n"
     ]
    },
    {
     "name": "stderr",
     "output_type": "stream",
     "text": [
      "train loss = 1.297173: 100%|██████████| 94/94 [00:05<00:00, 18.64it/s]\n",
      "validation loss = 1.301500: 100%|██████████| 47/47 [00:03<00:00, 15.61it/s]\n"
     ]
    },
    {
     "name": "stdout",
     "output_type": "stream",
     "text": [
      "\n",
      "epoch 29, best valid loss = 60.47109711,count = 7\n"
     ]
    },
    {
     "name": "stderr",
     "output_type": "stream",
     "text": [
      "train loss = 1.304031: 100%|██████████| 94/94 [00:04<00:00, 18.94it/s]\n",
      "validation loss = 1.295861: 100%|██████████| 47/47 [00:02<00:00, 15.97it/s]\n"
     ]
    },
    {
     "name": "stdout",
     "output_type": "stream",
     "text": [
      "\n",
      "epoch 30, best valid loss = 60.47109711,count = 8\n"
     ]
    },
    {
     "name": "stderr",
     "output_type": "stream",
     "text": [
      "train loss = 1.301905: 100%|██████████| 94/94 [00:05<00:00, 18.66it/s]\n",
      "validation loss = 1.285564: 100%|██████████| 47/47 [00:03<00:00, 15.08it/s]\n"
     ]
    },
    {
     "name": "stdout",
     "output_type": "stream",
     "text": [
      "\n",
      "epoch 31, best valid loss = 60.42152023,count = 0\n"
     ]
    },
    {
     "name": "stderr",
     "output_type": "stream",
     "text": [
      "train loss = 1.304710: 100%|██████████| 94/94 [00:05<00:00, 18.75it/s]\n",
      "validation loss = 1.320241: 100%|██████████| 47/47 [00:02<00:00, 15.92it/s]\n"
     ]
    },
    {
     "name": "stdout",
     "output_type": "stream",
     "text": [
      "\n",
      "epoch 32, best valid loss = 60.42152023,count = 1\n"
     ]
    },
    {
     "name": "stderr",
     "output_type": "stream",
     "text": [
      "train loss = 1.302340: 100%|██████████| 94/94 [00:05<00:00, 18.78it/s]\n",
      "validation loss = 1.298650: 100%|██████████| 47/47 [00:02<00:00, 15.67it/s]\n"
     ]
    },
    {
     "name": "stdout",
     "output_type": "stream",
     "text": [
      "\n",
      "epoch 33, best valid loss = 60.42152023,count = 2\n"
     ]
    },
    {
     "name": "stderr",
     "output_type": "stream",
     "text": [
      "train loss = 1.304835: 100%|██████████| 94/94 [00:04<00:00, 18.84it/s]\n",
      "validation loss = 1.297005: 100%|██████████| 47/47 [00:02<00:00, 15.81it/s]\n"
     ]
    },
    {
     "name": "stdout",
     "output_type": "stream",
     "text": [
      "\n",
      "epoch 34, best valid loss = 60.42152023,count = 3\n"
     ]
    },
    {
     "name": "stderr",
     "output_type": "stream",
     "text": [
      "train loss = 1.298523: 100%|██████████| 94/94 [00:05<00:00, 18.53it/s]\n",
      "validation loss = 1.280784: 100%|██████████| 47/47 [00:03<00:00, 15.64it/s]\n"
     ]
    },
    {
     "name": "stdout",
     "output_type": "stream",
     "text": [
      "\n",
      "epoch 35, best valid loss = 60.19686639,count = 0\n"
     ]
    },
    {
     "name": "stderr",
     "output_type": "stream",
     "text": [
      "train loss = 1.302258: 100%|██████████| 94/94 [00:05<00:00, 18.78it/s]\n",
      "validation loss = 1.286850: 100%|██████████| 47/47 [00:02<00:00, 15.69it/s]\n"
     ]
    },
    {
     "name": "stdout",
     "output_type": "stream",
     "text": [
      "\n",
      "epoch 36, best valid loss = 60.19686639,count = 1\n"
     ]
    },
    {
     "name": "stderr",
     "output_type": "stream",
     "text": [
      "train loss = 1.299842: 100%|██████████| 94/94 [00:04<00:00, 18.94it/s]\n",
      "validation loss = 1.289232: 100%|██████████| 47/47 [00:03<00:00, 15.48it/s]\n"
     ]
    },
    {
     "name": "stdout",
     "output_type": "stream",
     "text": [
      "\n",
      "epoch 37, best valid loss = 60.19686639,count = 2\n"
     ]
    },
    {
     "name": "stderr",
     "output_type": "stream",
     "text": [
      "train loss = 1.300124: 100%|██████████| 94/94 [00:04<00:00, 18.81it/s]\n",
      "validation loss = 1.308764: 100%|██████████| 47/47 [00:02<00:00, 16.41it/s]\n"
     ]
    },
    {
     "name": "stdout",
     "output_type": "stream",
     "text": [
      "\n",
      "epoch 38, best valid loss = 60.19686639,count = 3\n"
     ]
    },
    {
     "name": "stderr",
     "output_type": "stream",
     "text": [
      "train loss = 1.293762: 100%|██████████| 94/94 [00:04<00:00, 18.87it/s]\n",
      "validation loss = 1.289574: 100%|██████████| 47/47 [00:03<00:00, 15.37it/s]\n"
     ]
    },
    {
     "name": "stdout",
     "output_type": "stream",
     "text": [
      "\n",
      "epoch 39, best valid loss = 60.19686639,count = 4\n"
     ]
    },
    {
     "name": "stderr",
     "output_type": "stream",
     "text": [
      "train loss = 1.296085: 100%|██████████| 94/94 [00:05<00:00, 18.44it/s]\n",
      "validation loss = 1.292554: 100%|██████████| 47/47 [00:03<00:00, 15.38it/s]\n"
     ]
    },
    {
     "name": "stdout",
     "output_type": "stream",
     "text": [
      "\n",
      "epoch 40, best valid loss = 60.19686639,count = 5\n"
     ]
    },
    {
     "name": "stderr",
     "output_type": "stream",
     "text": [
      "train loss = 1.301164: 100%|██████████| 94/94 [00:05<00:00, 18.60it/s]\n",
      "validation loss = 1.289559: 100%|██████████| 47/47 [00:03<00:00, 15.48it/s]\n"
     ]
    },
    {
     "name": "stdout",
     "output_type": "stream",
     "text": [
      "\n",
      "epoch 41, best valid loss = 60.19686639,count = 6\n"
     ]
    },
    {
     "name": "stderr",
     "output_type": "stream",
     "text": [
      "train loss = 1.297824: 100%|██████████| 94/94 [00:05<00:00, 18.67it/s]\n",
      "validation loss = 1.285298: 100%|██████████| 47/47 [00:02<00:00, 15.70it/s]\n"
     ]
    },
    {
     "name": "stdout",
     "output_type": "stream",
     "text": [
      "\n",
      "epoch 42, best valid loss = 60.19686639,count = 7\n"
     ]
    },
    {
     "name": "stderr",
     "output_type": "stream",
     "text": [
      "train loss = 1.298762: 100%|██████████| 94/94 [00:04<00:00, 19.03it/s]\n",
      "validation loss = 1.305919: 100%|██████████| 47/47 [00:03<00:00, 15.62it/s]\n"
     ]
    },
    {
     "name": "stdout",
     "output_type": "stream",
     "text": [
      "\n",
      "epoch 43, best valid loss = 60.19686639,count = 8\n"
     ]
    },
    {
     "name": "stderr",
     "output_type": "stream",
     "text": [
      "train loss = 1.300168: 100%|██████████| 94/94 [00:04<00:00, 18.88it/s]\n",
      "validation loss = 1.293090: 100%|██████████| 47/47 [00:03<00:00, 15.38it/s]\n"
     ]
    },
    {
     "name": "stdout",
     "output_type": "stream",
     "text": [
      "\n",
      "epoch 44, best valid loss = 60.19686639,count = 9\n"
     ]
    },
    {
     "name": "stderr",
     "output_type": "stream",
     "text": [
      "train loss = 1.299605: 100%|██████████| 94/94 [00:05<00:00, 18.45it/s]\n",
      "validation loss = 1.292476: 100%|██████████| 47/47 [00:03<00:00, 15.18it/s]\n"
     ]
    },
    {
     "name": "stdout",
     "output_type": "stream",
     "text": [
      "\n",
      "epoch 45, best valid loss = 60.19686639,count = 10\n"
     ]
    },
    {
     "name": "stderr",
     "output_type": "stream",
     "text": [
      "train loss = 1.296597: 100%|██████████| 94/94 [00:05<00:00, 18.33it/s]\n",
      "validation loss = 1.283953: 100%|██████████| 47/47 [00:03<00:00, 15.63it/s]\n"
     ]
    },
    {
     "name": "stdout",
     "output_type": "stream",
     "text": [
      "\n",
      "epoch 46, best valid loss = 60.19686639,count = 11\n"
     ]
    },
    {
     "name": "stderr",
     "output_type": "stream",
     "text": [
      "train loss = 1.298810: 100%|██████████| 94/94 [00:05<00:00, 18.52it/s]\n",
      "validation loss = 1.302168: 100%|██████████| 47/47 [00:03<00:00, 15.07it/s]\n"
     ]
    },
    {
     "name": "stdout",
     "output_type": "stream",
     "text": [
      "\n",
      "epoch 47, best valid loss = 60.19686639,count = 12\n"
     ]
    },
    {
     "name": "stderr",
     "output_type": "stream",
     "text": [
      "train loss = 1.295805: 100%|██████████| 94/94 [00:05<00:00, 18.73it/s]\n",
      "validation loss = 1.286370: 100%|██████████| 47/47 [00:03<00:00, 15.42it/s]\n"
     ]
    },
    {
     "name": "stdout",
     "output_type": "stream",
     "text": [
      "\n",
      "epoch 48, best valid loss = 60.19686639,count = 13\n"
     ]
    },
    {
     "name": "stderr",
     "output_type": "stream",
     "text": [
      "train loss = 1.294721: 100%|██████████| 94/94 [00:05<00:00, 18.72it/s]\n",
      "validation loss = 1.282541: 100%|██████████| 47/47 [00:03<00:00, 15.07it/s]\n"
     ]
    },
    {
     "name": "stdout",
     "output_type": "stream",
     "text": [
      "\n",
      "epoch 49, best valid loss = 60.19686639,count = 14\n"
     ]
    },
    {
     "name": "stderr",
     "output_type": "stream",
     "text": [
      "train loss = 1.299425: 100%|██████████| 94/94 [00:05<00:00, 18.60it/s]\n",
      "validation loss = 1.289771: 100%|██████████| 47/47 [00:03<00:00, 14.90it/s]\n"
     ]
    },
    {
     "name": "stdout",
     "output_type": "stream",
     "text": [
      "\n",
      "epoch 50, best valid loss = 60.19686639,count = 15\n"
     ]
    },
    {
     "name": "stderr",
     "output_type": "stream",
     "text": [
      "train loss = 1.292096: 100%|██████████| 94/94 [00:04<00:00, 18.94it/s]\n",
      "validation loss = 1.285555: 100%|██████████| 47/47 [00:03<00:00, 15.51it/s]\n"
     ]
    },
    {
     "name": "stdout",
     "output_type": "stream",
     "text": [
      "\n",
      "epoch 51, best valid loss = 60.19686639,count = 16\n"
     ]
    },
    {
     "name": "stderr",
     "output_type": "stream",
     "text": [
      "train loss = 1.293332: 100%|██████████| 94/94 [00:05<00:00, 18.51it/s]\n",
      "validation loss = 1.278918: 100%|██████████| 47/47 [00:03<00:00, 15.44it/s]\n"
     ]
    },
    {
     "name": "stdout",
     "output_type": "stream",
     "text": [
      "\n",
      "epoch 52, best valid loss = 60.10913730,count = 0\n"
     ]
    },
    {
     "name": "stderr",
     "output_type": "stream",
     "text": [
      "train loss = 1.296687: 100%|██████████| 94/94 [00:04<00:00, 19.10it/s]\n",
      "validation loss = 1.294388: 100%|██████████| 47/47 [00:03<00:00, 15.40it/s]\n"
     ]
    },
    {
     "name": "stdout",
     "output_type": "stream",
     "text": [
      "\n",
      "epoch 53, best valid loss = 60.10913730,count = 1\n"
     ]
    },
    {
     "name": "stderr",
     "output_type": "stream",
     "text": [
      "train loss = 1.289367: 100%|██████████| 94/94 [00:04<00:00, 18.94it/s]\n",
      "validation loss = 1.287012: 100%|██████████| 47/47 [00:02<00:00, 15.78it/s]\n"
     ]
    },
    {
     "name": "stdout",
     "output_type": "stream",
     "text": [
      "\n",
      "epoch 54, best valid loss = 60.10913730,count = 2\n"
     ]
    },
    {
     "name": "stderr",
     "output_type": "stream",
     "text": [
      "train loss = 1.299279: 100%|██████████| 94/94 [00:05<00:00, 18.71it/s]\n",
      "validation loss = 1.280439: 100%|██████████| 47/47 [00:03<00:00, 15.21it/s]\n"
     ]
    },
    {
     "name": "stdout",
     "output_type": "stream",
     "text": [
      "\n",
      "epoch 55, best valid loss = 60.10913730,count = 3\n"
     ]
    },
    {
     "name": "stderr",
     "output_type": "stream",
     "text": [
      "train loss = 1.291564: 100%|██████████| 94/94 [00:05<00:00, 18.31it/s]\n",
      "validation loss = 1.290907: 100%|██████████| 47/47 [00:03<00:00, 15.21it/s]\n"
     ]
    },
    {
     "name": "stdout",
     "output_type": "stream",
     "text": [
      "\n",
      "epoch 56, best valid loss = 60.10913730,count = 4\n"
     ]
    },
    {
     "name": "stderr",
     "output_type": "stream",
     "text": [
      "train loss = 1.297993: 100%|██████████| 94/94 [00:05<00:00, 18.65it/s]\n",
      "validation loss = 1.289794: 100%|██████████| 47/47 [00:02<00:00, 15.67it/s]\n"
     ]
    },
    {
     "name": "stdout",
     "output_type": "stream",
     "text": [
      "\n",
      "epoch 57, best valid loss = 60.10913730,count = 5\n"
     ]
    },
    {
     "name": "stderr",
     "output_type": "stream",
     "text": [
      "train loss = 1.296204: 100%|██████████| 94/94 [00:04<00:00, 18.82it/s]\n",
      "validation loss = 1.286413: 100%|██████████| 47/47 [00:03<00:00, 15.50it/s]\n"
     ]
    },
    {
     "name": "stdout",
     "output_type": "stream",
     "text": [
      "\n",
      "epoch 58, best valid loss = 60.10913730,count = 6\n"
     ]
    },
    {
     "name": "stderr",
     "output_type": "stream",
     "text": [
      "train loss = 1.294652: 100%|██████████| 94/94 [00:04<00:00, 18.87it/s]\n",
      "validation loss = 1.288138: 100%|██████████| 47/47 [00:03<00:00, 15.53it/s]\n"
     ]
    },
    {
     "name": "stdout",
     "output_type": "stream",
     "text": [
      "\n",
      "epoch 59, best valid loss = 60.10913730,count = 7\n"
     ]
    },
    {
     "name": "stderr",
     "output_type": "stream",
     "text": [
      "train loss = 1.299159: 100%|██████████| 94/94 [00:05<00:00, 18.69it/s]\n",
      "validation loss = 1.288552: 100%|██████████| 47/47 [00:03<00:00, 14.95it/s]\n"
     ]
    },
    {
     "name": "stdout",
     "output_type": "stream",
     "text": [
      "\n",
      "epoch 60, best valid loss = 60.10913730,count = 8\n"
     ]
    },
    {
     "name": "stderr",
     "output_type": "stream",
     "text": [
      "train loss = 1.293714: 100%|██████████| 94/94 [00:05<00:00, 18.66it/s]\n",
      "validation loss = 1.287876: 100%|██████████| 47/47 [00:03<00:00, 15.48it/s]\n"
     ]
    },
    {
     "name": "stdout",
     "output_type": "stream",
     "text": [
      "\n",
      "epoch 61, best valid loss = 60.10913730,count = 9\n"
     ]
    },
    {
     "name": "stderr",
     "output_type": "stream",
     "text": [
      "train loss = 1.296389: 100%|██████████| 94/94 [00:04<00:00, 19.27it/s]\n",
      "validation loss = 1.284088: 100%|██████████| 47/47 [00:02<00:00, 15.76it/s]\n"
     ]
    },
    {
     "name": "stdout",
     "output_type": "stream",
     "text": [
      "\n",
      "epoch 62, best valid loss = 60.10913730,count = 10\n"
     ]
    },
    {
     "name": "stderr",
     "output_type": "stream",
     "text": [
      "train loss = 1.292836: 100%|██████████| 94/94 [00:04<00:00, 18.82it/s]\n",
      "validation loss = 1.285588: 100%|██████████| 47/47 [00:02<00:00, 15.68it/s]\n"
     ]
    },
    {
     "name": "stdout",
     "output_type": "stream",
     "text": [
      "\n",
      "epoch 63, best valid loss = 60.10913730,count = 11\n"
     ]
    },
    {
     "name": "stderr",
     "output_type": "stream",
     "text": [
      "train loss = 1.293310: 100%|██████████| 94/94 [00:04<00:00, 18.83it/s]\n",
      "validation loss = 1.279235: 100%|██████████| 47/47 [00:02<00:00, 16.28it/s]\n"
     ]
    },
    {
     "name": "stdout",
     "output_type": "stream",
     "text": [
      "\n",
      "epoch 64, best valid loss = 60.10913730,count = 12\n"
     ]
    },
    {
     "name": "stderr",
     "output_type": "stream",
     "text": [
      "train loss = 1.288507: 100%|██████████| 94/94 [00:05<00:00, 18.37it/s]\n",
      "validation loss = 1.286670: 100%|██████████| 47/47 [00:03<00:00, 15.32it/s]\n"
     ]
    },
    {
     "name": "stdout",
     "output_type": "stream",
     "text": [
      "\n",
      "epoch 65, best valid loss = 60.10913730,count = 13\n"
     ]
    },
    {
     "name": "stderr",
     "output_type": "stream",
     "text": [
      "train loss = 1.297147: 100%|██████████| 94/94 [00:04<00:00, 18.94it/s]\n",
      "validation loss = 1.279031: 100%|██████████| 47/47 [00:03<00:00, 15.58it/s]\n"
     ]
    },
    {
     "name": "stdout",
     "output_type": "stream",
     "text": [
      "\n",
      "epoch 66, best valid loss = 60.10913730,count = 14\n"
     ]
    },
    {
     "name": "stderr",
     "output_type": "stream",
     "text": [
      "train loss = 1.290071: 100%|██████████| 94/94 [00:05<00:00, 18.25it/s]\n",
      "validation loss = 1.278411: 100%|██████████| 47/47 [00:03<00:00, 15.54it/s]\n"
     ]
    },
    {
     "name": "stdout",
     "output_type": "stream",
     "text": [
      "\n",
      "epoch 67, best valid loss = 60.08531284,count = 0\n"
     ]
    },
    {
     "name": "stderr",
     "output_type": "stream",
     "text": [
      "train loss = 1.281997: 100%|██████████| 94/94 [00:05<00:00, 18.35it/s]\n",
      "validation loss = 1.279883: 100%|██████████| 47/47 [00:03<00:00, 15.36it/s]\n"
     ]
    },
    {
     "name": "stdout",
     "output_type": "stream",
     "text": [
      "\n",
      "epoch 68, best valid loss = 60.08531284,count = 1\n"
     ]
    },
    {
     "name": "stderr",
     "output_type": "stream",
     "text": [
      "train loss = 1.291516: 100%|██████████| 94/94 [00:05<00:00, 18.62it/s]\n",
      "validation loss = 1.277497: 100%|██████████| 47/47 [00:03<00:00, 15.22it/s]\n"
     ]
    },
    {
     "name": "stdout",
     "output_type": "stream",
     "text": [
      "\n",
      "epoch 69, best valid loss = 60.04235351,count = 0\n"
     ]
    },
    {
     "name": "stderr",
     "output_type": "stream",
     "text": [
      "train loss = 1.293848: 100%|██████████| 94/94 [00:05<00:00, 18.68it/s]\n",
      "validation loss = 1.281967: 100%|██████████| 47/47 [00:03<00:00, 15.32it/s]\n"
     ]
    },
    {
     "name": "stdout",
     "output_type": "stream",
     "text": [
      "\n",
      "epoch 70, best valid loss = 60.04235351,count = 1\n"
     ]
    },
    {
     "name": "stderr",
     "output_type": "stream",
     "text": [
      "train loss = 1.294366: 100%|██████████| 94/94 [00:04<00:00, 19.13it/s]\n",
      "validation loss = 1.284193: 100%|██████████| 47/47 [00:03<00:00, 15.24it/s]\n"
     ]
    },
    {
     "name": "stdout",
     "output_type": "stream",
     "text": [
      "\n",
      "epoch 71, best valid loss = 60.04235351,count = 2\n"
     ]
    },
    {
     "name": "stderr",
     "output_type": "stream",
     "text": [
      "train loss = 1.291777: 100%|██████████| 94/94 [00:05<00:00, 18.19it/s]\n",
      "validation loss = 1.279284: 100%|██████████| 47/47 [00:02<00:00, 15.78it/s]\n"
     ]
    },
    {
     "name": "stdout",
     "output_type": "stream",
     "text": [
      "\n",
      "epoch 72, best valid loss = 60.04235351,count = 3\n"
     ]
    },
    {
     "name": "stderr",
     "output_type": "stream",
     "text": [
      "train loss = 1.296884: 100%|██████████| 94/94 [00:05<00:00, 18.59it/s]\n",
      "validation loss = 1.277604: 100%|██████████| 47/47 [00:03<00:00, 15.13it/s]\n"
     ]
    },
    {
     "name": "stdout",
     "output_type": "stream",
     "text": [
      "\n",
      "epoch 73, best valid loss = 60.04235351,count = 4\n"
     ]
    },
    {
     "name": "stderr",
     "output_type": "stream",
     "text": [
      "train loss = 1.290604: 100%|██████████| 94/94 [00:05<00:00, 18.60it/s]\n",
      "validation loss = 1.283133: 100%|██████████| 47/47 [00:03<00:00, 15.31it/s]\n"
     ]
    },
    {
     "name": "stdout",
     "output_type": "stream",
     "text": [
      "\n",
      "epoch 74, best valid loss = 60.04235351,count = 5\n"
     ]
    },
    {
     "name": "stderr",
     "output_type": "stream",
     "text": [
      "train loss = 1.289837: 100%|██████████| 94/94 [00:05<00:00, 17.96it/s]\n",
      "validation loss = 1.274963: 100%|██████████| 47/47 [00:03<00:00, 15.18it/s]\n"
     ]
    },
    {
     "name": "stdout",
     "output_type": "stream",
     "text": [
      "\n",
      "epoch 75, best valid loss = 59.92327344,count = 0\n"
     ]
    },
    {
     "name": "stderr",
     "output_type": "stream",
     "text": [
      "train loss = 1.288991: 100%|██████████| 94/94 [00:05<00:00, 18.00it/s]\n",
      "validation loss = 1.276856: 100%|██████████| 47/47 [00:03<00:00, 15.32it/s]\n"
     ]
    },
    {
     "name": "stdout",
     "output_type": "stream",
     "text": [
      "\n",
      "epoch 76, best valid loss = 59.92327344,count = 1\n"
     ]
    },
    {
     "name": "stderr",
     "output_type": "stream",
     "text": [
      "train loss = 1.295735: 100%|██████████| 94/94 [00:05<00:00, 18.53it/s]\n",
      "validation loss = 1.285147: 100%|██████████| 47/47 [00:03<00:00, 15.50it/s]\n"
     ]
    },
    {
     "name": "stdout",
     "output_type": "stream",
     "text": [
      "\n",
      "epoch 77, best valid loss = 59.92327344,count = 2\n"
     ]
    },
    {
     "name": "stderr",
     "output_type": "stream",
     "text": [
      "train loss = 1.286958: 100%|██████████| 94/94 [00:05<00:00, 18.18it/s]\n",
      "validation loss = 1.287327: 100%|██████████| 47/47 [00:03<00:00, 15.15it/s]\n"
     ]
    },
    {
     "name": "stdout",
     "output_type": "stream",
     "text": [
      "\n",
      "epoch 78, best valid loss = 59.92327344,count = 3\n"
     ]
    },
    {
     "name": "stderr",
     "output_type": "stream",
     "text": [
      "train loss = 1.290875: 100%|██████████| 94/94 [00:04<00:00, 18.92it/s]\n",
      "validation loss = 1.273893: 100%|██████████| 47/47 [00:03<00:00, 15.60it/s]\n"
     ]
    },
    {
     "name": "stdout",
     "output_type": "stream",
     "text": [
      "\n",
      "epoch 79, best valid loss = 59.87296951,count = 0\n"
     ]
    },
    {
     "name": "stderr",
     "output_type": "stream",
     "text": [
      "train loss = 1.286510: 100%|██████████| 94/94 [00:05<00:00, 18.61it/s]\n",
      "validation loss = 1.283254: 100%|██████████| 47/47 [00:03<00:00, 15.58it/s]\n"
     ]
    },
    {
     "name": "stdout",
     "output_type": "stream",
     "text": [
      "\n",
      "epoch 80, best valid loss = 59.87296951,count = 1\n"
     ]
    },
    {
     "name": "stderr",
     "output_type": "stream",
     "text": [
      "train loss = 1.295231: 100%|██████████| 94/94 [00:05<00:00, 18.64it/s]\n",
      "validation loss = 1.278524: 100%|██████████| 47/47 [00:03<00:00, 15.18it/s]\n"
     ]
    },
    {
     "name": "stdout",
     "output_type": "stream",
     "text": [
      "\n",
      "epoch 81, best valid loss = 59.87296951,count = 2\n"
     ]
    },
    {
     "name": "stderr",
     "output_type": "stream",
     "text": [
      "train loss = 1.289830: 100%|██████████| 94/94 [00:05<00:00, 18.57it/s]\n",
      "validation loss = 1.282796: 100%|██████████| 47/47 [00:03<00:00, 15.54it/s]\n"
     ]
    },
    {
     "name": "stdout",
     "output_type": "stream",
     "text": [
      "\n",
      "epoch 82, best valid loss = 59.87296951,count = 3\n"
     ]
    },
    {
     "name": "stderr",
     "output_type": "stream",
     "text": [
      "train loss = 1.293530: 100%|██████████| 94/94 [00:04<00:00, 18.89it/s]\n",
      "validation loss = 1.282014: 100%|██████████| 47/47 [00:03<00:00, 15.62it/s]\n"
     ]
    },
    {
     "name": "stdout",
     "output_type": "stream",
     "text": [
      "\n",
      "epoch 83, best valid loss = 59.87296951,count = 4\n"
     ]
    },
    {
     "name": "stderr",
     "output_type": "stream",
     "text": [
      "train loss = 1.291648: 100%|██████████| 94/94 [00:05<00:00, 18.69it/s]\n",
      "validation loss = 1.275775: 100%|██████████| 47/47 [00:03<00:00, 15.42it/s]\n"
     ]
    },
    {
     "name": "stdout",
     "output_type": "stream",
     "text": [
      "\n",
      "epoch 84, best valid loss = 59.87296951,count = 5\n"
     ]
    },
    {
     "name": "stderr",
     "output_type": "stream",
     "text": [
      "train loss = 1.286890: 100%|██████████| 94/94 [00:05<00:00, 18.59it/s]\n",
      "validation loss = 1.290506: 100%|██████████| 47/47 [00:03<00:00, 15.16it/s]\n"
     ]
    },
    {
     "name": "stdout",
     "output_type": "stream",
     "text": [
      "\n",
      "epoch 85, best valid loss = 59.87296951,count = 6\n"
     ]
    },
    {
     "name": "stderr",
     "output_type": "stream",
     "text": [
      "train loss = 1.293252: 100%|██████████| 94/94 [00:05<00:00, 18.37it/s]\n",
      "validation loss = 1.267742: 100%|██████████| 47/47 [00:03<00:00, 15.65it/s]\n"
     ]
    },
    {
     "name": "stdout",
     "output_type": "stream",
     "text": [
      "\n",
      "epoch 86, best valid loss = 59.58388066,count = 0\n"
     ]
    },
    {
     "name": "stderr",
     "output_type": "stream",
     "text": [
      "train loss = 1.287979: 100%|██████████| 94/94 [00:05<00:00, 18.37it/s]\n",
      "validation loss = 1.285434: 100%|██████████| 47/47 [00:03<00:00, 15.33it/s]\n"
     ]
    },
    {
     "name": "stdout",
     "output_type": "stream",
     "text": [
      "\n",
      "epoch 87, best valid loss = 59.58388066,count = 1\n"
     ]
    },
    {
     "name": "stderr",
     "output_type": "stream",
     "text": [
      "train loss = 1.294764: 100%|██████████| 94/94 [00:05<00:00, 18.28it/s]\n",
      "validation loss = 1.274117: 100%|██████████| 47/47 [00:03<00:00, 15.60it/s]\n"
     ]
    },
    {
     "name": "stdout",
     "output_type": "stream",
     "text": [
      "\n",
      "epoch 88, best valid loss = 59.58388066,count = 2\n"
     ]
    },
    {
     "name": "stderr",
     "output_type": "stream",
     "text": [
      "train loss = 1.288060: 100%|██████████| 94/94 [00:05<00:00, 18.72it/s]\n",
      "validation loss = 1.276944: 100%|██████████| 47/47 [00:03<00:00, 15.16it/s]\n"
     ]
    },
    {
     "name": "stdout",
     "output_type": "stream",
     "text": [
      "\n",
      "epoch 89, best valid loss = 59.58388066,count = 3\n"
     ]
    },
    {
     "name": "stderr",
     "output_type": "stream",
     "text": [
      "train loss = 1.290341: 100%|██████████| 94/94 [00:05<00:00, 18.38it/s]\n",
      "validation loss = 1.283520: 100%|██████████| 47/47 [00:03<00:00, 15.29it/s]\n"
     ]
    },
    {
     "name": "stdout",
     "output_type": "stream",
     "text": [
      "\n",
      "epoch 90, best valid loss = 59.58388066,count = 4\n"
     ]
    },
    {
     "name": "stderr",
     "output_type": "stream",
     "text": [
      "train loss = 1.291158: 100%|██████████| 94/94 [00:04<00:00, 19.06it/s]\n",
      "validation loss = 1.273405: 100%|██████████| 47/47 [00:03<00:00, 15.47it/s]\n"
     ]
    },
    {
     "name": "stdout",
     "output_type": "stream",
     "text": [
      "\n",
      "epoch 91, best valid loss = 59.58388066,count = 5\n"
     ]
    },
    {
     "name": "stderr",
     "output_type": "stream",
     "text": [
      "train loss = 1.292857: 100%|██████████| 94/94 [00:05<00:00, 18.34it/s]\n",
      "validation loss = 1.277613:  34%|███▍      | 16/47 [00:01<00:01, 17.05it/s]"
     ]
    }
   ],
   "source": [
    "%load 1.1.train_model.py\n",
    "%run 1.1.train_model.py"
   ]
  },
  {
   "cell_type": "code",
   "execution_count": null,
   "id": "3a01b7a5-d477-4170-8bcb-f4e42870e2e2",
   "metadata": {},
   "outputs": [],
   "source": [
    "!/usr/bin/shutdown"
   ]
  },
  {
   "cell_type": "code",
   "execution_count": null,
   "id": "7b2e3dec-b960-4b20-800a-c804738de018",
   "metadata": {},
   "outputs": [],
   "source": []
  }
 ],
 "metadata": {
  "kernelspec": {
   "display_name": "py38",
   "language": "python",
   "name": "py38"
  },
  "language_info": {
   "codemirror_mode": {
    "name": "ipython",
    "version": 3
   },
   "file_extension": ".py",
   "mimetype": "text/x-python",
   "name": "python",
   "nbconvert_exporter": "python",
   "pygments_lexer": "ipython3",
   "version": "3.8.13"
  }
 },
 "nbformat": 4,
 "nbformat_minor": 5
}
