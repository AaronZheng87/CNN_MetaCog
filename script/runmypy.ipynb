{
 "cells": [
  {
   "cell_type": "code",
   "execution_count": null,
   "id": "9a1ffe47-09b2-497d-ad1f-fff7c48f286a",
   "metadata": {},
   "outputs": [
    {
     "name": "stderr",
     "output_type": "stream",
     "text": [
      "train loss = 1.428120: 100%|██████████| 94/94 [00:26<00:00,  3.58it/s]\n",
      "validation loss = 1.420303: 100%|██████████| 47/47 [00:11<00:00,  4.26it/s]\n"
     ]
    },
    {
     "name": "stdout",
     "output_type": "stream",
     "text": [
      "\n",
      "epoch 1, best valid loss = inf,count = 0\n"
     ]
    },
    {
     "name": "stderr",
     "output_type": "stream",
     "text": [
      "train loss = 1.389807: 100%|██████████| 94/94 [00:22<00:00,  4.22it/s]\n",
      "validation loss = 1.359252: 100%|██████████| 47/47 [00:09<00:00,  4.80it/s]\n"
     ]
    },
    {
     "name": "stdout",
     "output_type": "stream",
     "text": [
      "\n",
      "epoch 2, best valid loss = inf,count = 0\n"
     ]
    },
    {
     "name": "stderr",
     "output_type": "stream",
     "text": [
      "train loss = 1.366879: 100%|██████████| 94/94 [00:22<00:00,  4.24it/s]\n",
      "validation loss = 1.397286: 100%|██████████| 47/47 [00:09<00:00,  4.86it/s]\n"
     ]
    },
    {
     "name": "stdout",
     "output_type": "stream",
     "text": [
      "\n",
      "epoch 3, best valid loss = inf,count = 0\n"
     ]
    },
    {
     "name": "stderr",
     "output_type": "stream",
     "text": [
      "train loss = 1.362035: 100%|██████████| 94/94 [00:22<00:00,  4.19it/s]\n",
      "validation loss = 1.339565: 100%|██████████| 47/47 [00:09<00:00,  5.06it/s]\n"
     ]
    },
    {
     "name": "stdout",
     "output_type": "stream",
     "text": [
      "\n",
      "epoch 4, best valid loss = 62.95955324,count = 0\n"
     ]
    },
    {
     "name": "stderr",
     "output_type": "stream",
     "text": [
      "train loss = 1.341924: 100%|██████████| 94/94 [00:22<00:00,  4.18it/s]\n",
      "validation loss = 1.362199: 100%|██████████| 47/47 [00:09<00:00,  4.98it/s]\n"
     ]
    },
    {
     "name": "stdout",
     "output_type": "stream",
     "text": [
      "\n",
      "epoch 5, best valid loss = 62.95955324,count = 1\n"
     ]
    },
    {
     "name": "stderr",
     "output_type": "stream",
     "text": [
      "train loss = 1.341141: 100%|██████████| 94/94 [00:22<00:00,  4.14it/s]\n",
      "validation loss = 1.332256: 100%|██████████| 47/47 [00:09<00:00,  4.86it/s]\n"
     ]
    },
    {
     "name": "stdout",
     "output_type": "stream",
     "text": [
      "\n",
      "epoch 6, best valid loss = 62.61603558,count = 0\n"
     ]
    },
    {
     "name": "stderr",
     "output_type": "stream",
     "text": [
      "train loss = 1.325512: 100%|██████████| 94/94 [00:22<00:00,  4.19it/s]\n",
      "validation loss = 1.332335: 100%|██████████| 47/47 [00:09<00:00,  4.88it/s]\n"
     ]
    },
    {
     "name": "stdout",
     "output_type": "stream",
     "text": [
      "\n",
      "epoch 7, best valid loss = 62.61603558,count = 1\n"
     ]
    },
    {
     "name": "stderr",
     "output_type": "stream",
     "text": [
      "train loss = 1.318017: 100%|██████████| 94/94 [00:22<00:00,  4.17it/s]\n",
      "validation loss = 1.331261: 100%|██████████| 47/47 [00:09<00:00,  4.72it/s]\n"
     ]
    },
    {
     "name": "stdout",
     "output_type": "stream",
     "text": [
      "\n",
      "epoch 8, best valid loss = 62.56925261,count = 0\n"
     ]
    },
    {
     "name": "stderr",
     "output_type": "stream",
     "text": [
      "train loss = 1.317391: 100%|██████████| 94/94 [00:22<00:00,  4.13it/s]\n",
      "validation loss = 1.346664: 100%|██████████| 47/47 [00:09<00:00,  4.96it/s]\n"
     ]
    },
    {
     "name": "stdout",
     "output_type": "stream",
     "text": [
      "\n",
      "epoch 9, best valid loss = 62.56925261,count = 1\n"
     ]
    },
    {
     "name": "stderr",
     "output_type": "stream",
     "text": [
      "train loss = 1.310589: 100%|██████████| 94/94 [00:22<00:00,  4.12it/s]\n",
      "validation loss = 1.325481: 100%|██████████| 47/47 [00:09<00:00,  4.85it/s]\n"
     ]
    },
    {
     "name": "stdout",
     "output_type": "stream",
     "text": [
      "\n",
      "epoch 10, best valid loss = 62.29758739,count = 0\n"
     ]
    },
    {
     "name": "stderr",
     "output_type": "stream",
     "text": [
      "train loss = 1.321593: 100%|██████████| 94/94 [00:22<00:00,  4.22it/s]\n",
      "validation loss = 1.322828: 100%|██████████| 47/47 [00:09<00:00,  4.79it/s]\n"
     ]
    },
    {
     "name": "stdout",
     "output_type": "stream",
     "text": [
      "\n",
      "epoch 11, best valid loss = 62.17289543,count = 0\n"
     ]
    },
    {
     "name": "stderr",
     "output_type": "stream",
     "text": [
      "train loss = 1.317762: 100%|██████████| 94/94 [00:22<00:00,  4.13it/s]\n",
      "validation loss = 1.325515: 100%|██████████| 47/47 [00:09<00:00,  4.87it/s]\n"
     ]
    },
    {
     "name": "stdout",
     "output_type": "stream",
     "text": [
      "\n",
      "epoch 12, best valid loss = 62.17289543,count = 1\n"
     ]
    },
    {
     "name": "stderr",
     "output_type": "stream",
     "text": [
      "train loss = 1.323108: 100%|██████████| 94/94 [00:22<00:00,  4.25it/s]\n",
      "validation loss = 1.321712: 100%|██████████| 47/47 [00:09<00:00,  4.91it/s]\n"
     ]
    },
    {
     "name": "stdout",
     "output_type": "stream",
     "text": [
      "\n",
      "epoch 13, best valid loss = 62.12044084,count = 0\n"
     ]
    },
    {
     "name": "stderr",
     "output_type": "stream",
     "text": [
      "train loss = 1.323415: 100%|██████████| 94/94 [00:23<00:00,  4.08it/s]\n",
      "validation loss = 1.325113: 100%|██████████| 47/47 [00:09<00:00,  4.78it/s]\n"
     ]
    },
    {
     "name": "stdout",
     "output_type": "stream",
     "text": [
      "\n",
      "epoch 14, best valid loss = 62.12044084,count = 1\n"
     ]
    },
    {
     "name": "stderr",
     "output_type": "stream",
     "text": [
      "train loss = 1.311525: 100%|██████████| 94/94 [00:22<00:00,  4.20it/s]\n",
      "validation loss = 1.309943: 100%|██████████| 47/47 [00:09<00:00,  4.79it/s]\n"
     ]
    },
    {
     "name": "stdout",
     "output_type": "stream",
     "text": [
      "\n",
      "epoch 15, best valid loss = 61.56734121,count = 0\n"
     ]
    },
    {
     "name": "stderr",
     "output_type": "stream",
     "text": [
      "train loss = 1.311338: 100%|██████████| 94/94 [00:22<00:00,  4.12it/s]\n",
      "validation loss = 1.326872: 100%|██████████| 47/47 [00:09<00:00,  4.97it/s]\n"
     ]
    },
    {
     "name": "stdout",
     "output_type": "stream",
     "text": [
      "\n",
      "epoch 16, best valid loss = 61.56734121,count = 1\n"
     ]
    },
    {
     "name": "stderr",
     "output_type": "stream",
     "text": [
      "train loss = 1.315167: 100%|██████████| 94/94 [00:23<00:00,  4.09it/s]\n",
      "validation loss = 1.325361: 100%|██████████| 47/47 [00:09<00:00,  5.01it/s]\n"
     ]
    },
    {
     "name": "stdout",
     "output_type": "stream",
     "text": [
      "\n",
      "epoch 17, best valid loss = 61.56734121,count = 2\n"
     ]
    },
    {
     "name": "stderr",
     "output_type": "stream",
     "text": [
      "train loss = 1.315942: 100%|██████████| 94/94 [00:22<00:00,  4.23it/s]\n",
      "validation loss = 1.332888: 100%|██████████| 47/47 [00:09<00:00,  4.80it/s]\n"
     ]
    },
    {
     "name": "stdout",
     "output_type": "stream",
     "text": [
      "\n",
      "epoch 18, best valid loss = 61.56734121,count = 3\n"
     ]
    },
    {
     "name": "stderr",
     "output_type": "stream",
     "text": [
      "train loss = 1.311943: 100%|██████████| 94/94 [00:22<00:00,  4.17it/s]\n",
      "validation loss = 1.317884: 100%|██████████| 47/47 [00:09<00:00,  4.91it/s]\n"
     ]
    },
    {
     "name": "stdout",
     "output_type": "stream",
     "text": [
      "\n",
      "epoch 19, best valid loss = 61.56734121,count = 4\n"
     ]
    },
    {
     "name": "stderr",
     "output_type": "stream",
     "text": [
      "train loss = 1.310408: 100%|██████████| 94/94 [00:22<00:00,  4.10it/s]\n",
      "validation loss = 1.319776: 100%|██████████| 47/47 [00:09<00:00,  4.84it/s]\n"
     ]
    },
    {
     "name": "stdout",
     "output_type": "stream",
     "text": [
      "\n",
      "epoch 20, best valid loss = 61.56734121,count = 5\n"
     ]
    },
    {
     "name": "stderr",
     "output_type": "stream",
     "text": [
      "train loss = 1.315276: 100%|██████████| 94/94 [00:22<00:00,  4.11it/s]\n",
      "validation loss = 1.321421: 100%|██████████| 47/47 [00:09<00:00,  4.83it/s]\n"
     ]
    },
    {
     "name": "stdout",
     "output_type": "stream",
     "text": [
      "\n",
      "epoch 21, best valid loss = 61.56734121,count = 6\n"
     ]
    },
    {
     "name": "stderr",
     "output_type": "stream",
     "text": [
      "train loss = 1.308208: 100%|██████████| 94/94 [00:22<00:00,  4.15it/s]\n",
      "validation loss = 1.302581: 100%|██████████| 47/47 [00:09<00:00,  5.00it/s]\n"
     ]
    },
    {
     "name": "stdout",
     "output_type": "stream",
     "text": [
      "\n",
      "epoch 22, best valid loss = 61.22129953,count = 0\n"
     ]
    },
    {
     "name": "stderr",
     "output_type": "stream",
     "text": [
      "train loss = 1.314954: 100%|██████████| 94/94 [00:22<00:00,  4.21it/s]\n",
      "validation loss = 1.308768: 100%|██████████| 47/47 [00:09<00:00,  4.92it/s]\n"
     ]
    },
    {
     "name": "stdout",
     "output_type": "stream",
     "text": [
      "\n",
      "epoch 23, best valid loss = 61.22129953,count = 1\n"
     ]
    },
    {
     "name": "stderr",
     "output_type": "stream",
     "text": [
      "train loss = 1.309979: 100%|██████████| 94/94 [00:22<00:00,  4.20it/s]\n",
      "validation loss = 1.299683: 100%|██████████| 47/47 [00:09<00:00,  4.88it/s]\n"
     ]
    },
    {
     "name": "stdout",
     "output_type": "stream",
     "text": [
      "\n",
      "epoch 24, best valid loss = 61.08510351,count = 0\n"
     ]
    },
    {
     "name": "stderr",
     "output_type": "stream",
     "text": [
      "train loss = 1.307001: 100%|██████████| 94/94 [00:22<00:00,  4.20it/s]\n",
      "validation loss = 1.311500: 100%|██████████| 47/47 [00:09<00:00,  4.90it/s]\n"
     ]
    },
    {
     "name": "stdout",
     "output_type": "stream",
     "text": [
      "\n",
      "epoch 25, best valid loss = 61.08510351,count = 1\n"
     ]
    },
    {
     "name": "stderr",
     "output_type": "stream",
     "text": [
      "train loss = 1.307221: 100%|██████████| 94/94 [00:22<00:00,  4.18it/s]\n",
      "validation loss = 1.311058: 100%|██████████| 47/47 [00:09<00:00,  4.80it/s]\n"
     ]
    },
    {
     "name": "stdout",
     "output_type": "stream",
     "text": [
      "\n",
      "epoch 26, best valid loss = 61.08510351,count = 2\n"
     ]
    },
    {
     "name": "stderr",
     "output_type": "stream",
     "text": [
      "train loss = 1.306259: 100%|██████████| 94/94 [00:22<00:00,  4.15it/s]\n",
      "validation loss = 1.304230:  38%|███▊      | 18/47 [00:03<00:05,  5.02it/s]"
     ]
    }
   ],
   "source": [
    "%load 1.1.train_model.py\n",
    "%run 1.1.train_model.py"
   ]
  },
  {
   "cell_type": "code",
   "execution_count": null,
   "id": "3a01b7a5-d477-4170-8bcb-f4e42870e2e2",
   "metadata": {},
   "outputs": [],
   "source": [
    "!/usr/bin/shutdown"
   ]
  }
 ],
 "metadata": {
  "kernelspec": {
   "display_name": "py38",
   "language": "python",
   "name": "py38"
  },
  "language_info": {
   "codemirror_mode": {
    "name": "ipython",
    "version": 3
   },
   "file_extension": ".py",
   "mimetype": "text/x-python",
   "name": "python",
   "nbconvert_exporter": "python",
   "pygments_lexer": "ipython3",
   "version": "3.8.13"
  }
 },
 "nbformat": 4,
 "nbformat_minor": 5
}
