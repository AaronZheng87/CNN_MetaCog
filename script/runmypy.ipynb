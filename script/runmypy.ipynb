{
 "cells": [
  {
   "cell_type": "code",
   "execution_count": null,
   "id": "9a1ffe47-09b2-497d-ad1f-fff7c48f286a",
   "metadata": {},
   "outputs": [
    {
     "name": "stderr",
     "output_type": "stream",
     "text": [
      "train loss = 1.423292: 100%|██████████| 94/94 [00:06<00:00, 14.18it/s]\n",
      "validation loss = 1.376103: 100%|██████████| 47/47 [00:02<00:00, 17.08it/s]\n"
     ]
    },
    {
     "name": "stdout",
     "output_type": "stream",
     "text": [
      "\n",
      "epoch 1, best valid loss = inf,count = 0\n"
     ]
    },
    {
     "name": "stderr",
     "output_type": "stream",
     "text": [
      "train loss = 1.373358: 100%|██████████| 94/94 [00:04<00:00, 19.88it/s]\n",
      "validation loss = 1.397768: 100%|██████████| 47/47 [00:02<00:00, 16.69it/s]\n"
     ]
    },
    {
     "name": "stdout",
     "output_type": "stream",
     "text": [
      "\n",
      "epoch 2, best valid loss = inf,count = 0\n"
     ]
    },
    {
     "name": "stderr",
     "output_type": "stream",
     "text": [
      "train loss = 1.350395: 100%|██████████| 94/94 [00:04<00:00, 19.89it/s]\n",
      "validation loss = 1.371641: 100%|██████████| 47/47 [00:02<00:00, 16.55it/s]\n"
     ]
    },
    {
     "name": "stdout",
     "output_type": "stream",
     "text": [
      "\n",
      "epoch 3, best valid loss = inf,count = 0\n"
     ]
    },
    {
     "name": "stderr",
     "output_type": "stream",
     "text": [
      "train loss = 1.350905: 100%|██████████| 94/94 [00:04<00:00, 20.04it/s]\n",
      "validation loss = 1.360993: 100%|██████████| 47/47 [00:02<00:00, 17.34it/s]\n"
     ]
    },
    {
     "name": "stdout",
     "output_type": "stream",
     "text": [
      "\n",
      "epoch 4, best valid loss = 63.96669173,count = 0\n"
     ]
    },
    {
     "name": "stderr",
     "output_type": "stream",
     "text": [
      "train loss = 1.329957: 100%|██████████| 94/94 [00:04<00:00, 19.86it/s]\n",
      "validation loss = 1.355534: 100%|██████████| 47/47 [00:02<00:00, 16.63it/s]\n"
     ]
    },
    {
     "name": "stdout",
     "output_type": "stream",
     "text": [
      "\n",
      "epoch 5, best valid loss = 63.71011221,count = 0\n"
     ]
    },
    {
     "name": "stderr",
     "output_type": "stream",
     "text": [
      "train loss = 1.339669: 100%|██████████| 94/94 [00:04<00:00, 19.98it/s]\n",
      "validation loss = 1.372313: 100%|██████████| 47/47 [00:02<00:00, 16.02it/s]\n"
     ]
    },
    {
     "name": "stdout",
     "output_type": "stream",
     "text": [
      "\n",
      "epoch 6, best valid loss = 63.71011221,count = 1\n"
     ]
    },
    {
     "name": "stderr",
     "output_type": "stream",
     "text": [
      "train loss = 1.324719: 100%|██████████| 94/94 [00:05<00:00, 18.41it/s]\n",
      "validation loss = 1.314400: 100%|██████████| 47/47 [00:02<00:00, 15.93it/s]\n"
     ]
    },
    {
     "name": "stdout",
     "output_type": "stream",
     "text": [
      "\n",
      "epoch 7, best valid loss = 61.77679777,count = 0\n"
     ]
    },
    {
     "name": "stderr",
     "output_type": "stream",
     "text": [
      "train loss = 1.318981: 100%|██████████| 94/94 [00:04<00:00, 20.00it/s]\n",
      "validation loss = 1.306965: 100%|██████████| 47/47 [00:02<00:00, 16.07it/s]\n"
     ]
    },
    {
     "name": "stdout",
     "output_type": "stream",
     "text": [
      "\n",
      "epoch 8, best valid loss = 61.42735374,count = 0\n"
     ]
    },
    {
     "name": "stderr",
     "output_type": "stream",
     "text": [
      "train loss = 1.322481: 100%|██████████| 94/94 [00:04<00:00, 20.40it/s]\n",
      "validation loss = 1.314133: 100%|██████████| 47/47 [00:02<00:00, 16.36it/s]\n"
     ]
    },
    {
     "name": "stdout",
     "output_type": "stream",
     "text": [
      "\n",
      "epoch 9, best valid loss = 61.42735374,count = 1\n"
     ]
    },
    {
     "name": "stderr",
     "output_type": "stream",
     "text": [
      "train loss = 1.313592: 100%|██████████| 94/94 [00:04<00:00, 19.78it/s]\n",
      "validation loss = 1.302793: 100%|██████████| 47/47 [00:03<00:00, 15.56it/s]\n"
     ]
    },
    {
     "name": "stdout",
     "output_type": "stream",
     "text": [
      "\n",
      "epoch 10, best valid loss = 61.23128819,count = 0\n"
     ]
    },
    {
     "name": "stderr",
     "output_type": "stream",
     "text": [
      "train loss = 1.322211: 100%|██████████| 94/94 [00:05<00:00, 18.58it/s]\n",
      "validation loss = 1.310493: 100%|██████████| 47/47 [00:02<00:00, 16.68it/s]\n"
     ]
    },
    {
     "name": "stdout",
     "output_type": "stream",
     "text": [
      "\n",
      "epoch 11, best valid loss = 61.23128819,count = 1\n"
     ]
    },
    {
     "name": "stderr",
     "output_type": "stream",
     "text": [
      "train loss = 1.309574: 100%|██████████| 94/94 [00:04<00:00, 19.93it/s]\n",
      "validation loss = 1.311883: 100%|██████████| 47/47 [00:02<00:00, 16.72it/s]\n"
     ]
    },
    {
     "name": "stdout",
     "output_type": "stream",
     "text": [
      "\n",
      "epoch 12, best valid loss = 61.23128819,count = 2\n"
     ]
    },
    {
     "name": "stderr",
     "output_type": "stream",
     "text": [
      "train loss = 1.308417: 100%|██████████| 94/94 [00:04<00:00, 20.26it/s]\n",
      "validation loss = 1.319434: 100%|██████████| 47/47 [00:03<00:00, 15.63it/s]\n"
     ]
    },
    {
     "name": "stdout",
     "output_type": "stream",
     "text": [
      "\n",
      "epoch 13, best valid loss = 61.23128819,count = 3\n"
     ]
    },
    {
     "name": "stderr",
     "output_type": "stream",
     "text": [
      "train loss = 1.314740: 100%|██████████| 94/94 [00:04<00:00, 20.01it/s]\n",
      "validation loss = 1.306839: 100%|██████████| 47/47 [00:02<00:00, 16.43it/s]\n"
     ]
    },
    {
     "name": "stdout",
     "output_type": "stream",
     "text": [
      "\n",
      "epoch 14, best valid loss = 61.23128819,count = 4\n"
     ]
    },
    {
     "name": "stderr",
     "output_type": "stream",
     "text": [
      "train loss = 1.302976: 100%|██████████| 94/94 [00:04<00:00, 20.42it/s]\n",
      "validation loss = 1.301727: 100%|██████████| 47/47 [00:02<00:00, 16.65it/s]\n"
     ]
    },
    {
     "name": "stdout",
     "output_type": "stream",
     "text": [
      "\n",
      "epoch 15, best valid loss = 61.18115115,count = 0\n"
     ]
    },
    {
     "name": "stderr",
     "output_type": "stream",
     "text": [
      "train loss = 1.310685: 100%|██████████| 94/94 [00:04<00:00, 18.81it/s]\n",
      "validation loss = 1.293987: 100%|██████████| 47/47 [00:02<00:00, 15.79it/s]\n"
     ]
    },
    {
     "name": "stdout",
     "output_type": "stream",
     "text": [
      "\n",
      "epoch 16, best valid loss = 60.81739283,count = 0\n"
     ]
    },
    {
     "name": "stderr",
     "output_type": "stream",
     "text": [
      "train loss = 1.306024: 100%|██████████| 94/94 [00:04<00:00, 19.31it/s]\n",
      "validation loss = 1.315541: 100%|██████████| 47/47 [00:02<00:00, 16.03it/s]\n"
     ]
    },
    {
     "name": "stdout",
     "output_type": "stream",
     "text": [
      "\n",
      "epoch 17, best valid loss = 60.81739283,count = 1\n"
     ]
    },
    {
     "name": "stderr",
     "output_type": "stream",
     "text": [
      "train loss = 1.310726: 100%|██████████| 94/94 [00:04<00:00, 20.33it/s]\n",
      "validation loss = 1.292326: 100%|██████████| 47/47 [00:02<00:00, 16.65it/s]\n"
     ]
    },
    {
     "name": "stdout",
     "output_type": "stream",
     "text": [
      "\n",
      "epoch 18, best valid loss = 60.73931980,count = 0\n"
     ]
    },
    {
     "name": "stderr",
     "output_type": "stream",
     "text": [
      "train loss = 1.307463: 100%|██████████| 94/94 [00:04<00:00, 20.18it/s]\n",
      "validation loss = 1.298511: 100%|██████████| 47/47 [00:02<00:00, 16.49it/s]\n"
     ]
    },
    {
     "name": "stdout",
     "output_type": "stream",
     "text": [
      "\n",
      "epoch 19, best valid loss = 60.73931980,count = 1\n"
     ]
    },
    {
     "name": "stderr",
     "output_type": "stream",
     "text": [
      "train loss = 1.304082: 100%|██████████| 94/94 [00:04<00:00, 20.03it/s]\n",
      "validation loss = 1.296080: 100%|██████████| 47/47 [00:02<00:00, 16.26it/s]\n"
     ]
    },
    {
     "name": "stdout",
     "output_type": "stream",
     "text": [
      "\n",
      "epoch 20, best valid loss = 60.73931980,count = 2\n"
     ]
    },
    {
     "name": "stderr",
     "output_type": "stream",
     "text": [
      "train loss = 1.308823: 100%|██████████| 94/94 [00:04<00:00, 19.74it/s]\n",
      "validation loss = 1.318617: 100%|██████████| 47/47 [00:02<00:00, 16.60it/s]\n"
     ]
    },
    {
     "name": "stdout",
     "output_type": "stream",
     "text": [
      "\n",
      "epoch 21, best valid loss = 60.73931980,count = 3\n"
     ]
    },
    {
     "name": "stderr",
     "output_type": "stream",
     "text": [
      "train loss = 1.308047: 100%|██████████| 94/94 [00:04<00:00, 19.45it/s]\n",
      "validation loss = 1.289792: 100%|██████████| 47/47 [00:02<00:00, 16.73it/s]\n"
     ]
    },
    {
     "name": "stdout",
     "output_type": "stream",
     "text": [
      "\n",
      "epoch 22, best valid loss = 60.62022078,count = 0\n"
     ]
    },
    {
     "name": "stderr",
     "output_type": "stream",
     "text": [
      "train loss = 1.302133: 100%|██████████| 94/94 [00:04<00:00, 19.61it/s]\n",
      "validation loss = 1.297604: 100%|██████████| 47/47 [00:02<00:00, 16.29it/s]\n"
     ]
    },
    {
     "name": "stdout",
     "output_type": "stream",
     "text": [
      "\n",
      "epoch 23, best valid loss = 60.62022078,count = 1\n"
     ]
    },
    {
     "name": "stderr",
     "output_type": "stream",
     "text": [
      "train loss = 1.307068: 100%|██████████| 94/94 [00:04<00:00, 19.84it/s]\n",
      "validation loss = 1.301108: 100%|██████████| 47/47 [00:02<00:00, 16.82it/s]\n"
     ]
    },
    {
     "name": "stdout",
     "output_type": "stream",
     "text": [
      "\n",
      "epoch 24, best valid loss = 60.62022078,count = 2\n"
     ]
    },
    {
     "name": "stderr",
     "output_type": "stream",
     "text": [
      "train loss = 1.307161: 100%|██████████| 94/94 [00:04<00:00, 20.12it/s]\n",
      "validation loss = 1.288725: 100%|██████████| 47/47 [00:02<00:00, 16.67it/s]\n"
     ]
    },
    {
     "name": "stdout",
     "output_type": "stream",
     "text": [
      "\n",
      "epoch 25, best valid loss = 60.57008350,count = 0\n"
     ]
    },
    {
     "name": "stderr",
     "output_type": "stream",
     "text": [
      "train loss = 1.301594: 100%|██████████| 94/94 [00:04<00:00, 19.71it/s]\n",
      "validation loss = 1.290535: 100%|██████████| 47/47 [00:02<00:00, 16.75it/s]\n"
     ]
    },
    {
     "name": "stdout",
     "output_type": "stream",
     "text": [
      "\n",
      "epoch 26, best valid loss = 60.57008350,count = 1\n"
     ]
    },
    {
     "name": "stderr",
     "output_type": "stream",
     "text": [
      "train loss = 1.302087: 100%|██████████| 94/94 [00:04<00:00, 19.85it/s]\n",
      "validation loss = 1.297221: 100%|██████████| 47/47 [00:02<00:00, 16.52it/s]\n"
     ]
    },
    {
     "name": "stdout",
     "output_type": "stream",
     "text": [
      "\n",
      "epoch 27, best valid loss = 60.57008350,count = 2\n"
     ]
    },
    {
     "name": "stderr",
     "output_type": "stream",
     "text": [
      "train loss = 1.297080: 100%|██████████| 94/94 [00:04<00:00, 19.87it/s]\n",
      "validation loss = 1.290171: 100%|██████████| 47/47 [00:02<00:00, 16.99it/s]\n"
     ]
    },
    {
     "name": "stdout",
     "output_type": "stream",
     "text": [
      "\n",
      "epoch 28, best valid loss = 60.57008350,count = 3\n"
     ]
    },
    {
     "name": "stderr",
     "output_type": "stream",
     "text": [
      "train loss = 1.298951: 100%|██████████| 94/94 [00:04<00:00, 20.27it/s]\n",
      "validation loss = 1.299081: 100%|██████████| 47/47 [00:02<00:00, 16.10it/s]\n"
     ]
    },
    {
     "name": "stdout",
     "output_type": "stream",
     "text": [
      "\n",
      "epoch 29, best valid loss = 60.57008350,count = 4\n"
     ]
    },
    {
     "name": "stderr",
     "output_type": "stream",
     "text": [
      "train loss = 1.300787: 100%|██████████| 94/94 [00:04<00:00, 19.82it/s]\n",
      "validation loss = 1.295526: 100%|██████████| 47/47 [00:03<00:00, 15.56it/s]\n"
     ]
    },
    {
     "name": "stdout",
     "output_type": "stream",
     "text": [
      "\n",
      "epoch 30, best valid loss = 60.57008350,count = 5\n"
     ]
    },
    {
     "name": "stderr",
     "output_type": "stream",
     "text": [
      "train loss = 1.299344: 100%|██████████| 94/94 [00:04<00:00, 19.72it/s]\n",
      "validation loss = 1.295154: 100%|██████████| 47/47 [00:02<00:00, 15.71it/s]\n"
     ]
    },
    {
     "name": "stdout",
     "output_type": "stream",
     "text": [
      "\n",
      "epoch 31, best valid loss = 60.57008350,count = 6\n"
     ]
    },
    {
     "name": "stderr",
     "output_type": "stream",
     "text": [
      "train loss = 1.304430: 100%|██████████| 94/94 [00:04<00:00, 19.69it/s]\n",
      "validation loss = 1.302487: 100%|██████████| 47/47 [00:02<00:00, 16.73it/s]\n"
     ]
    },
    {
     "name": "stdout",
     "output_type": "stream",
     "text": [
      "\n",
      "epoch 32, best valid loss = 60.57008350,count = 7\n"
     ]
    },
    {
     "name": "stderr",
     "output_type": "stream",
     "text": [
      "train loss = 1.300433: 100%|██████████| 94/94 [00:04<00:00, 19.63it/s]\n",
      "validation loss = 1.298878: 100%|██████████| 47/47 [00:02<00:00, 16.08it/s]\n"
     ]
    },
    {
     "name": "stdout",
     "output_type": "stream",
     "text": [
      "\n",
      "epoch 33, best valid loss = 60.57008350,count = 8\n"
     ]
    },
    {
     "name": "stderr",
     "output_type": "stream",
     "text": [
      "train loss = 1.304928: 100%|██████████| 94/94 [00:04<00:00, 20.32it/s]\n",
      "validation loss = 1.298375: 100%|██████████| 47/47 [00:02<00:00, 16.55it/s]\n"
     ]
    },
    {
     "name": "stdout",
     "output_type": "stream",
     "text": [
      "\n",
      "epoch 34, best valid loss = 60.57008350,count = 9\n"
     ]
    },
    {
     "name": "stderr",
     "output_type": "stream",
     "text": [
      "train loss = 1.298064: 100%|██████████| 94/94 [00:04<00:00, 19.90it/s]\n",
      "validation loss = 1.291040: 100%|██████████| 47/47 [00:02<00:00, 16.90it/s]\n"
     ]
    },
    {
     "name": "stdout",
     "output_type": "stream",
     "text": [
      "\n",
      "epoch 35, best valid loss = 60.57008350,count = 10\n"
     ]
    },
    {
     "name": "stderr",
     "output_type": "stream",
     "text": [
      "train loss = 1.297330: 100%|██████████| 94/94 [00:04<00:00, 20.09it/s]\n",
      "validation loss = 1.299568: 100%|██████████| 47/47 [00:02<00:00, 15.89it/s]\n"
     ]
    },
    {
     "name": "stdout",
     "output_type": "stream",
     "text": [
      "\n",
      "epoch 36, best valid loss = 60.57008350,count = 11\n"
     ]
    },
    {
     "name": "stderr",
     "output_type": "stream",
     "text": [
      "train loss = 1.302885: 100%|██████████| 94/94 [00:04<00:00, 19.43it/s]\n",
      "validation loss = 1.286331: 100%|██████████| 47/47 [00:02<00:00, 16.76it/s]\n"
     ]
    },
    {
     "name": "stdout",
     "output_type": "stream",
     "text": [
      "\n",
      "epoch 37, best valid loss = 60.45756876,count = 0\n"
     ]
    },
    {
     "name": "stderr",
     "output_type": "stream",
     "text": [
      "train loss = 1.295745: 100%|██████████| 94/94 [00:04<00:00, 19.99it/s]\n",
      "validation loss = 1.301888: 100%|██████████| 47/47 [00:02<00:00, 16.33it/s]\n"
     ]
    },
    {
     "name": "stdout",
     "output_type": "stream",
     "text": [
      "\n",
      "epoch 38, best valid loss = 60.45756876,count = 1\n"
     ]
    },
    {
     "name": "stderr",
     "output_type": "stream",
     "text": [
      "train loss = 1.294005: 100%|██████████| 94/94 [00:04<00:00, 19.71it/s]\n",
      "validation loss = 1.286512: 100%|██████████| 47/47 [00:03<00:00, 15.21it/s]\n"
     ]
    },
    {
     "name": "stdout",
     "output_type": "stream",
     "text": [
      "\n",
      "epoch 39, best valid loss = 60.45756876,count = 2\n"
     ]
    },
    {
     "name": "stderr",
     "output_type": "stream",
     "text": [
      "train loss = 1.293091: 100%|██████████| 94/94 [00:04<00:00, 19.05it/s]\n",
      "validation loss = 1.289745: 100%|██████████| 47/47 [00:02<00:00, 16.77it/s]\n"
     ]
    },
    {
     "name": "stdout",
     "output_type": "stream",
     "text": [
      "\n",
      "epoch 40, best valid loss = 60.45756876,count = 3\n"
     ]
    },
    {
     "name": "stderr",
     "output_type": "stream",
     "text": [
      "train loss = 1.296577: 100%|██████████| 94/94 [00:04<00:00, 20.30it/s]\n",
      "validation loss = 1.284128: 100%|██████████| 47/47 [00:02<00:00, 16.50it/s]\n"
     ]
    },
    {
     "name": "stdout",
     "output_type": "stream",
     "text": [
      "\n",
      "epoch 41, best valid loss = 60.35399878,count = 0\n"
     ]
    },
    {
     "name": "stderr",
     "output_type": "stream",
     "text": [
      "train loss = 1.295567: 100%|██████████| 94/94 [00:04<00:00, 20.03it/s]\n",
      "validation loss = 1.291517: 100%|██████████| 47/47 [00:02<00:00, 16.52it/s]\n"
     ]
    },
    {
     "name": "stdout",
     "output_type": "stream",
     "text": [
      "\n",
      "epoch 42, best valid loss = 60.35399878,count = 1\n"
     ]
    },
    {
     "name": "stderr",
     "output_type": "stream",
     "text": [
      "train loss = 1.296374: 100%|██████████| 94/94 [00:04<00:00, 20.75it/s]\n",
      "validation loss = 1.298224: 100%|██████████| 47/47 [00:02<00:00, 16.15it/s]\n"
     ]
    },
    {
     "name": "stdout",
     "output_type": "stream",
     "text": [
      "\n",
      "epoch 43, best valid loss = 60.35399878,count = 2\n"
     ]
    },
    {
     "name": "stderr",
     "output_type": "stream",
     "text": [
      "train loss = 1.300707: 100%|██████████| 94/94 [00:04<00:00, 19.54it/s]\n",
      "validation loss = 1.294043: 100%|██████████| 47/47 [00:02<00:00, 15.89it/s]\n"
     ]
    },
    {
     "name": "stdout",
     "output_type": "stream",
     "text": [
      "\n",
      "epoch 44, best valid loss = 60.35399878,count = 3\n"
     ]
    },
    {
     "name": "stderr",
     "output_type": "stream",
     "text": [
      "train loss = 1.300946: 100%|██████████| 94/94 [00:04<00:00, 19.02it/s]\n",
      "validation loss = 1.289654: 100%|██████████| 47/47 [00:02<00:00, 15.72it/s]\n"
     ]
    },
    {
     "name": "stdout",
     "output_type": "stream",
     "text": [
      "\n",
      "epoch 45, best valid loss = 60.35399878,count = 4\n"
     ]
    },
    {
     "name": "stderr",
     "output_type": "stream",
     "text": [
      "train loss = 1.297191: 100%|██████████| 94/94 [00:04<00:00, 20.00it/s]\n",
      "validation loss = 1.278326: 100%|██████████| 47/47 [00:02<00:00, 16.03it/s]\n"
     ]
    },
    {
     "name": "stdout",
     "output_type": "stream",
     "text": [
      "\n",
      "epoch 46, best valid loss = 60.08132195,count = 0\n"
     ]
    },
    {
     "name": "stderr",
     "output_type": "stream",
     "text": [
      "train loss = 1.301247: 100%|██████████| 94/94 [00:04<00:00, 19.25it/s]\n",
      "validation loss = 1.295395: 100%|██████████| 47/47 [00:02<00:00, 16.12it/s]\n"
     ]
    },
    {
     "name": "stdout",
     "output_type": "stream",
     "text": [
      "\n",
      "epoch 47, best valid loss = 60.08132195,count = 1\n"
     ]
    },
    {
     "name": "stderr",
     "output_type": "stream",
     "text": [
      "train loss = 1.294457: 100%|██████████| 94/94 [00:04<00:00, 19.19it/s]\n",
      "validation loss = 1.282809: 100%|██████████| 47/47 [00:03<00:00, 15.38it/s]\n"
     ]
    },
    {
     "name": "stdout",
     "output_type": "stream",
     "text": [
      "\n",
      "epoch 48, best valid loss = 60.08132195,count = 2\n"
     ]
    },
    {
     "name": "stderr",
     "output_type": "stream",
     "text": [
      "train loss = 1.292198: 100%|██████████| 94/94 [00:04<00:00, 19.14it/s]\n",
      "validation loss = 1.276805: 100%|██████████| 47/47 [00:02<00:00, 16.02it/s]\n"
     ]
    },
    {
     "name": "stdout",
     "output_type": "stream",
     "text": [
      "\n",
      "epoch 49, best valid loss = 60.00981259,count = 0\n"
     ]
    },
    {
     "name": "stderr",
     "output_type": "stream",
     "text": [
      "train loss = 1.296514: 100%|██████████| 94/94 [00:04<00:00, 19.46it/s]\n",
      "validation loss = 1.287480: 100%|██████████| 47/47 [00:02<00:00, 16.01it/s]\n"
     ]
    },
    {
     "name": "stdout",
     "output_type": "stream",
     "text": [
      "\n",
      "epoch 50, best valid loss = 60.00981259,count = 1\n"
     ]
    },
    {
     "name": "stderr",
     "output_type": "stream",
     "text": [
      "train loss = 1.289563: 100%|██████████| 94/94 [00:04<00:00, 19.85it/s]\n",
      "validation loss = 1.292580: 100%|██████████| 47/47 [00:02<00:00, 16.74it/s]\n"
     ]
    },
    {
     "name": "stdout",
     "output_type": "stream",
     "text": [
      "\n",
      "epoch 51, best valid loss = 60.00981259,count = 2\n"
     ]
    },
    {
     "name": "stderr",
     "output_type": "stream",
     "text": [
      "train loss = 1.297357: 100%|██████████| 94/94 [00:04<00:00, 19.95it/s]\n",
      "validation loss = 1.274638: 100%|██████████| 47/47 [00:02<00:00, 16.67it/s]\n"
     ]
    },
    {
     "name": "stdout",
     "output_type": "stream",
     "text": [
      "\n",
      "epoch 52, best valid loss = 59.90798855,count = 0\n"
     ]
    },
    {
     "name": "stderr",
     "output_type": "stream",
     "text": [
      "train loss = 1.297492: 100%|██████████| 94/94 [00:04<00:00, 19.93it/s]\n",
      "validation loss = 1.287230: 100%|██████████| 47/47 [00:02<00:00, 17.27it/s]\n"
     ]
    },
    {
     "name": "stdout",
     "output_type": "stream",
     "text": [
      "\n",
      "epoch 53, best valid loss = 59.90798855,count = 1\n"
     ]
    },
    {
     "name": "stderr",
     "output_type": "stream",
     "text": [
      "train loss = 1.287199: 100%|██████████| 94/94 [00:04<00:00, 19.20it/s]\n",
      "validation loss = 1.292326: 100%|██████████| 47/47 [00:03<00:00, 15.09it/s]\n"
     ]
    },
    {
     "name": "stdout",
     "output_type": "stream",
     "text": [
      "\n",
      "epoch 54, best valid loss = 59.90798855,count = 2\n"
     ]
    },
    {
     "name": "stderr",
     "output_type": "stream",
     "text": [
      "train loss = 1.296368: 100%|██████████| 94/94 [00:05<00:00, 18.50it/s]\n",
      "validation loss = 1.278533: 100%|██████████| 47/47 [00:02<00:00, 16.04it/s]\n"
     ]
    },
    {
     "name": "stdout",
     "output_type": "stream",
     "text": [
      "\n",
      "epoch 55, best valid loss = 59.90798855,count = 3\n"
     ]
    },
    {
     "name": "stderr",
     "output_type": "stream",
     "text": [
      "train loss = 1.292324: 100%|██████████| 94/94 [00:04<00:00, 19.30it/s]\n",
      "validation loss = 1.289313: 100%|██████████| 47/47 [00:02<00:00, 16.51it/s]\n"
     ]
    },
    {
     "name": "stdout",
     "output_type": "stream",
     "text": [
      "\n",
      "epoch 56, best valid loss = 59.90798855,count = 4\n"
     ]
    },
    {
     "name": "stderr",
     "output_type": "stream",
     "text": [
      "train loss = 1.298202: 100%|██████████| 94/94 [00:04<00:00, 20.07it/s]\n",
      "validation loss = 1.291595: 100%|██████████| 47/47 [00:02<00:00, 15.82it/s]\n"
     ]
    },
    {
     "name": "stdout",
     "output_type": "stream",
     "text": [
      "\n",
      "epoch 57, best valid loss = 59.90798855,count = 5\n"
     ]
    },
    {
     "name": "stderr",
     "output_type": "stream",
     "text": [
      "train loss = 1.293784:   4%|▍         | 4/94 [00:01<00:18,  4.81it/s]"
     ]
    }
   ],
   "source": [
    "%load 1.1.train_model.py\n",
    "%run 1.1.train_model.py"
   ]
  },
  {
   "cell_type": "code",
   "execution_count": null,
   "id": "3a01b7a5-d477-4170-8bcb-f4e42870e2e2",
   "metadata": {},
   "outputs": [],
   "source": [
    "!/usr/bin/shutdown"
   ]
  },
  {
   "cell_type": "code",
   "execution_count": null,
   "id": "7b2e3dec-b960-4b20-800a-c804738de018",
   "metadata": {},
   "outputs": [],
   "source": []
  }
 ],
 "metadata": {
  "kernelspec": {
   "display_name": "py38",
   "language": "python",
   "name": "py38"
  },
  "language_info": {
   "codemirror_mode": {
    "name": "ipython",
    "version": 3
   },
   "file_extension": ".py",
   "mimetype": "text/x-python",
   "name": "python",
   "nbconvert_exporter": "python",
   "pygments_lexer": "ipython3",
   "version": "3.8.13"
  }
 },
 "nbformat": 4,
 "nbformat_minor": 5
}
