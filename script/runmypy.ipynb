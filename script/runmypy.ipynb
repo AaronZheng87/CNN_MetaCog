{
 "cells": [
  {
   "cell_type": "code",
   "execution_count": null,
   "id": "9a1ffe47-09b2-497d-ad1f-fff7c48f286a",
   "metadata": {},
   "outputs": [
    {
     "name": "stderr",
     "output_type": "stream",
     "text": [
      "train loss = 95.512142: 100%|██████████| 329/329 [00:17<00:00, 18.31it/s]\n",
      "validation loss = 111.208841: 100%|██████████| 47/47 [00:03<00:00, 15.07it/s]\n"
     ]
    },
    {
     "name": "stdout",
     "output_type": "stream",
     "text": [
      "\n",
      "epoch 1, best valid loss = inf,count = 0\n"
     ]
    },
    {
     "name": "stderr",
     "output_type": "stream",
     "text": [
      "train loss = 91.410197: 100%|██████████| 329/329 [00:15<00:00, 21.21it/s]\n",
      "validation loss = 91.586264: 100%|██████████| 47/47 [00:03<00:00, 14.50it/s]\n"
     ]
    },
    {
     "name": "stdout",
     "output_type": "stream",
     "text": [
      "\n",
      "epoch 2, best valid loss = inf,count = 0\n"
     ]
    },
    {
     "name": "stderr",
     "output_type": "stream",
     "text": [
      "train loss = 90.320592: 100%|██████████| 329/329 [00:15<00:00, 21.19it/s]\n",
      "validation loss = 93.927444: 100%|██████████| 47/47 [00:03<00:00, 15.40it/s]\n"
     ]
    },
    {
     "name": "stdout",
     "output_type": "stream",
     "text": [
      "\n",
      "epoch 3, best valid loss = inf,count = 0\n"
     ]
    },
    {
     "name": "stderr",
     "output_type": "stream",
     "text": [
      "train loss = 90.485186: 100%|██████████| 329/329 [00:15<00:00, 21.37it/s]\n",
      "validation loss = 91.494958: 100%|██████████| 47/47 [00:03<00:00, 15.28it/s]\n"
     ]
    },
    {
     "name": "stdout",
     "output_type": "stream",
     "text": [
      "\n",
      "epoch 4, best valid loss = 4300.26303101,count = 0\n"
     ]
    },
    {
     "name": "stderr",
     "output_type": "stream",
     "text": [
      "train loss = 89.556111: 100%|██████████| 329/329 [00:15<00:00, 21.25it/s]\n",
      "validation loss = 90.881831: 100%|██████████| 47/47 [00:03<00:00, 15.42it/s]\n"
     ]
    },
    {
     "name": "stdout",
     "output_type": "stream",
     "text": [
      "\n",
      "epoch 5, best valid loss = 4271.44606018,count = 0\n"
     ]
    },
    {
     "name": "stderr",
     "output_type": "stream",
     "text": [
      "train loss = 89.855287: 100%|██████████| 329/329 [00:15<00:00, 21.03it/s]\n",
      "validation loss = 93.366083: 100%|██████████| 47/47 [00:03<00:00, 15.30it/s]\n"
     ]
    },
    {
     "name": "stdout",
     "output_type": "stream",
     "text": [
      "\n",
      "epoch 6, best valid loss = 4271.44606018,count = 1\n"
     ]
    },
    {
     "name": "stderr",
     "output_type": "stream",
     "text": [
      "train loss = 90.033642: 100%|██████████| 329/329 [00:15<00:00, 21.00it/s]\n",
      "validation loss = 92.049719: 100%|██████████| 47/47 [00:03<00:00, 15.33it/s]\n"
     ]
    },
    {
     "name": "stdout",
     "output_type": "stream",
     "text": [
      "\n",
      "epoch 7, best valid loss = 4271.44606018,count = 2\n"
     ]
    },
    {
     "name": "stderr",
     "output_type": "stream",
     "text": [
      "train loss = 89.872744: 100%|██████████| 329/329 [00:15<00:00, 21.32it/s]\n",
      "validation loss = 90.590854: 100%|██████████| 47/47 [00:03<00:00, 15.66it/s]\n"
     ]
    },
    {
     "name": "stdout",
     "output_type": "stream",
     "text": [
      "\n",
      "epoch 8, best valid loss = 4257.77015686,count = 0\n"
     ]
    },
    {
     "name": "stderr",
     "output_type": "stream",
     "text": [
      "train loss = 90.086990: 100%|██████████| 329/329 [00:15<00:00, 21.06it/s]\n",
      "validation loss = 91.797635: 100%|██████████| 47/47 [00:03<00:00, 15.00it/s]\n"
     ]
    },
    {
     "name": "stdout",
     "output_type": "stream",
     "text": [
      "\n",
      "epoch 9, best valid loss = 4257.77015686,count = 1\n"
     ]
    },
    {
     "name": "stderr",
     "output_type": "stream",
     "text": [
      "train loss = 89.813081: 100%|██████████| 329/329 [00:15<00:00, 20.98it/s]\n",
      "validation loss = 90.801105: 100%|██████████| 47/47 [00:03<00:00, 15.05it/s]\n"
     ]
    },
    {
     "name": "stdout",
     "output_type": "stream",
     "text": [
      "\n",
      "epoch 10, best valid loss = 4257.77015686,count = 2\n"
     ]
    },
    {
     "name": "stderr",
     "output_type": "stream",
     "text": [
      "train loss = 89.864081: 100%|██████████| 329/329 [00:15<00:00, 21.20it/s]\n",
      "validation loss = 92.887928: 100%|██████████| 47/47 [00:03<00:00, 15.02it/s]\n"
     ]
    },
    {
     "name": "stdout",
     "output_type": "stream",
     "text": [
      "\n",
      "epoch 11, best valid loss = 4257.77015686,count = 3\n"
     ]
    },
    {
     "name": "stderr",
     "output_type": "stream",
     "text": [
      "train loss = 89.428835: 100%|██████████| 329/329 [00:15<00:00, 21.47it/s]\n",
      "validation loss = 91.508390: 100%|██████████| 47/47 [00:03<00:00, 15.05it/s]\n"
     ]
    },
    {
     "name": "stdout",
     "output_type": "stream",
     "text": [
      "\n",
      "epoch 12, best valid loss = 4257.77015686,count = 4\n"
     ]
    },
    {
     "name": "stderr",
     "output_type": "stream",
     "text": [
      "train loss = 89.293207: 100%|██████████| 329/329 [00:15<00:00, 21.08it/s]\n",
      "validation loss = 92.217571: 100%|██████████| 47/47 [00:03<00:00, 15.16it/s]\n"
     ]
    },
    {
     "name": "stdout",
     "output_type": "stream",
     "text": [
      "\n",
      "epoch 13, best valid loss = 4257.77015686,count = 5\n"
     ]
    },
    {
     "name": "stderr",
     "output_type": "stream",
     "text": [
      "train loss = 89.925958: 100%|██████████| 329/329 [00:15<00:00, 20.97it/s]\n",
      "validation loss = 90.215981: 100%|██████████| 47/47 [00:03<00:00, 14.68it/s]\n"
     ]
    },
    {
     "name": "stdout",
     "output_type": "stream",
     "text": [
      "\n",
      "epoch 14, best valid loss = 4240.15108490,count = 0\n"
     ]
    },
    {
     "name": "stderr",
     "output_type": "stream",
     "text": [
      "train loss = 89.310452: 100%|██████████| 329/329 [00:15<00:00, 21.26it/s]\n",
      "validation loss = 90.312104: 100%|██████████| 47/47 [00:03<00:00, 15.16it/s]\n"
     ]
    },
    {
     "name": "stdout",
     "output_type": "stream",
     "text": [
      "\n",
      "epoch 15, best valid loss = 4240.15108490,count = 1\n"
     ]
    },
    {
     "name": "stderr",
     "output_type": "stream",
     "text": [
      "train loss = 89.754335: 100%|██████████| 329/329 [00:15<00:00, 20.99it/s]\n",
      "validation loss = 89.174499: 100%|██████████| 47/47 [00:03<00:00, 14.85it/s]\n"
     ]
    },
    {
     "name": "stdout",
     "output_type": "stream",
     "text": [
      "\n",
      "epoch 16, best valid loss = 4191.20143890,count = 0\n"
     ]
    },
    {
     "name": "stderr",
     "output_type": "stream",
     "text": [
      "train loss = 89.000717: 100%|██████████| 329/329 [00:15<00:00, 21.17it/s]\n",
      "validation loss = 91.126672: 100%|██████████| 47/47 [00:02<00:00, 15.74it/s]\n"
     ]
    },
    {
     "name": "stdout",
     "output_type": "stream",
     "text": [
      "\n",
      "epoch 17, best valid loss = 4191.20143890,count = 1\n"
     ]
    },
    {
     "name": "stderr",
     "output_type": "stream",
     "text": [
      "train loss = 89.963956: 100%|██████████| 329/329 [00:15<00:00, 21.17it/s]\n",
      "validation loss = 90.012164: 100%|██████████| 47/47 [00:03<00:00, 15.20it/s]\n"
     ]
    },
    {
     "name": "stdout",
     "output_type": "stream",
     "text": [
      "\n",
      "epoch 18, best valid loss = 4191.20143890,count = 2\n"
     ]
    },
    {
     "name": "stderr",
     "output_type": "stream",
     "text": [
      "train loss = 89.664745: 100%|██████████| 329/329 [00:15<00:00, 20.87it/s]\n",
      "validation loss = 90.516390: 100%|██████████| 47/47 [00:03<00:00, 15.62it/s]\n"
     ]
    },
    {
     "name": "stdout",
     "output_type": "stream",
     "text": [
      "\n",
      "epoch 19, best valid loss = 4191.20143890,count = 3\n"
     ]
    },
    {
     "name": "stderr",
     "output_type": "stream",
     "text": [
      "train loss = 89.608722: 100%|██████████| 329/329 [00:15<00:00, 21.07it/s]\n",
      "validation loss = 91.008904: 100%|██████████| 47/47 [00:03<00:00, 15.39it/s]\n"
     ]
    },
    {
     "name": "stdout",
     "output_type": "stream",
     "text": [
      "\n",
      "epoch 20, best valid loss = 4191.20143890,count = 4\n"
     ]
    },
    {
     "name": "stderr",
     "output_type": "stream",
     "text": [
      "train loss = 89.341196: 100%|██████████| 329/329 [00:15<00:00, 21.08it/s]\n",
      "validation loss = 90.242587: 100%|██████████| 47/47 [00:03<00:00, 15.09it/s]\n"
     ]
    },
    {
     "name": "stdout",
     "output_type": "stream",
     "text": [
      "\n",
      "epoch 21, best valid loss = 4191.20143890,count = 5\n"
     ]
    },
    {
     "name": "stderr",
     "output_type": "stream",
     "text": [
      "train loss = 89.292695: 100%|██████████| 329/329 [00:15<00:00, 20.71it/s]\n",
      "validation loss = 89.467952: 100%|██████████| 47/47 [00:03<00:00, 14.97it/s]\n"
     ]
    },
    {
     "name": "stdout",
     "output_type": "stream",
     "text": [
      "\n",
      "epoch 22, best valid loss = 4191.20143890,count = 6\n"
     ]
    },
    {
     "name": "stderr",
     "output_type": "stream",
     "text": [
      "train loss = 89.769105: 100%|██████████| 329/329 [00:15<00:00, 20.92it/s]\n",
      "validation loss = 89.757153: 100%|██████████| 47/47 [00:03<00:00, 14.75it/s]\n"
     ]
    },
    {
     "name": "stdout",
     "output_type": "stream",
     "text": [
      "\n",
      "epoch 23, best valid loss = 4191.20143890,count = 7\n"
     ]
    },
    {
     "name": "stderr",
     "output_type": "stream",
     "text": [
      "train loss = 89.625416: 100%|██████████| 329/329 [00:15<00:00, 21.01it/s]\n",
      "validation loss = 89.279544: 100%|██████████| 47/47 [00:02<00:00, 15.76it/s]\n"
     ]
    },
    {
     "name": "stdout",
     "output_type": "stream",
     "text": [
      "\n",
      "epoch 24, best valid loss = 4191.20143890,count = 8\n"
     ]
    },
    {
     "name": "stderr",
     "output_type": "stream",
     "text": [
      "train loss = 89.215509: 100%|██████████| 329/329 [00:15<00:00, 20.83it/s]\n",
      "validation loss = 89.512071: 100%|██████████| 47/47 [00:03<00:00, 15.01it/s]\n"
     ]
    },
    {
     "name": "stdout",
     "output_type": "stream",
     "text": [
      "\n",
      "epoch 25, best valid loss = 4191.20143890,count = 9\n"
     ]
    },
    {
     "name": "stderr",
     "output_type": "stream",
     "text": [
      "train loss = 89.018380: 100%|██████████| 329/329 [00:15<00:00, 20.96it/s]\n",
      "validation loss = 88.747296: 100%|██████████| 47/47 [00:03<00:00, 15.02it/s]\n"
     ]
    },
    {
     "name": "stdout",
     "output_type": "stream",
     "text": [
      "\n",
      "epoch 26, best valid loss = 4171.12290955,count = 0\n"
     ]
    },
    {
     "name": "stderr",
     "output_type": "stream",
     "text": [
      "train loss = 89.571258: 100%|██████████| 329/329 [00:15<00:00, 21.01it/s]\n",
      "validation loss = 92.713423: 100%|██████████| 47/47 [00:03<00:00, 15.42it/s]\n"
     ]
    },
    {
     "name": "stdout",
     "output_type": "stream",
     "text": [
      "\n",
      "epoch 27, best valid loss = 4171.12290955,count = 1\n"
     ]
    },
    {
     "name": "stderr",
     "output_type": "stream",
     "text": [
      "train loss = 89.433209: 100%|██████████| 329/329 [00:15<00:00, 21.08it/s]\n",
      "validation loss = 90.281348: 100%|██████████| 47/47 [00:02<00:00, 15.76it/s]\n"
     ]
    },
    {
     "name": "stdout",
     "output_type": "stream",
     "text": [
      "\n",
      "epoch 28, best valid loss = 4171.12290955,count = 2\n"
     ]
    },
    {
     "name": "stderr",
     "output_type": "stream",
     "text": [
      "train loss = 88.853718: 100%|██████████| 329/329 [00:15<00:00, 21.12it/s]\n",
      "validation loss = 91.578018: 100%|██████████| 47/47 [00:03<00:00, 15.15it/s]\n"
     ]
    },
    {
     "name": "stdout",
     "output_type": "stream",
     "text": [
      "\n",
      "epoch 29, best valid loss = 4171.12290955,count = 3\n"
     ]
    },
    {
     "name": "stderr",
     "output_type": "stream",
     "text": [
      "train loss = 89.712226: 100%|██████████| 329/329 [00:15<00:00, 21.14it/s]\n",
      "validation loss = 90.464868: 100%|██████████| 47/47 [00:03<00:00, 14.90it/s]\n"
     ]
    },
    {
     "name": "stdout",
     "output_type": "stream",
     "text": [
      "\n",
      "epoch 30, best valid loss = 4171.12290955,count = 4\n"
     ]
    },
    {
     "name": "stderr",
     "output_type": "stream",
     "text": [
      "train loss = 89.986817: 100%|██████████| 329/329 [00:15<00:00, 21.18it/s]\n",
      "validation loss = 89.936513: 100%|██████████| 47/47 [00:03<00:00, 15.47it/s]\n"
     ]
    },
    {
     "name": "stdout",
     "output_type": "stream",
     "text": [
      "\n",
      "epoch 31, best valid loss = 4171.12290955,count = 5\n"
     ]
    },
    {
     "name": "stderr",
     "output_type": "stream",
     "text": [
      "train loss = 89.878679: 100%|██████████| 329/329 [00:15<00:00, 21.04it/s]\n",
      "validation loss = 90.002543: 100%|██████████| 47/47 [00:03<00:00, 14.97it/s]\n"
     ]
    },
    {
     "name": "stdout",
     "output_type": "stream",
     "text": [
      "\n",
      "epoch 32, best valid loss = 4171.12290955,count = 6\n"
     ]
    },
    {
     "name": "stderr",
     "output_type": "stream",
     "text": [
      "train loss = 89.661904: 100%|██████████| 329/329 [00:15<00:00, 20.97it/s]\n",
      "validation loss = 91.987221: 100%|██████████| 47/47 [00:03<00:00, 15.28it/s]\n"
     ]
    },
    {
     "name": "stdout",
     "output_type": "stream",
     "text": [
      "\n",
      "epoch 33, best valid loss = 4171.12290955,count = 7\n"
     ]
    },
    {
     "name": "stderr",
     "output_type": "stream",
     "text": [
      "train loss = 89.453019: 100%|██████████| 329/329 [00:15<00:00, 21.21it/s]\n",
      "validation loss = 88.865228: 100%|██████████| 47/47 [00:03<00:00, 15.56it/s]\n"
     ]
    },
    {
     "name": "stdout",
     "output_type": "stream",
     "text": [
      "\n",
      "epoch 34, best valid loss = 4171.12290955,count = 8\n"
     ]
    },
    {
     "name": "stderr",
     "output_type": "stream",
     "text": [
      "train loss = 89.718045: 100%|██████████| 329/329 [00:15<00:00, 21.04it/s]\n",
      "validation loss = 90.388132: 100%|██████████| 47/47 [00:03<00:00, 15.53it/s]\n"
     ]
    },
    {
     "name": "stdout",
     "output_type": "stream",
     "text": [
      "\n",
      "epoch 35, best valid loss = 4171.12290955,count = 9\n"
     ]
    },
    {
     "name": "stderr",
     "output_type": "stream",
     "text": [
      "train loss = 89.420501: 100%|██████████| 329/329 [00:15<00:00, 20.93it/s]\n",
      "validation loss = 90.183963: 100%|██████████| 47/47 [00:03<00:00, 14.85it/s]\n"
     ]
    },
    {
     "name": "stdout",
     "output_type": "stream",
     "text": [
      "\n",
      "epoch 36, best valid loss = 4171.12290955,count = 10\n"
     ]
    },
    {
     "name": "stderr",
     "output_type": "stream",
     "text": [
      "train loss = 89.232801: 100%|██████████| 329/329 [00:15<00:00, 21.23it/s]\n",
      "validation loss = 89.382797: 100%|██████████| 47/47 [00:03<00:00, 15.08it/s]\n"
     ]
    },
    {
     "name": "stdout",
     "output_type": "stream",
     "text": [
      "\n",
      "epoch 37, best valid loss = 4171.12290955,count = 11\n"
     ]
    },
    {
     "name": "stderr",
     "output_type": "stream",
     "text": [
      "train loss = 89.158557: 100%|██████████| 329/329 [00:15<00:00, 21.00it/s]\n",
      "validation loss = 90.144695: 100%|██████████| 47/47 [00:03<00:00, 15.35it/s]\n"
     ]
    },
    {
     "name": "stdout",
     "output_type": "stream",
     "text": [
      "\n",
      "epoch 38, best valid loss = 4171.12290955,count = 12\n"
     ]
    },
    {
     "name": "stderr",
     "output_type": "stream",
     "text": [
      "train loss = 89.453712: 100%|██████████| 329/329 [00:15<00:00, 21.12it/s]\n",
      "validation loss = 90.242576: 100%|██████████| 47/47 [00:03<00:00, 15.13it/s]\n"
     ]
    },
    {
     "name": "stdout",
     "output_type": "stream",
     "text": [
      "\n",
      "epoch 39, best valid loss = 4171.12290955,count = 13\n"
     ]
    },
    {
     "name": "stderr",
     "output_type": "stream",
     "text": [
      "train loss = 89.506026: 100%|██████████| 329/329 [00:15<00:00, 21.13it/s]\n",
      "validation loss = 89.436078: 100%|██████████| 47/47 [00:02<00:00, 15.80it/s]\n"
     ]
    },
    {
     "name": "stdout",
     "output_type": "stream",
     "text": [
      "\n",
      "epoch 40, best valid loss = 4171.12290955,count = 14\n"
     ]
    },
    {
     "name": "stderr",
     "output_type": "stream",
     "text": [
      "train loss = 89.779725: 100%|██████████| 329/329 [00:15<00:00, 21.04it/s]\n",
      "validation loss = 89.750598: 100%|██████████| 47/47 [00:03<00:00, 15.57it/s]\n"
     ]
    },
    {
     "name": "stdout",
     "output_type": "stream",
     "text": [
      "\n",
      "epoch 41, best valid loss = 4171.12290955,count = 15\n"
     ]
    },
    {
     "name": "stderr",
     "output_type": "stream",
     "text": [
      "train loss = 89.427293: 100%|██████████| 329/329 [00:15<00:00, 20.91it/s]\n",
      "validation loss = 89.173108: 100%|██████████| 47/47 [00:02<00:00, 15.81it/s]\n"
     ]
    },
    {
     "name": "stdout",
     "output_type": "stream",
     "text": [
      "\n",
      "epoch 42, best valid loss = 4171.12290955,count = 16\n"
     ]
    },
    {
     "name": "stderr",
     "output_type": "stream",
     "text": [
      "train loss = 89.541358: 100%|██████████| 329/329 [00:15<00:00, 21.22it/s]\n",
      "validation loss = 87.884140: 100%|██████████| 47/47 [00:03<00:00, 15.55it/s]\n"
     ]
    },
    {
     "name": "stdout",
     "output_type": "stream",
     "text": [
      "\n",
      "epoch 43, best valid loss = 4130.55457306,count = 0\n"
     ]
    },
    {
     "name": "stderr",
     "output_type": "stream",
     "text": [
      "train loss = 88.969622: 100%|██████████| 329/329 [00:15<00:00, 21.25it/s]\n",
      "validation loss = 89.846048: 100%|██████████| 47/47 [00:03<00:00, 15.50it/s]\n"
     ]
    },
    {
     "name": "stdout",
     "output_type": "stream",
     "text": [
      "\n",
      "epoch 44, best valid loss = 4130.55457306,count = 1\n"
     ]
    },
    {
     "name": "stderr",
     "output_type": "stream",
     "text": [
      "train loss = 89.573847: 100%|██████████| 329/329 [00:15<00:00, 21.33it/s]\n",
      "validation loss = 89.833943: 100%|██████████| 47/47 [00:03<00:00, 15.53it/s]\n"
     ]
    },
    {
     "name": "stdout",
     "output_type": "stream",
     "text": [
      "\n",
      "epoch 45, best valid loss = 4130.55457306,count = 2\n"
     ]
    },
    {
     "name": "stderr",
     "output_type": "stream",
     "text": [
      "train loss = 89.743849: 100%|██████████| 329/329 [00:15<00:00, 21.09it/s]\n",
      "validation loss = 89.504609: 100%|██████████| 47/47 [00:02<00:00, 16.10it/s]\n"
     ]
    },
    {
     "name": "stdout",
     "output_type": "stream",
     "text": [
      "\n",
      "epoch 46, best valid loss = 4130.55457306,count = 3\n"
     ]
    },
    {
     "name": "stderr",
     "output_type": "stream",
     "text": [
      "train loss = 89.586238: 100%|██████████| 329/329 [00:15<00:00, 21.30it/s]\n",
      "validation loss = 88.312627: 100%|██████████| 47/47 [00:02<00:00, 15.68it/s]\n"
     ]
    },
    {
     "name": "stdout",
     "output_type": "stream",
     "text": [
      "\n",
      "epoch 47, best valid loss = 4130.55457306,count = 4\n"
     ]
    },
    {
     "name": "stderr",
     "output_type": "stream",
     "text": [
      "train loss = 89.750262: 100%|██████████| 329/329 [00:15<00:00, 21.02it/s]\n",
      "validation loss = 88.865329: 100%|██████████| 47/47 [00:03<00:00, 14.92it/s]\n"
     ]
    },
    {
     "name": "stdout",
     "output_type": "stream",
     "text": [
      "\n",
      "epoch 48, best valid loss = 4130.55457306,count = 5\n"
     ]
    },
    {
     "name": "stderr",
     "output_type": "stream",
     "text": [
      "train loss = 89.402218: 100%|██████████| 329/329 [00:15<00:00, 21.21it/s]\n",
      "validation loss = 88.988186: 100%|██████████| 47/47 [00:03<00:00, 15.07it/s]\n"
     ]
    },
    {
     "name": "stdout",
     "output_type": "stream",
     "text": [
      "\n",
      "epoch 49, best valid loss = 4130.55457306,count = 6\n"
     ]
    },
    {
     "name": "stderr",
     "output_type": "stream",
     "text": [
      "train loss = 89.583434: 100%|██████████| 329/329 [00:15<00:00, 21.45it/s]\n",
      "validation loss = 89.168532: 100%|██████████| 47/47 [00:02<00:00, 15.75it/s]\n"
     ]
    },
    {
     "name": "stdout",
     "output_type": "stream",
     "text": [
      "\n",
      "epoch 50, best valid loss = 4130.55457306,count = 7\n"
     ]
    },
    {
     "name": "stderr",
     "output_type": "stream",
     "text": [
      "train loss = 89.358788: 100%|██████████| 329/329 [00:15<00:00, 21.03it/s]\n",
      "validation loss = 89.583595: 100%|██████████| 47/47 [00:03<00:00, 15.57it/s]\n"
     ]
    },
    {
     "name": "stdout",
     "output_type": "stream",
     "text": [
      "\n",
      "epoch 51, best valid loss = 4130.55457306,count = 8\n"
     ]
    },
    {
     "name": "stderr",
     "output_type": "stream",
     "text": [
      "train loss = 89.140304: 100%|██████████| 329/329 [00:15<00:00, 21.10it/s]\n",
      "validation loss = 89.234851: 100%|██████████| 47/47 [00:03<00:00, 15.14it/s]\n"
     ]
    },
    {
     "name": "stdout",
     "output_type": "stream",
     "text": [
      "\n",
      "epoch 52, best valid loss = 4130.55457306,count = 9\n"
     ]
    },
    {
     "name": "stderr",
     "output_type": "stream",
     "text": [
      "train loss = 88.829964: 100%|██████████| 329/329 [00:15<00:00, 21.44it/s]\n",
      "validation loss = 90.180009: 100%|██████████| 47/47 [00:03<00:00, 15.36it/s]\n"
     ]
    },
    {
     "name": "stdout",
     "output_type": "stream",
     "text": [
      "\n",
      "epoch 53, best valid loss = 4130.55457306,count = 10\n"
     ]
    },
    {
     "name": "stderr",
     "output_type": "stream",
     "text": [
      "train loss = 89.186279: 100%|██████████| 329/329 [00:15<00:00, 21.51it/s]\n",
      "validation loss = 89.945499: 100%|██████████| 47/47 [00:02<00:00, 15.71it/s]\n"
     ]
    },
    {
     "name": "stdout",
     "output_type": "stream",
     "text": [
      "\n",
      "epoch 54, best valid loss = 4130.55457306,count = 11\n"
     ]
    },
    {
     "name": "stderr",
     "output_type": "stream",
     "text": [
      "train loss = 89.003710: 100%|██████████| 329/329 [00:15<00:00, 21.07it/s]\n",
      "validation loss = 89.496848: 100%|██████████| 47/47 [00:02<00:00, 15.68it/s]\n"
     ]
    },
    {
     "name": "stdout",
     "output_type": "stream",
     "text": [
      "\n",
      "epoch 55, best valid loss = 4130.55457306,count = 12\n"
     ]
    },
    {
     "name": "stderr",
     "output_type": "stream",
     "text": [
      "train loss = 89.395947:  73%|███████▎  | 241/329 [00:11<00:03, 23.47it/s]"
     ]
    }
   ],
   "source": [
    "%load 1.1.train_model_weight.py\n",
    "%run 1.1.train_model_weight.py"
   ]
  },
  {
   "cell_type": "code",
   "execution_count": null,
   "id": "3a01b7a5-d477-4170-8bcb-f4e42870e2e2",
   "metadata": {},
   "outputs": [],
   "source": [
    "!/usr/bin/shutdown"
   ]
  },
  {
   "cell_type": "code",
   "execution_count": null,
   "id": "7b2e3dec-b960-4b20-800a-c804738de018",
   "metadata": {},
   "outputs": [],
   "source": []
  }
 ],
 "metadata": {
  "kernelspec": {
   "display_name": "py38",
   "language": "python",
   "name": "py38"
  },
  "language_info": {
   "codemirror_mode": {
    "name": "ipython",
    "version": 3
   },
   "file_extension": ".py",
   "mimetype": "text/x-python",
   "name": "python",
   "nbconvert_exporter": "python",
   "pygments_lexer": "ipython3",
   "version": "3.8.13"
  }
 },
 "nbformat": 4,
 "nbformat_minor": 5
}
