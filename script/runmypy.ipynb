{
 "cells": [
  {
   "cell_type": "code",
   "execution_count": 1,
   "id": "9a1ffe47-09b2-497d-ad1f-fff7c48f286a",
   "metadata": {},
   "outputs": [
    {
     "name": "stderr",
     "output_type": "stream",
     "text": [
      "train loss = 1.448589: 100%|██████████| 329/329 [00:17<00:00, 19.06it/s]\n",
      "validation loss = 1.377835: 100%|██████████| 47/47 [00:03<00:00, 15.30it/s]\n"
     ]
    },
    {
     "name": "stdout",
     "output_type": "stream",
     "text": [
      "\n",
      "epoch 1, best valid loss = inf,count = 0\n"
     ]
    },
    {
     "name": "stderr",
     "output_type": "stream",
     "text": [
      "train loss = 1.369081: 100%|██████████| 329/329 [00:14<00:00, 22.33it/s]\n",
      "validation loss = 1.367787: 100%|██████████| 47/47 [00:02<00:00, 16.21it/s]\n"
     ]
    },
    {
     "name": "stdout",
     "output_type": "stream",
     "text": [
      "\n",
      "epoch 2, best valid loss = inf,count = 0\n"
     ]
    },
    {
     "name": "stderr",
     "output_type": "stream",
     "text": [
      "train loss = 1.353197: 100%|██████████| 329/329 [00:15<00:00, 21.72it/s]\n",
      "validation loss = 1.394608: 100%|██████████| 47/47 [00:03<00:00, 15.39it/s]\n"
     ]
    },
    {
     "name": "stdout",
     "output_type": "stream",
     "text": [
      "\n",
      "epoch 3, best valid loss = inf,count = 0\n"
     ]
    },
    {
     "name": "stderr",
     "output_type": "stream",
     "text": [
      "train loss = 1.348435: 100%|██████████| 329/329 [00:15<00:00, 21.11it/s]\n",
      "validation loss = 1.337989: 100%|██████████| 47/47 [00:03<00:00, 14.75it/s]\n"
     ]
    },
    {
     "name": "stdout",
     "output_type": "stream",
     "text": [
      "\n",
      "epoch 4, best valid loss = 62.88549793,count = 0\n"
     ]
    },
    {
     "name": "stderr",
     "output_type": "stream",
     "text": [
      "train loss = 1.345237: 100%|██████████| 329/329 [00:15<00:00, 21.53it/s]\n",
      "validation loss = 1.338988: 100%|██████████| 47/47 [00:03<00:00, 14.94it/s]\n"
     ]
    },
    {
     "name": "stdout",
     "output_type": "stream",
     "text": [
      "\n",
      "epoch 5, best valid loss = 62.88549793,count = 1\n"
     ]
    },
    {
     "name": "stderr",
     "output_type": "stream",
     "text": [
      "train loss = 1.339932: 100%|██████████| 329/329 [00:15<00:00, 21.05it/s]\n",
      "validation loss = 1.352521: 100%|██████████| 47/47 [00:03<00:00, 15.04it/s]\n"
     ]
    },
    {
     "name": "stdout",
     "output_type": "stream",
     "text": [
      "\n",
      "epoch 6, best valid loss = 62.88549793,count = 2\n"
     ]
    },
    {
     "name": "stderr",
     "output_type": "stream",
     "text": [
      "train loss = 1.330811: 100%|██████████| 329/329 [00:15<00:00, 21.23it/s]\n",
      "validation loss = 1.337971: 100%|██████████| 47/47 [00:03<00:00, 15.07it/s]\n"
     ]
    },
    {
     "name": "stdout",
     "output_type": "stream",
     "text": [
      "\n",
      "epoch 7, best valid loss = 62.88461411,count = 0\n"
     ]
    },
    {
     "name": "stderr",
     "output_type": "stream",
     "text": [
      "train loss = 1.335072: 100%|██████████| 329/329 [00:15<00:00, 21.37it/s]\n",
      "validation loss = 1.326726: 100%|██████████| 47/47 [00:03<00:00, 15.37it/s]\n"
     ]
    },
    {
     "name": "stdout",
     "output_type": "stream",
     "text": [
      "\n",
      "epoch 8, best valid loss = 62.35613251,count = 0\n"
     ]
    },
    {
     "name": "stderr",
     "output_type": "stream",
     "text": [
      "train loss = 1.337398: 100%|██████████| 329/329 [00:15<00:00, 21.43it/s]\n",
      "validation loss = 1.316402: 100%|██████████| 47/47 [00:03<00:00, 15.51it/s]\n"
     ]
    },
    {
     "name": "stdout",
     "output_type": "stream",
     "text": [
      "\n",
      "epoch 9, best valid loss = 61.87090945,count = 0\n"
     ]
    },
    {
     "name": "stderr",
     "output_type": "stream",
     "text": [
      "train loss = 1.327516: 100%|██████████| 329/329 [00:15<00:00, 21.30it/s]\n",
      "validation loss = 1.315708: 100%|██████████| 47/47 [00:03<00:00, 14.83it/s]\n"
     ]
    },
    {
     "name": "stdout",
     "output_type": "stream",
     "text": [
      "\n",
      "epoch 10, best valid loss = 61.83827376,count = 0\n"
     ]
    },
    {
     "name": "stderr",
     "output_type": "stream",
     "text": [
      "train loss = 1.331461: 100%|██████████| 329/329 [00:15<00:00, 21.38it/s]\n",
      "validation loss = 1.329882: 100%|██████████| 47/47 [00:03<00:00, 15.00it/s]\n"
     ]
    },
    {
     "name": "stdout",
     "output_type": "stream",
     "text": [
      "\n",
      "epoch 11, best valid loss = 61.83827376,count = 1\n"
     ]
    },
    {
     "name": "stderr",
     "output_type": "stream",
     "text": [
      "train loss = 1.329315: 100%|██████████| 329/329 [00:15<00:00, 21.42it/s]\n",
      "validation loss = 1.318765: 100%|██████████| 47/47 [00:03<00:00, 15.08it/s]\n"
     ]
    },
    {
     "name": "stdout",
     "output_type": "stream",
     "text": [
      "\n",
      "epoch 12, best valid loss = 61.83827376,count = 2\n"
     ]
    },
    {
     "name": "stderr",
     "output_type": "stream",
     "text": [
      "train loss = 1.332236: 100%|██████████| 329/329 [00:15<00:00, 21.48it/s]\n",
      "validation loss = 1.336000: 100%|██████████| 47/47 [00:03<00:00, 15.50it/s]\n"
     ]
    },
    {
     "name": "stdout",
     "output_type": "stream",
     "text": [
      "\n",
      "epoch 13, best valid loss = 61.83827376,count = 3\n"
     ]
    },
    {
     "name": "stderr",
     "output_type": "stream",
     "text": [
      "train loss = 1.323079: 100%|██████████| 329/329 [00:15<00:00, 21.75it/s]\n",
      "validation loss = 1.295337: 100%|██████████| 47/47 [00:03<00:00, 15.23it/s]\n"
     ]
    },
    {
     "name": "stdout",
     "output_type": "stream",
     "text": [
      "\n",
      "epoch 14, best valid loss = 60.88084686,count = 0\n"
     ]
    },
    {
     "name": "stderr",
     "output_type": "stream",
     "text": [
      "train loss = 1.328692: 100%|██████████| 329/329 [00:15<00:00, 21.29it/s]\n",
      "validation loss = 1.322431: 100%|██████████| 47/47 [00:03<00:00, 15.18it/s]\n"
     ]
    },
    {
     "name": "stdout",
     "output_type": "stream",
     "text": [
      "\n",
      "epoch 15, best valid loss = 60.88084686,count = 1\n"
     ]
    },
    {
     "name": "stderr",
     "output_type": "stream",
     "text": [
      "train loss = 1.332167: 100%|██████████| 329/329 [00:15<00:00, 21.41it/s]\n",
      "validation loss = 1.312645: 100%|██████████| 47/47 [00:03<00:00, 15.40it/s]\n"
     ]
    },
    {
     "name": "stdout",
     "output_type": "stream",
     "text": [
      "\n",
      "epoch 16, best valid loss = 60.88084686,count = 2\n"
     ]
    },
    {
     "name": "stderr",
     "output_type": "stream",
     "text": [
      "train loss = 1.327385: 100%|██████████| 329/329 [00:15<00:00, 21.24it/s]\n",
      "validation loss = 1.317628: 100%|██████████| 47/47 [00:03<00:00, 15.07it/s]\n"
     ]
    },
    {
     "name": "stdout",
     "output_type": "stream",
     "text": [
      "\n",
      "epoch 17, best valid loss = 60.88084686,count = 3\n"
     ]
    },
    {
     "name": "stderr",
     "output_type": "stream",
     "text": [
      "train loss = 1.323161: 100%|██████████| 329/329 [00:15<00:00, 21.34it/s]\n",
      "validation loss = 1.306958: 100%|██████████| 47/47 [00:03<00:00, 14.97it/s]\n"
     ]
    },
    {
     "name": "stdout",
     "output_type": "stream",
     "text": [
      "\n",
      "epoch 18, best valid loss = 60.88084686,count = 4\n"
     ]
    },
    {
     "name": "stderr",
     "output_type": "stream",
     "text": [
      "train loss = 1.318208: 100%|██████████| 329/329 [00:15<00:00, 21.29it/s]\n",
      "validation loss = 1.316613: 100%|██████████| 47/47 [00:03<00:00, 15.43it/s]\n"
     ]
    },
    {
     "name": "stdout",
     "output_type": "stream",
     "text": [
      "\n",
      "epoch 19, best valid loss = 60.88084686,count = 5\n"
     ]
    },
    {
     "name": "stderr",
     "output_type": "stream",
     "text": [
      "train loss = 1.324416: 100%|██████████| 329/329 [00:15<00:00, 21.36it/s]\n",
      "validation loss = 1.301336: 100%|██████████| 47/47 [00:03<00:00, 15.13it/s]\n"
     ]
    },
    {
     "name": "stdout",
     "output_type": "stream",
     "text": [
      "\n",
      "epoch 20, best valid loss = 60.88084686,count = 6\n"
     ]
    },
    {
     "name": "stderr",
     "output_type": "stream",
     "text": [
      "train loss = 1.327535: 100%|██████████| 329/329 [00:15<00:00, 21.51it/s]\n",
      "validation loss = 1.304343: 100%|██████████| 47/47 [00:03<00:00, 14.98it/s]\n"
     ]
    },
    {
     "name": "stdout",
     "output_type": "stream",
     "text": [
      "\n",
      "epoch 21, best valid loss = 60.88084686,count = 7\n"
     ]
    },
    {
     "name": "stderr",
     "output_type": "stream",
     "text": [
      "train loss = 1.317037: 100%|██████████| 329/329 [00:15<00:00, 21.49it/s]\n",
      "validation loss = 1.308143: 100%|██████████| 47/47 [00:03<00:00, 14.71it/s]\n"
     ]
    },
    {
     "name": "stdout",
     "output_type": "stream",
     "text": [
      "\n",
      "epoch 22, best valid loss = 60.88084686,count = 8\n"
     ]
    },
    {
     "name": "stderr",
     "output_type": "stream",
     "text": [
      "train loss = 1.321357: 100%|██████████| 329/329 [00:15<00:00, 21.40it/s]\n",
      "validation loss = 1.296339: 100%|██████████| 47/47 [00:03<00:00, 14.95it/s]\n"
     ]
    },
    {
     "name": "stdout",
     "output_type": "stream",
     "text": [
      "\n",
      "epoch 23, best valid loss = 60.88084686,count = 9\n"
     ]
    },
    {
     "name": "stderr",
     "output_type": "stream",
     "text": [
      "train loss = 1.314113: 100%|██████████| 329/329 [00:15<00:00, 21.17it/s]\n",
      "validation loss = 1.309074: 100%|██████████| 47/47 [00:03<00:00, 14.63it/s]\n"
     ]
    },
    {
     "name": "stdout",
     "output_type": "stream",
     "text": [
      "\n",
      "epoch 24, best valid loss = 60.88084686,count = 10\n"
     ]
    },
    {
     "name": "stderr",
     "output_type": "stream",
     "text": [
      "train loss = 1.320643: 100%|██████████| 329/329 [00:15<00:00, 21.38it/s]\n",
      "validation loss = 1.295531: 100%|██████████| 47/47 [00:03<00:00, 14.98it/s]\n"
     ]
    },
    {
     "name": "stdout",
     "output_type": "stream",
     "text": [
      "\n",
      "epoch 25, best valid loss = 60.88084686,count = 11\n"
     ]
    },
    {
     "name": "stderr",
     "output_type": "stream",
     "text": [
      "train loss = 1.316211: 100%|██████████| 329/329 [00:15<00:00, 21.34it/s]\n",
      "validation loss = 1.291695: 100%|██████████| 47/47 [00:03<00:00, 15.09it/s]\n"
     ]
    },
    {
     "name": "stdout",
     "output_type": "stream",
     "text": [
      "\n",
      "epoch 26, best valid loss = 60.70965064,count = 0\n"
     ]
    },
    {
     "name": "stderr",
     "output_type": "stream",
     "text": [
      "train loss = 1.312674: 100%|██████████| 329/329 [00:15<00:00, 21.59it/s]\n",
      "validation loss = 1.296443: 100%|██████████| 47/47 [00:03<00:00, 14.97it/s]\n"
     ]
    },
    {
     "name": "stdout",
     "output_type": "stream",
     "text": [
      "\n",
      "epoch 27, best valid loss = 60.70965064,count = 1\n"
     ]
    },
    {
     "name": "stderr",
     "output_type": "stream",
     "text": [
      "train loss = 1.318360: 100%|██████████| 329/329 [00:15<00:00, 21.71it/s]\n",
      "validation loss = 1.311420: 100%|██████████| 47/47 [00:03<00:00, 15.21it/s]\n"
     ]
    },
    {
     "name": "stdout",
     "output_type": "stream",
     "text": [
      "\n",
      "epoch 28, best valid loss = 60.70965064,count = 2\n"
     ]
    },
    {
     "name": "stderr",
     "output_type": "stream",
     "text": [
      "train loss = 1.317307: 100%|██████████| 329/329 [00:15<00:00, 21.65it/s]\n",
      "validation loss = 1.310814: 100%|██████████| 47/47 [00:03<00:00, 15.04it/s]\n"
     ]
    },
    {
     "name": "stdout",
     "output_type": "stream",
     "text": [
      "\n",
      "epoch 29, best valid loss = 60.70965064,count = 3\n"
     ]
    },
    {
     "name": "stderr",
     "output_type": "stream",
     "text": [
      "train loss = 1.316555: 100%|██████████| 329/329 [00:15<00:00, 21.35it/s]\n",
      "validation loss = 1.295589: 100%|██████████| 47/47 [00:03<00:00, 15.11it/s]\n"
     ]
    },
    {
     "name": "stdout",
     "output_type": "stream",
     "text": [
      "\n",
      "epoch 30, best valid loss = 60.70965064,count = 4\n"
     ]
    },
    {
     "name": "stderr",
     "output_type": "stream",
     "text": [
      "train loss = 1.315959: 100%|██████████| 329/329 [00:15<00:00, 21.41it/s]\n",
      "validation loss = 1.301432: 100%|██████████| 47/47 [00:03<00:00, 14.54it/s]\n"
     ]
    },
    {
     "name": "stdout",
     "output_type": "stream",
     "text": [
      "\n",
      "epoch 31, best valid loss = 60.70965064,count = 5\n"
     ]
    },
    {
     "name": "stderr",
     "output_type": "stream",
     "text": [
      "train loss = 1.315819: 100%|██████████| 329/329 [00:15<00:00, 21.77it/s]\n",
      "validation loss = 1.300363: 100%|██████████| 47/47 [00:03<00:00, 14.82it/s]\n"
     ]
    },
    {
     "name": "stdout",
     "output_type": "stream",
     "text": [
      "\n",
      "epoch 32, best valid loss = 60.70965064,count = 6\n"
     ]
    },
    {
     "name": "stderr",
     "output_type": "stream",
     "text": [
      "train loss = 1.309474: 100%|██████████| 329/329 [00:15<00:00, 21.29it/s]\n",
      "validation loss = 1.306287: 100%|██████████| 47/47 [00:03<00:00, 15.31it/s]\n"
     ]
    },
    {
     "name": "stdout",
     "output_type": "stream",
     "text": [
      "\n",
      "epoch 33, best valid loss = 60.70965064,count = 7\n"
     ]
    },
    {
     "name": "stderr",
     "output_type": "stream",
     "text": [
      "train loss = 1.314366: 100%|██████████| 329/329 [00:15<00:00, 21.65it/s]\n",
      "validation loss = 1.307404: 100%|██████████| 47/47 [00:03<00:00, 14.83it/s]\n"
     ]
    },
    {
     "name": "stdout",
     "output_type": "stream",
     "text": [
      "\n",
      "epoch 34, best valid loss = 60.70965064,count = 8\n"
     ]
    },
    {
     "name": "stderr",
     "output_type": "stream",
     "text": [
      "train loss = 1.310289: 100%|██████████| 329/329 [00:15<00:00, 21.54it/s]\n",
      "validation loss = 1.291722: 100%|██████████| 47/47 [00:03<00:00, 14.94it/s]\n"
     ]
    },
    {
     "name": "stdout",
     "output_type": "stream",
     "text": [
      "\n",
      "epoch 35, best valid loss = 60.70965064,count = 9\n"
     ]
    },
    {
     "name": "stderr",
     "output_type": "stream",
     "text": [
      "train loss = 1.313408: 100%|██████████| 329/329 [00:15<00:00, 21.82it/s]\n",
      "validation loss = 1.302759: 100%|██████████| 47/47 [00:03<00:00, 15.32it/s]\n"
     ]
    },
    {
     "name": "stdout",
     "output_type": "stream",
     "text": [
      "\n",
      "epoch 36, best valid loss = 60.70965064,count = 10\n"
     ]
    },
    {
     "name": "stderr",
     "output_type": "stream",
     "text": [
      "train loss = 1.307409: 100%|██████████| 329/329 [00:15<00:00, 21.29it/s]\n",
      "validation loss = 1.291190: 100%|██████████| 47/47 [00:03<00:00, 14.92it/s]\n"
     ]
    },
    {
     "name": "stdout",
     "output_type": "stream",
     "text": [
      "\n",
      "epoch 37, best valid loss = 60.68595159,count = 0\n"
     ]
    },
    {
     "name": "stderr",
     "output_type": "stream",
     "text": [
      "train loss = 1.309618: 100%|██████████| 329/329 [00:15<00:00, 21.51it/s]\n",
      "validation loss = 1.291266: 100%|██████████| 47/47 [00:03<00:00, 15.04it/s]\n"
     ]
    },
    {
     "name": "stdout",
     "output_type": "stream",
     "text": [
      "\n",
      "epoch 38, best valid loss = 60.68595159,count = 1\n"
     ]
    },
    {
     "name": "stderr",
     "output_type": "stream",
     "text": [
      "train loss = 1.310151: 100%|██████████| 329/329 [00:15<00:00, 21.32it/s]\n",
      "validation loss = 1.307271: 100%|██████████| 47/47 [00:03<00:00, 15.38it/s]\n"
     ]
    },
    {
     "name": "stdout",
     "output_type": "stream",
     "text": [
      "\n",
      "epoch 39, best valid loss = 60.68595159,count = 2\n"
     ]
    },
    {
     "name": "stderr",
     "output_type": "stream",
     "text": [
      "train loss = 1.312040: 100%|██████████| 329/329 [00:15<00:00, 21.36it/s]\n",
      "validation loss = 1.297987: 100%|██████████| 47/47 [00:03<00:00, 15.24it/s]\n"
     ]
    },
    {
     "name": "stdout",
     "output_type": "stream",
     "text": [
      "\n",
      "epoch 40, best valid loss = 60.68595159,count = 3\n"
     ]
    },
    {
     "name": "stderr",
     "output_type": "stream",
     "text": [
      "train loss = 1.312825: 100%|██████████| 329/329 [00:15<00:00, 21.56it/s]\n",
      "validation loss = 1.303627: 100%|██████████| 47/47 [00:03<00:00, 14.88it/s]\n"
     ]
    },
    {
     "name": "stdout",
     "output_type": "stream",
     "text": [
      "\n",
      "epoch 41, best valid loss = 60.68595159,count = 4\n"
     ]
    },
    {
     "name": "stderr",
     "output_type": "stream",
     "text": [
      "train loss = 1.309369: 100%|██████████| 329/329 [00:15<00:00, 21.64it/s]\n",
      "validation loss = 1.294367: 100%|██████████| 47/47 [00:03<00:00, 14.38it/s]\n"
     ]
    },
    {
     "name": "stdout",
     "output_type": "stream",
     "text": [
      "\n",
      "epoch 42, best valid loss = 60.68595159,count = 5\n"
     ]
    },
    {
     "name": "stderr",
     "output_type": "stream",
     "text": [
      "train loss = 1.307465: 100%|██████████| 329/329 [00:15<00:00, 21.22it/s]\n",
      "validation loss = 1.296035: 100%|██████████| 47/47 [00:03<00:00, 14.94it/s]\n"
     ]
    },
    {
     "name": "stdout",
     "output_type": "stream",
     "text": [
      "\n",
      "epoch 43, best valid loss = 60.68595159,count = 6\n"
     ]
    },
    {
     "name": "stderr",
     "output_type": "stream",
     "text": [
      "train loss = 1.311221: 100%|██████████| 329/329 [00:15<00:00, 21.47it/s]\n",
      "validation loss = 1.299869: 100%|██████████| 47/47 [00:03<00:00, 15.34it/s]\n"
     ]
    },
    {
     "name": "stdout",
     "output_type": "stream",
     "text": [
      "\n",
      "epoch 44, best valid loss = 60.68595159,count = 7\n"
     ]
    },
    {
     "name": "stderr",
     "output_type": "stream",
     "text": [
      "train loss = 1.309367: 100%|██████████| 329/329 [00:14<00:00, 22.13it/s]\n",
      "validation loss = 1.294753: 100%|██████████| 47/47 [00:03<00:00, 15.10it/s]\n"
     ]
    },
    {
     "name": "stdout",
     "output_type": "stream",
     "text": [
      "\n",
      "epoch 45, best valid loss = 60.68595159,count = 8\n"
     ]
    },
    {
     "name": "stderr",
     "output_type": "stream",
     "text": [
      "train loss = 1.307993: 100%|██████████| 329/329 [00:15<00:00, 21.34it/s]\n",
      "validation loss = 1.285740: 100%|██████████| 47/47 [00:03<00:00, 15.01it/s]\n"
     ]
    },
    {
     "name": "stdout",
     "output_type": "stream",
     "text": [
      "\n",
      "epoch 46, best valid loss = 60.42978930,count = 0\n"
     ]
    },
    {
     "name": "stderr",
     "output_type": "stream",
     "text": [
      "train loss = 1.313224: 100%|██████████| 329/329 [00:15<00:00, 21.43it/s]\n",
      "validation loss = 1.291387: 100%|██████████| 47/47 [00:03<00:00, 14.94it/s]\n"
     ]
    },
    {
     "name": "stdout",
     "output_type": "stream",
     "text": [
      "\n",
      "epoch 47, best valid loss = 60.42978930,count = 1\n"
     ]
    },
    {
     "name": "stderr",
     "output_type": "stream",
     "text": [
      "train loss = 1.309168: 100%|██████████| 329/329 [00:15<00:00, 21.60it/s]\n",
      "validation loss = 1.284738: 100%|██████████| 47/47 [00:03<00:00, 14.84it/s]\n"
     ]
    },
    {
     "name": "stdout",
     "output_type": "stream",
     "text": [
      "\n",
      "epoch 48, best valid loss = 60.38269043,count = 0\n"
     ]
    },
    {
     "name": "stderr",
     "output_type": "stream",
     "text": [
      "train loss = 1.314327: 100%|██████████| 329/329 [00:15<00:00, 21.50it/s]\n",
      "validation loss = 1.285497: 100%|██████████| 47/47 [00:03<00:00, 15.13it/s]\n"
     ]
    },
    {
     "name": "stdout",
     "output_type": "stream",
     "text": [
      "\n",
      "epoch 49, best valid loss = 60.38269043,count = 1\n"
     ]
    },
    {
     "name": "stderr",
     "output_type": "stream",
     "text": [
      "train loss = 1.299489: 100%|██████████| 329/329 [00:15<00:00, 21.60it/s]\n",
      "validation loss = 1.301073: 100%|██████████| 47/47 [00:03<00:00, 14.99it/s]\n"
     ]
    },
    {
     "name": "stdout",
     "output_type": "stream",
     "text": [
      "\n",
      "epoch 50, best valid loss = 60.38269043,count = 2\n"
     ]
    },
    {
     "name": "stderr",
     "output_type": "stream",
     "text": [
      "train loss = 1.304244: 100%|██████████| 329/329 [00:15<00:00, 21.56it/s]\n",
      "validation loss = 1.301059: 100%|██████████| 47/47 [00:03<00:00, 14.77it/s]\n"
     ]
    },
    {
     "name": "stdout",
     "output_type": "stream",
     "text": [
      "\n",
      "epoch 51, best valid loss = 60.38269043,count = 3\n"
     ]
    },
    {
     "name": "stderr",
     "output_type": "stream",
     "text": [
      "train loss = 1.300492: 100%|██████████| 329/329 [00:15<00:00, 21.56it/s]\n",
      "validation loss = 1.290989: 100%|██████████| 47/47 [00:02<00:00, 15.98it/s]\n"
     ]
    },
    {
     "name": "stdout",
     "output_type": "stream",
     "text": [
      "\n",
      "epoch 52, best valid loss = 60.38269043,count = 4\n"
     ]
    },
    {
     "name": "stderr",
     "output_type": "stream",
     "text": [
      "train loss = 1.309122: 100%|██████████| 329/329 [00:15<00:00, 21.75it/s]\n",
      "validation loss = 1.294151: 100%|██████████| 47/47 [00:03<00:00, 14.80it/s]\n"
     ]
    },
    {
     "name": "stdout",
     "output_type": "stream",
     "text": [
      "\n",
      "epoch 53, best valid loss = 60.38269043,count = 5\n"
     ]
    },
    {
     "name": "stderr",
     "output_type": "stream",
     "text": [
      "train loss = 1.303012: 100%|██████████| 329/329 [00:15<00:00, 21.40it/s]\n",
      "validation loss = 1.287097: 100%|██████████| 47/47 [00:03<00:00, 15.38it/s]\n"
     ]
    },
    {
     "name": "stdout",
     "output_type": "stream",
     "text": [
      "\n",
      "epoch 54, best valid loss = 60.38269043,count = 6\n"
     ]
    },
    {
     "name": "stderr",
     "output_type": "stream",
     "text": [
      "train loss = 1.309442: 100%|██████████| 329/329 [00:15<00:00, 21.09it/s]\n",
      "validation loss = 1.274421: 100%|██████████| 47/47 [00:03<00:00, 15.26it/s]\n"
     ]
    },
    {
     "name": "stdout",
     "output_type": "stream",
     "text": [
      "\n",
      "epoch 55, best valid loss = 59.89779401,count = 0\n"
     ]
    },
    {
     "name": "stderr",
     "output_type": "stream",
     "text": [
      "train loss = 1.306983: 100%|██████████| 329/329 [00:15<00:00, 21.27it/s]\n",
      "validation loss = 1.294421: 100%|██████████| 47/47 [00:03<00:00, 15.20it/s]\n"
     ]
    },
    {
     "name": "stdout",
     "output_type": "stream",
     "text": [
      "\n",
      "epoch 56, best valid loss = 59.89779401,count = 1\n"
     ]
    },
    {
     "name": "stderr",
     "output_type": "stream",
     "text": [
      "train loss = 1.304903: 100%|██████████| 329/329 [00:15<00:00, 21.31it/s]\n",
      "validation loss = 1.286003: 100%|██████████| 47/47 [00:03<00:00, 14.99it/s]\n"
     ]
    },
    {
     "name": "stdout",
     "output_type": "stream",
     "text": [
      "\n",
      "epoch 57, best valid loss = 59.89779401,count = 2\n"
     ]
    },
    {
     "name": "stderr",
     "output_type": "stream",
     "text": [
      "train loss = 1.305438: 100%|██████████| 329/329 [00:15<00:00, 21.60it/s]\n",
      "validation loss = 1.289784: 100%|██████████| 47/47 [00:03<00:00, 14.83it/s]\n"
     ]
    },
    {
     "name": "stdout",
     "output_type": "stream",
     "text": [
      "\n",
      "epoch 58, best valid loss = 59.89779401,count = 3\n"
     ]
    },
    {
     "name": "stderr",
     "output_type": "stream",
     "text": [
      "train loss = 1.303981: 100%|██████████| 329/329 [00:15<00:00, 21.64it/s]\n",
      "validation loss = 1.290118: 100%|██████████| 47/47 [00:03<00:00, 15.53it/s]\n"
     ]
    },
    {
     "name": "stdout",
     "output_type": "stream",
     "text": [
      "\n",
      "epoch 59, best valid loss = 59.89779401,count = 4\n"
     ]
    },
    {
     "name": "stderr",
     "output_type": "stream",
     "text": [
      "train loss = 1.304664: 100%|██████████| 329/329 [00:15<00:00, 21.49it/s]\n",
      "validation loss = 1.285870: 100%|██████████| 47/47 [00:03<00:00, 15.05it/s]\n"
     ]
    },
    {
     "name": "stdout",
     "output_type": "stream",
     "text": [
      "\n",
      "epoch 60, best valid loss = 59.89779401,count = 5\n"
     ]
    },
    {
     "name": "stderr",
     "output_type": "stream",
     "text": [
      "train loss = 1.303470: 100%|██████████| 329/329 [00:15<00:00, 21.47it/s]\n",
      "validation loss = 1.285134: 100%|██████████| 47/47 [00:03<00:00, 14.35it/s]\n"
     ]
    },
    {
     "name": "stdout",
     "output_type": "stream",
     "text": [
      "\n",
      "epoch 61, best valid loss = 59.89779401,count = 6\n"
     ]
    },
    {
     "name": "stderr",
     "output_type": "stream",
     "text": [
      "train loss = 1.307536: 100%|██████████| 329/329 [00:15<00:00, 21.36it/s]\n",
      "validation loss = 1.291135: 100%|██████████| 47/47 [00:03<00:00, 15.26it/s]\n"
     ]
    },
    {
     "name": "stdout",
     "output_type": "stream",
     "text": [
      "\n",
      "epoch 62, best valid loss = 59.89779401,count = 7\n"
     ]
    },
    {
     "name": "stderr",
     "output_type": "stream",
     "text": [
      "train loss = 1.308325: 100%|██████████| 329/329 [00:15<00:00, 21.24it/s]\n",
      "validation loss = 1.283511: 100%|██████████| 47/47 [00:03<00:00, 15.05it/s]\n"
     ]
    },
    {
     "name": "stdout",
     "output_type": "stream",
     "text": [
      "\n",
      "epoch 63, best valid loss = 59.89779401,count = 8\n"
     ]
    },
    {
     "name": "stderr",
     "output_type": "stream",
     "text": [
      "train loss = 1.315199: 100%|██████████| 329/329 [00:15<00:00, 21.42it/s]\n",
      "validation loss = 1.274960: 100%|██████████| 47/47 [00:03<00:00, 15.06it/s]\n"
     ]
    },
    {
     "name": "stdout",
     "output_type": "stream",
     "text": [
      "\n",
      "epoch 64, best valid loss = 59.89779401,count = 9\n"
     ]
    },
    {
     "name": "stderr",
     "output_type": "stream",
     "text": [
      "train loss = 1.306043: 100%|██████████| 329/329 [00:15<00:00, 21.40it/s]\n",
      "validation loss = 1.275165: 100%|██████████| 47/47 [00:03<00:00, 14.73it/s]\n"
     ]
    },
    {
     "name": "stdout",
     "output_type": "stream",
     "text": [
      "\n",
      "epoch 65, best valid loss = 59.89779401,count = 10\n"
     ]
    },
    {
     "name": "stderr",
     "output_type": "stream",
     "text": [
      "train loss = 1.302903: 100%|██████████| 329/329 [00:15<00:00, 21.29it/s]\n",
      "validation loss = 1.289284: 100%|██████████| 47/47 [00:03<00:00, 14.54it/s]\n"
     ]
    },
    {
     "name": "stdout",
     "output_type": "stream",
     "text": [
      "\n",
      "epoch 66, best valid loss = 59.89779401,count = 11\n"
     ]
    },
    {
     "name": "stderr",
     "output_type": "stream",
     "text": [
      "train loss = 1.300798: 100%|██████████| 329/329 [00:15<00:00, 21.40it/s]\n",
      "validation loss = 1.289161: 100%|██████████| 47/47 [00:03<00:00, 14.73it/s]\n"
     ]
    },
    {
     "name": "stdout",
     "output_type": "stream",
     "text": [
      "\n",
      "epoch 67, best valid loss = 59.89779401,count = 12\n"
     ]
    },
    {
     "name": "stderr",
     "output_type": "stream",
     "text": [
      "train loss = 1.298044: 100%|██████████| 329/329 [00:15<00:00, 21.74it/s]\n",
      "validation loss = 1.291120: 100%|██████████| 47/47 [00:03<00:00, 15.08it/s]\n"
     ]
    },
    {
     "name": "stdout",
     "output_type": "stream",
     "text": [
      "\n",
      "epoch 68, best valid loss = 59.89779401,count = 13\n"
     ]
    },
    {
     "name": "stderr",
     "output_type": "stream",
     "text": [
      "train loss = 1.306073: 100%|██████████| 329/329 [00:15<00:00, 21.45it/s]\n",
      "validation loss = 1.276474: 100%|██████████| 47/47 [00:03<00:00, 15.03it/s]\n"
     ]
    },
    {
     "name": "stdout",
     "output_type": "stream",
     "text": [
      "\n",
      "epoch 69, best valid loss = 59.89779401,count = 14\n"
     ]
    },
    {
     "name": "stderr",
     "output_type": "stream",
     "text": [
      "train loss = 1.311202: 100%|██████████| 329/329 [00:15<00:00, 21.41it/s]\n",
      "validation loss = 1.280864: 100%|██████████| 47/47 [00:03<00:00, 15.09it/s]\n"
     ]
    },
    {
     "name": "stdout",
     "output_type": "stream",
     "text": [
      "\n",
      "epoch 70, best valid loss = 59.89779401,count = 15\n"
     ]
    },
    {
     "name": "stderr",
     "output_type": "stream",
     "text": [
      "train loss = 1.302889: 100%|██████████| 329/329 [00:15<00:00, 21.80it/s]\n",
      "validation loss = 1.296427: 100%|██████████| 47/47 [00:03<00:00, 15.23it/s]\n"
     ]
    },
    {
     "name": "stdout",
     "output_type": "stream",
     "text": [
      "\n",
      "epoch 71, best valid loss = 59.89779401,count = 16\n"
     ]
    },
    {
     "name": "stderr",
     "output_type": "stream",
     "text": [
      "train loss = 1.303003: 100%|██████████| 329/329 [00:15<00:00, 21.49it/s]\n",
      "validation loss = 1.287123: 100%|██████████| 47/47 [00:03<00:00, 15.08it/s]\n"
     ]
    },
    {
     "name": "stdout",
     "output_type": "stream",
     "text": [
      "\n",
      "epoch 72, best valid loss = 59.89779401,count = 17\n"
     ]
    },
    {
     "name": "stderr",
     "output_type": "stream",
     "text": [
      "train loss = 1.299030: 100%|██████████| 329/329 [00:15<00:00, 21.44it/s]\n",
      "validation loss = 1.280941: 100%|██████████| 47/47 [00:03<00:00, 15.18it/s]\n"
     ]
    },
    {
     "name": "stdout",
     "output_type": "stream",
     "text": [
      "\n",
      "epoch 73, best valid loss = 59.89779401,count = 18\n"
     ]
    },
    {
     "name": "stderr",
     "output_type": "stream",
     "text": [
      "train loss = 1.302986: 100%|██████████| 329/329 [00:15<00:00, 21.62it/s]\n",
      "validation loss = 1.277875: 100%|██████████| 47/47 [00:03<00:00, 15.02it/s]\n"
     ]
    },
    {
     "name": "stdout",
     "output_type": "stream",
     "text": [
      "\n",
      "epoch 74, best valid loss = 59.89779401,count = 19\n"
     ]
    },
    {
     "name": "stderr",
     "output_type": "stream",
     "text": [
      "train loss = 1.306061: 100%|██████████| 329/329 [00:15<00:00, 21.60it/s]\n",
      "validation loss = 1.282998: 100%|██████████| 47/47 [00:03<00:00, 15.34it/s]\n"
     ]
    }
   ],
   "source": [
    "%load 1.2.train_model_weight.py\n",
    "%run 1.2.train_model_weight.py"
   ]
  },
  {
   "cell_type": "code",
   "execution_count": null,
   "id": "3a01b7a5-d477-4170-8bcb-f4e42870e2e2",
   "metadata": {},
   "outputs": [],
   "source": [
    "!/usr/bin/shutdown"
   ]
  }
 ],
 "metadata": {
  "kernelspec": {
   "display_name": "py38",
   "language": "python",
   "name": "py38"
  },
  "language_info": {
   "codemirror_mode": {
    "name": "ipython",
    "version": 3
   },
   "file_extension": ".py",
   "mimetype": "text/x-python",
   "name": "python",
   "nbconvert_exporter": "python",
   "pygments_lexer": "ipython3",
   "version": "3.8.13"
  }
 },
 "nbformat": 4,
 "nbformat_minor": 5
}
