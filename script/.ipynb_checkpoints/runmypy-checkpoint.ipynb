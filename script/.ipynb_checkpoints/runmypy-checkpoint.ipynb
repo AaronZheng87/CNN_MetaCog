{
 "cells": [
  {
   "cell_type": "code",
   "execution_count": 2,
   "id": "9a1ffe47-09b2-497d-ad1f-fff7c48f286a",
   "metadata": {},
   "outputs": [
    {
     "name": "stderr",
     "output_type": "stream",
     "text": [
      "train loss = 64.611428: 100%|██████████| 329/329 [00:17<00:00, 18.43it/s]\n",
      "validation loss = 65.205490: 100%|██████████| 47/47 [00:02<00:00, 16.03it/s]\n"
     ]
    },
    {
     "name": "stdout",
     "output_type": "stream",
     "text": [
      "\n",
      "epoch 1, best valid loss = inf,count = 0\n"
     ]
    },
    {
     "name": "stderr",
     "output_type": "stream",
     "text": [
      "train loss = 61.946259: 100%|██████████| 329/329 [00:15<00:00, 21.04it/s]\n",
      "validation loss = 66.328201: 100%|██████████| 47/47 [00:03<00:00, 15.50it/s]\n"
     ]
    },
    {
     "name": "stdout",
     "output_type": "stream",
     "text": [
      "\n",
      "epoch 2, best valid loss = inf,count = 0\n"
     ]
    },
    {
     "name": "stderr",
     "output_type": "stream",
     "text": [
      "train loss = 61.406627: 100%|██████████| 329/329 [00:15<00:00, 21.28it/s]\n",
      "validation loss = 61.994955: 100%|██████████| 47/47 [00:03<00:00, 15.03it/s]\n"
     ]
    },
    {
     "name": "stdout",
     "output_type": "stream",
     "text": [
      "\n",
      "epoch 3, best valid loss = inf,count = 0\n"
     ]
    },
    {
     "name": "stderr",
     "output_type": "stream",
     "text": [
      "train loss = 61.239983: 100%|██████████| 329/329 [00:15<00:00, 21.17it/s]\n",
      "validation loss = 61.797948: 100%|██████████| 47/47 [00:03<00:00, 15.63it/s]\n"
     ]
    },
    {
     "name": "stdout",
     "output_type": "stream",
     "text": [
      "\n",
      "epoch 4, best valid loss = 2904.50355911,count = 0\n"
     ]
    },
    {
     "name": "stderr",
     "output_type": "stream",
     "text": [
      "train loss = 60.957102: 100%|██████████| 329/329 [00:15<00:00, 20.89it/s]\n",
      "validation loss = 61.577816: 100%|██████████| 47/47 [00:03<00:00, 15.44it/s]\n"
     ]
    },
    {
     "name": "stdout",
     "output_type": "stream",
     "text": [
      "\n",
      "epoch 5, best valid loss = 2894.15736389,count = 0\n"
     ]
    },
    {
     "name": "stderr",
     "output_type": "stream",
     "text": [
      "train loss = 60.761720: 100%|██████████| 329/329 [00:15<00:00, 21.31it/s]\n",
      "validation loss = 62.108396: 100%|██████████| 47/47 [00:03<00:00, 15.65it/s]\n"
     ]
    },
    {
     "name": "stdout",
     "output_type": "stream",
     "text": [
      "\n",
      "epoch 6, best valid loss = 2894.15736389,count = 1\n"
     ]
    },
    {
     "name": "stderr",
     "output_type": "stream",
     "text": [
      "train loss = 61.044636: 100%|██████████| 329/329 [00:15<00:00, 21.29it/s]\n",
      "validation loss = 62.234600: 100%|██████████| 47/47 [00:02<00:00, 15.67it/s]\n"
     ]
    },
    {
     "name": "stdout",
     "output_type": "stream",
     "text": [
      "\n",
      "epoch 7, best valid loss = 2894.15736389,count = 2\n"
     ]
    },
    {
     "name": "stderr",
     "output_type": "stream",
     "text": [
      "train loss = 60.933068: 100%|██████████| 329/329 [00:15<00:00, 21.26it/s]\n",
      "validation loss = 60.687498: 100%|██████████| 47/47 [00:03<00:00, 15.47it/s]\n"
     ]
    },
    {
     "name": "stdout",
     "output_type": "stream",
     "text": [
      "\n",
      "epoch 8, best valid loss = 2852.31241608,count = 0\n"
     ]
    },
    {
     "name": "stderr",
     "output_type": "stream",
     "text": [
      "train loss = 61.011299: 100%|██████████| 329/329 [00:15<00:00, 21.10it/s]\n",
      "validation loss = 62.018974: 100%|██████████| 47/47 [00:03<00:00, 14.69it/s]\n"
     ]
    },
    {
     "name": "stdout",
     "output_type": "stream",
     "text": [
      "\n",
      "epoch 9, best valid loss = 2852.31241608,count = 1\n"
     ]
    },
    {
     "name": "stderr",
     "output_type": "stream",
     "text": [
      "train loss = 60.795677: 100%|██████████| 329/329 [00:15<00:00, 21.03it/s]\n",
      "validation loss = 61.546955: 100%|██████████| 47/47 [00:03<00:00, 15.26it/s]\n"
     ]
    },
    {
     "name": "stdout",
     "output_type": "stream",
     "text": [
      "\n",
      "epoch 10, best valid loss = 2852.31241608,count = 2\n"
     ]
    },
    {
     "name": "stderr",
     "output_type": "stream",
     "text": [
      "train loss = 60.869069: 100%|██████████| 329/329 [00:15<00:00, 20.99it/s]\n",
      "validation loss = 62.688550: 100%|██████████| 47/47 [00:03<00:00, 14.99it/s]\n"
     ]
    },
    {
     "name": "stdout",
     "output_type": "stream",
     "text": [
      "\n",
      "epoch 11, best valid loss = 2852.31241608,count = 3\n"
     ]
    },
    {
     "name": "stderr",
     "output_type": "stream",
     "text": [
      "train loss = 60.408824: 100%|██████████| 329/329 [00:15<00:00, 21.20it/s]\n",
      "validation loss = 61.364486: 100%|██████████| 47/47 [00:03<00:00, 15.05it/s]\n"
     ]
    },
    {
     "name": "stdout",
     "output_type": "stream",
     "text": [
      "\n",
      "epoch 12, best valid loss = 2852.31241608,count = 4\n"
     ]
    },
    {
     "name": "stderr",
     "output_type": "stream",
     "text": [
      "train loss = 60.464333: 100%|██████████| 329/329 [00:15<00:00, 21.24it/s]\n",
      "validation loss = 62.075621: 100%|██████████| 47/47 [00:02<00:00, 15.81it/s]\n"
     ]
    },
    {
     "name": "stdout",
     "output_type": "stream",
     "text": [
      "\n",
      "epoch 13, best valid loss = 2852.31241608,count = 5\n"
     ]
    },
    {
     "name": "stderr",
     "output_type": "stream",
     "text": [
      "train loss = 60.832945: 100%|██████████| 329/329 [00:15<00:00, 21.44it/s]\n",
      "validation loss = 61.423551: 100%|██████████| 47/47 [00:02<00:00, 15.74it/s]\n"
     ]
    },
    {
     "name": "stdout",
     "output_type": "stream",
     "text": [
      "\n",
      "epoch 14, best valid loss = 2852.31241608,count = 6\n"
     ]
    },
    {
     "name": "stderr",
     "output_type": "stream",
     "text": [
      "train loss = 60.478122: 100%|██████████| 329/329 [00:15<00:00, 21.06it/s]\n",
      "validation loss = 60.688431: 100%|██████████| 47/47 [00:02<00:00, 15.74it/s]\n"
     ]
    },
    {
     "name": "stdout",
     "output_type": "stream",
     "text": [
      "\n",
      "epoch 15, best valid loss = 2852.31241608,count = 7\n"
     ]
    },
    {
     "name": "stderr",
     "output_type": "stream",
     "text": [
      "train loss = 60.864351: 100%|██████████| 329/329 [00:15<00:00, 21.28it/s]\n",
      "validation loss = 60.598763: 100%|██████████| 47/47 [00:03<00:00, 14.62it/s]\n"
     ]
    },
    {
     "name": "stdout",
     "output_type": "stream",
     "text": [
      "\n",
      "epoch 16, best valid loss = 2848.14188385,count = 0\n"
     ]
    },
    {
     "name": "stderr",
     "output_type": "stream",
     "text": [
      "train loss = 60.297004: 100%|██████████| 329/329 [00:15<00:00, 21.44it/s]\n",
      "validation loss = 61.687945: 100%|██████████| 47/47 [00:03<00:00, 15.59it/s]\n"
     ]
    },
    {
     "name": "stdout",
     "output_type": "stream",
     "text": [
      "\n",
      "epoch 17, best valid loss = 2848.14188385,count = 1\n"
     ]
    },
    {
     "name": "stderr",
     "output_type": "stream",
     "text": [
      "train loss = 60.941610: 100%|██████████| 329/329 [00:15<00:00, 21.34it/s]\n",
      "validation loss = 61.186704: 100%|██████████| 47/47 [00:03<00:00, 15.66it/s]\n"
     ]
    },
    {
     "name": "stdout",
     "output_type": "stream",
     "text": [
      "\n",
      "epoch 18, best valid loss = 2848.14188385,count = 2\n"
     ]
    },
    {
     "name": "stderr",
     "output_type": "stream",
     "text": [
      "train loss = 60.750971: 100%|██████████| 329/329 [00:15<00:00, 21.33it/s]\n",
      "validation loss = 61.142916: 100%|██████████| 47/47 [00:03<00:00, 15.66it/s]\n"
     ]
    },
    {
     "name": "stdout",
     "output_type": "stream",
     "text": [
      "\n",
      "epoch 19, best valid loss = 2848.14188385,count = 3\n"
     ]
    },
    {
     "name": "stderr",
     "output_type": "stream",
     "text": [
      "train loss = 60.576083: 100%|██████████| 329/329 [00:15<00:00, 21.21it/s]\n",
      "validation loss = 61.274996: 100%|██████████| 47/47 [00:02<00:00, 15.97it/s]\n"
     ]
    },
    {
     "name": "stdout",
     "output_type": "stream",
     "text": [
      "\n",
      "epoch 20, best valid loss = 2848.14188385,count = 4\n"
     ]
    },
    {
     "name": "stderr",
     "output_type": "stream",
     "text": [
      "train loss = 60.603703: 100%|██████████| 329/329 [00:15<00:00, 21.06it/s]\n",
      "validation loss = 60.962925: 100%|██████████| 47/47 [00:03<00:00, 15.37it/s]\n"
     ]
    },
    {
     "name": "stdout",
     "output_type": "stream",
     "text": [
      "\n",
      "epoch 21, best valid loss = 2848.14188385,count = 5\n"
     ]
    },
    {
     "name": "stderr",
     "output_type": "stream",
     "text": [
      "train loss = 60.408928: 100%|██████████| 329/329 [00:15<00:00, 21.08it/s]\n",
      "validation loss = 60.746649: 100%|██████████| 47/47 [00:02<00:00, 15.76it/s]\n"
     ]
    },
    {
     "name": "stdout",
     "output_type": "stream",
     "text": [
      "\n",
      "epoch 22, best valid loss = 2848.14188385,count = 6\n"
     ]
    },
    {
     "name": "stderr",
     "output_type": "stream",
     "text": [
      "train loss = 60.901113: 100%|██████████| 329/329 [00:15<00:00, 21.10it/s]\n",
      "validation loss = 60.890993: 100%|██████████| 47/47 [00:03<00:00, 15.27it/s]\n"
     ]
    },
    {
     "name": "stdout",
     "output_type": "stream",
     "text": [
      "\n",
      "epoch 23, best valid loss = 2848.14188385,count = 7\n"
     ]
    },
    {
     "name": "stderr",
     "output_type": "stream",
     "text": [
      "train loss = 60.666466: 100%|██████████| 329/329 [00:15<00:00, 20.96it/s]\n",
      "validation loss = 60.567141: 100%|██████████| 47/47 [00:03<00:00, 14.79it/s]\n"
     ]
    },
    {
     "name": "stdout",
     "output_type": "stream",
     "text": [
      "\n",
      "epoch 24, best valid loss = 2846.65563965,count = 0\n"
     ]
    },
    {
     "name": "stderr",
     "output_type": "stream",
     "text": [
      "train loss = 60.411964: 100%|██████████| 329/329 [00:15<00:00, 21.49it/s]\n",
      "validation loss = 60.644538: 100%|██████████| 47/47 [00:02<00:00, 15.98it/s]\n"
     ]
    },
    {
     "name": "stdout",
     "output_type": "stream",
     "text": [
      "\n",
      "epoch 25, best valid loss = 2846.65563965,count = 1\n"
     ]
    },
    {
     "name": "stderr",
     "output_type": "stream",
     "text": [
      "train loss = 60.176288: 100%|██████████| 329/329 [00:15<00:00, 21.23it/s]\n",
      "validation loss = 60.025954: 100%|██████████| 47/47 [00:03<00:00, 14.82it/s]\n"
     ]
    },
    {
     "name": "stdout",
     "output_type": "stream",
     "text": [
      "\n",
      "epoch 26, best valid loss = 2821.21985245,count = 0\n"
     ]
    },
    {
     "name": "stderr",
     "output_type": "stream",
     "text": [
      "train loss = 60.605083: 100%|██████████| 329/329 [00:15<00:00, 21.26it/s]\n",
      "validation loss = 62.212476: 100%|██████████| 47/47 [00:03<00:00, 15.42it/s]\n"
     ]
    },
    {
     "name": "stdout",
     "output_type": "stream",
     "text": [
      "\n",
      "epoch 27, best valid loss = 2821.21985245,count = 1\n"
     ]
    },
    {
     "name": "stderr",
     "output_type": "stream",
     "text": [
      "train loss = 60.380890: 100%|██████████| 329/329 [00:15<00:00, 21.29it/s]\n",
      "validation loss = 60.836715: 100%|██████████| 47/47 [00:03<00:00, 15.60it/s]\n"
     ]
    },
    {
     "name": "stdout",
     "output_type": "stream",
     "text": [
      "\n",
      "epoch 28, best valid loss = 2821.21985245,count = 2\n"
     ]
    },
    {
     "name": "stderr",
     "output_type": "stream",
     "text": [
      "train loss = 60.511504: 100%|██████████| 329/329 [00:15<00:00, 21.11it/s]\n",
      "validation loss = 61.671438: 100%|██████████| 47/47 [00:03<00:00, 15.41it/s]\n"
     ]
    },
    {
     "name": "stdout",
     "output_type": "stream",
     "text": [
      "\n",
      "epoch 29, best valid loss = 2821.21985245,count = 3\n"
     ]
    },
    {
     "name": "stderr",
     "output_type": "stream",
     "text": [
      "train loss = 60.598812: 100%|██████████| 329/329 [00:15<00:00, 21.07it/s]\n",
      "validation loss = 62.264647: 100%|██████████| 47/47 [00:03<00:00, 15.28it/s]\n"
     ]
    },
    {
     "name": "stdout",
     "output_type": "stream",
     "text": [
      "\n",
      "epoch 30, best valid loss = 2821.21985245,count = 4\n"
     ]
    },
    {
     "name": "stderr",
     "output_type": "stream",
     "text": [
      "train loss = 60.727653: 100%|██████████| 329/329 [00:15<00:00, 20.95it/s]\n",
      "validation loss = 60.482308: 100%|██████████| 47/47 [00:03<00:00, 14.61it/s]\n"
     ]
    },
    {
     "name": "stdout",
     "output_type": "stream",
     "text": [
      "\n",
      "epoch 31, best valid loss = 2821.21985245,count = 5\n"
     ]
    },
    {
     "name": "stderr",
     "output_type": "stream",
     "text": [
      "train loss = 60.829037: 100%|██████████| 329/329 [00:15<00:00, 20.87it/s]\n",
      "validation loss = 61.030536: 100%|██████████| 47/47 [00:03<00:00, 15.65it/s]\n"
     ]
    },
    {
     "name": "stdout",
     "output_type": "stream",
     "text": [
      "\n",
      "epoch 32, best valid loss = 2821.21985245,count = 6\n"
     ]
    },
    {
     "name": "stderr",
     "output_type": "stream",
     "text": [
      "train loss = 60.676005: 100%|██████████| 329/329 [00:15<00:00, 21.05it/s]\n",
      "validation loss = 61.703267: 100%|██████████| 47/47 [00:03<00:00, 15.35it/s]\n"
     ]
    },
    {
     "name": "stdout",
     "output_type": "stream",
     "text": [
      "\n",
      "epoch 33, best valid loss = 2821.21985245,count = 7\n"
     ]
    },
    {
     "name": "stderr",
     "output_type": "stream",
     "text": [
      "train loss = 60.557894: 100%|██████████| 329/329 [00:15<00:00, 21.13it/s]\n",
      "validation loss = 60.132004: 100%|██████████| 47/47 [00:03<00:00, 15.57it/s]\n"
     ]
    },
    {
     "name": "stdout",
     "output_type": "stream",
     "text": [
      "\n",
      "epoch 34, best valid loss = 2821.21985245,count = 8\n"
     ]
    },
    {
     "name": "stderr",
     "output_type": "stream",
     "text": [
      "train loss = 60.568935: 100%|██████████| 329/329 [00:15<00:00, 21.25it/s]\n",
      "validation loss = 60.846856: 100%|██████████| 47/47 [00:03<00:00, 15.08it/s]\n"
     ]
    },
    {
     "name": "stdout",
     "output_type": "stream",
     "text": [
      "\n",
      "epoch 35, best valid loss = 2821.21985245,count = 9\n"
     ]
    },
    {
     "name": "stderr",
     "output_type": "stream",
     "text": [
      "train loss = 60.486283: 100%|██████████| 329/329 [00:15<00:00, 21.16it/s]\n",
      "validation loss = 61.084611: 100%|██████████| 47/47 [00:03<00:00, 14.59it/s]\n"
     ]
    },
    {
     "name": "stdout",
     "output_type": "stream",
     "text": [
      "\n",
      "epoch 36, best valid loss = 2821.21985245,count = 10\n"
     ]
    },
    {
     "name": "stderr",
     "output_type": "stream",
     "text": [
      "train loss = 60.467837: 100%|██████████| 329/329 [00:15<00:00, 21.40it/s]\n",
      "validation loss = 60.300925: 100%|██████████| 47/47 [00:03<00:00, 15.45it/s]\n"
     ]
    },
    {
     "name": "stdout",
     "output_type": "stream",
     "text": [
      "\n",
      "epoch 37, best valid loss = 2821.21985245,count = 11\n"
     ]
    },
    {
     "name": "stderr",
     "output_type": "stream",
     "text": [
      "train loss = 60.252359: 100%|██████████| 329/329 [00:15<00:00, 21.34it/s]\n",
      "validation loss = 60.565488: 100%|██████████| 47/47 [00:03<00:00, 15.28it/s]\n"
     ]
    },
    {
     "name": "stdout",
     "output_type": "stream",
     "text": [
      "\n",
      "epoch 38, best valid loss = 2821.21985245,count = 12\n"
     ]
    },
    {
     "name": "stderr",
     "output_type": "stream",
     "text": [
      "train loss = 60.514323: 100%|██████████| 329/329 [00:15<00:00, 21.38it/s]\n",
      "validation loss = 60.858487: 100%|██████████| 47/47 [00:02<00:00, 15.85it/s]\n"
     ]
    },
    {
     "name": "stdout",
     "output_type": "stream",
     "text": [
      "\n",
      "epoch 39, best valid loss = 2821.21985245,count = 13\n"
     ]
    },
    {
     "name": "stderr",
     "output_type": "stream",
     "text": [
      "train loss = 60.565593: 100%|██████████| 329/329 [00:15<00:00, 21.35it/s]\n",
      "validation loss = 60.472158: 100%|██████████| 47/47 [00:02<00:00, 16.00it/s]\n"
     ]
    },
    {
     "name": "stdout",
     "output_type": "stream",
     "text": [
      "\n",
      "epoch 40, best valid loss = 2821.21985245,count = 14\n"
     ]
    },
    {
     "name": "stderr",
     "output_type": "stream",
     "text": [
      "train loss = 60.799818: 100%|██████████| 329/329 [00:15<00:00, 21.08it/s]\n",
      "validation loss = 60.952799: 100%|██████████| 47/47 [00:03<00:00, 15.40it/s]\n"
     ]
    },
    {
     "name": "stdout",
     "output_type": "stream",
     "text": [
      "\n",
      "epoch 41, best valid loss = 2821.21985245,count = 15\n"
     ]
    },
    {
     "name": "stderr",
     "output_type": "stream",
     "text": [
      "train loss = 60.568317: 100%|██████████| 329/329 [00:15<00:00, 21.11it/s]\n",
      "validation loss = 60.923915: 100%|██████████| 47/47 [00:03<00:00, 15.60it/s]\n"
     ]
    },
    {
     "name": "stdout",
     "output_type": "stream",
     "text": [
      "\n",
      "epoch 42, best valid loss = 2821.21985245,count = 16\n"
     ]
    },
    {
     "name": "stderr",
     "output_type": "stream",
     "text": [
      "train loss = 60.638795: 100%|██████████| 329/329 [00:15<00:00, 21.23it/s]\n",
      "validation loss = 60.154943: 100%|██████████| 47/47 [00:03<00:00, 15.54it/s]\n"
     ]
    },
    {
     "name": "stdout",
     "output_type": "stream",
     "text": [
      "\n",
      "epoch 43, best valid loss = 2821.21985245,count = 17\n"
     ]
    },
    {
     "name": "stderr",
     "output_type": "stream",
     "text": [
      "train loss = 60.153966: 100%|██████████| 329/329 [00:15<00:00, 21.15it/s]\n",
      "validation loss = 60.386019: 100%|██████████| 47/47 [00:03<00:00, 15.49it/s]\n"
     ]
    },
    {
     "name": "stdout",
     "output_type": "stream",
     "text": [
      "\n",
      "epoch 44, best valid loss = 2821.21985245,count = 18\n"
     ]
    },
    {
     "name": "stderr",
     "output_type": "stream",
     "text": [
      "train loss = 60.775182: 100%|██████████| 329/329 [00:15<00:00, 21.63it/s]\n",
      "validation loss = 60.296651: 100%|██████████| 47/47 [00:03<00:00, 14.95it/s]\n"
     ]
    },
    {
     "name": "stdout",
     "output_type": "stream",
     "text": [
      "\n",
      "epoch 45, best valid loss = 2821.21985245,count = 19\n"
     ]
    },
    {
     "name": "stderr",
     "output_type": "stream",
     "text": [
      "train loss = 60.701622: 100%|██████████| 329/329 [00:15<00:00, 21.30it/s]\n",
      "validation loss = 61.175760: 100%|██████████| 47/47 [00:03<00:00, 14.99it/s]\n"
     ]
    }
   ],
   "source": [
    "%load 1.1.train_model_weight.py\n",
    "%run 1.1.train_model_weight.py"
   ]
  },
  {
   "cell_type": "code",
   "execution_count": null,
   "id": "3a01b7a5-d477-4170-8bcb-f4e42870e2e2",
   "metadata": {},
   "outputs": [],
   "source": [
    "!/usr/bin/shutdown"
   ]
  },
  {
   "cell_type": "code",
   "execution_count": null,
   "id": "7b2e3dec-b960-4b20-800a-c804738de018",
   "metadata": {},
   "outputs": [],
   "source": []
  }
 ],
 "metadata": {
  "kernelspec": {
   "display_name": "py38",
   "language": "python",
   "name": "py38"
  },
  "language_info": {
   "codemirror_mode": {
    "name": "ipython",
    "version": 3
   },
   "file_extension": ".py",
   "mimetype": "text/x-python",
   "name": "python",
   "nbconvert_exporter": "python",
   "pygments_lexer": "ipython3",
   "version": "3.8.13"
  }
 },
 "nbformat": 4,
 "nbformat_minor": 5
}
