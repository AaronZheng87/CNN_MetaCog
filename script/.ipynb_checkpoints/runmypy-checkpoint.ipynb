{
 "cells": [
  {
   "cell_type": "code",
   "execution_count": 1,
   "id": "9a1ffe47-09b2-497d-ad1f-fff7c48f286a",
   "metadata": {},
   "outputs": [
    {
     "name": "stderr",
     "output_type": "stream",
     "text": [
      "/root/miniconda3/envs/py38/lib/python3.8/site-packages/tqdm/auto.py:21: TqdmWarning: IProgress not found. Please update jupyter and ipywidgets. See https://ipywidgets.readthedocs.io/en/stable/user_install.html\n",
      "  from .autonotebook import tqdm as notebook_tqdm\n",
      "train loss = 1.452029: 100%|██████████| 94/94 [00:06<00:00, 14.39it/s]\n",
      "validation loss = 1.616319: 100%|██████████| 47/47 [00:02<00:00, 18.40it/s]\n"
     ]
    },
    {
     "name": "stdout",
     "output_type": "stream",
     "text": [
      "\n",
      "epoch 1, best valid loss = inf,count = 0\n"
     ]
    },
    {
     "name": "stderr",
     "output_type": "stream",
     "text": [
      "train loss = 1.380256: 100%|██████████| 94/94 [00:04<00:00, 20.99it/s]\n",
      "validation loss = 1.420514: 100%|██████████| 47/47 [00:02<00:00, 16.53it/s]\n"
     ]
    },
    {
     "name": "stdout",
     "output_type": "stream",
     "text": [
      "\n",
      "epoch 2, best valid loss = inf,count = 0\n"
     ]
    },
    {
     "name": "stderr",
     "output_type": "stream",
     "text": [
      "train loss = 1.357783: 100%|██████████| 94/94 [00:04<00:00, 21.24it/s]\n",
      "validation loss = 1.554375: 100%|██████████| 47/47 [00:02<00:00, 16.33it/s]\n"
     ]
    },
    {
     "name": "stdout",
     "output_type": "stream",
     "text": [
      "\n",
      "epoch 3, best valid loss = inf,count = 0\n"
     ]
    },
    {
     "name": "stderr",
     "output_type": "stream",
     "text": [
      "train loss = 1.350562: 100%|██████████| 94/94 [00:04<00:00, 20.14it/s]\n",
      "validation loss = 1.343718: 100%|██████████| 47/47 [00:02<00:00, 17.65it/s]\n"
     ]
    },
    {
     "name": "stdout",
     "output_type": "stream",
     "text": [
      "\n",
      "epoch 4, best valid loss = 63.15473044,count = 0\n"
     ]
    },
    {
     "name": "stderr",
     "output_type": "stream",
     "text": [
      "train loss = 1.335878: 100%|██████████| 94/94 [00:04<00:00, 20.76it/s]\n",
      "validation loss = 1.372567: 100%|██████████| 47/47 [00:02<00:00, 17.37it/s]\n"
     ]
    },
    {
     "name": "stdout",
     "output_type": "stream",
     "text": [
      "\n",
      "epoch 5, best valid loss = 63.15473044,count = 1\n"
     ]
    },
    {
     "name": "stderr",
     "output_type": "stream",
     "text": [
      "train loss = 1.335814: 100%|██████████| 94/94 [00:04<00:00, 20.35it/s]\n",
      "validation loss = 1.379584: 100%|██████████| 47/47 [00:02<00:00, 17.16it/s]\n"
     ]
    },
    {
     "name": "stdout",
     "output_type": "stream",
     "text": [
      "\n",
      "epoch 6, best valid loss = 63.15473044,count = 2\n"
     ]
    },
    {
     "name": "stderr",
     "output_type": "stream",
     "text": [
      "train loss = 1.317739: 100%|██████████| 94/94 [00:04<00:00, 21.09it/s]\n",
      "validation loss = 1.365786: 100%|██████████| 47/47 [00:02<00:00, 17.85it/s]\n"
     ]
    },
    {
     "name": "stdout",
     "output_type": "stream",
     "text": [
      "\n",
      "epoch 7, best valid loss = 63.15473044,count = 3\n"
     ]
    },
    {
     "name": "stderr",
     "output_type": "stream",
     "text": [
      "train loss = 1.311593: 100%|██████████| 94/94 [00:04<00:00, 20.65it/s]\n",
      "validation loss = 1.352618: 100%|██████████| 47/47 [00:02<00:00, 17.94it/s]\n"
     ]
    },
    {
     "name": "stdout",
     "output_type": "stream",
     "text": [
      "\n",
      "epoch 8, best valid loss = 63.15473044,count = 4\n"
     ]
    },
    {
     "name": "stderr",
     "output_type": "stream",
     "text": [
      "train loss = 1.317857: 100%|██████████| 94/94 [00:04<00:00, 20.69it/s]\n",
      "validation loss = 1.379815: 100%|██████████| 47/47 [00:02<00:00, 16.99it/s]\n"
     ]
    },
    {
     "name": "stdout",
     "output_type": "stream",
     "text": [
      "\n",
      "epoch 9, best valid loss = 63.15473044,count = 5\n"
     ]
    },
    {
     "name": "stderr",
     "output_type": "stream",
     "text": [
      "train loss = 1.308918: 100%|██████████| 94/94 [00:04<00:00, 20.29it/s]\n",
      "validation loss = 1.327517: 100%|██████████| 47/47 [00:02<00:00, 16.94it/s]\n"
     ]
    },
    {
     "name": "stdout",
     "output_type": "stream",
     "text": [
      "\n",
      "epoch 10, best valid loss = 62.39328408,count = 0\n"
     ]
    },
    {
     "name": "stderr",
     "output_type": "stream",
     "text": [
      "train loss = 1.313646: 100%|██████████| 94/94 [00:04<00:00, 20.20it/s]\n",
      "validation loss = 1.316651: 100%|██████████| 47/47 [00:02<00:00, 16.93it/s]\n"
     ]
    },
    {
     "name": "stdout",
     "output_type": "stream",
     "text": [
      "\n",
      "epoch 11, best valid loss = 61.88257658,count = 0\n"
     ]
    },
    {
     "name": "stderr",
     "output_type": "stream",
     "text": [
      "train loss = 1.319064: 100%|██████████| 94/94 [00:04<00:00, 20.76it/s]\n",
      "validation loss = 1.319639: 100%|██████████| 47/47 [00:02<00:00, 16.73it/s]\n"
     ]
    },
    {
     "name": "stdout",
     "output_type": "stream",
     "text": [
      "\n",
      "epoch 12, best valid loss = 61.88257658,count = 1\n"
     ]
    },
    {
     "name": "stderr",
     "output_type": "stream",
     "text": [
      "train loss = 1.312151: 100%|██████████| 94/94 [00:04<00:00, 20.90it/s]\n",
      "validation loss = 1.337309: 100%|██████████| 47/47 [00:02<00:00, 16.40it/s]\n"
     ]
    },
    {
     "name": "stdout",
     "output_type": "stream",
     "text": [
      "\n",
      "epoch 13, best valid loss = 61.88257658,count = 2\n"
     ]
    },
    {
     "name": "stderr",
     "output_type": "stream",
     "text": [
      "train loss = 1.314020: 100%|██████████| 94/94 [00:04<00:00, 20.69it/s]\n",
      "validation loss = 1.350209: 100%|██████████| 47/47 [00:02<00:00, 17.44it/s]\n"
     ]
    },
    {
     "name": "stdout",
     "output_type": "stream",
     "text": [
      "\n",
      "epoch 14, best valid loss = 61.88257658,count = 3\n"
     ]
    },
    {
     "name": "stderr",
     "output_type": "stream",
     "text": [
      "train loss = 1.311250: 100%|██████████| 94/94 [00:04<00:00, 19.95it/s]\n",
      "validation loss = 1.306268: 100%|██████████| 47/47 [00:02<00:00, 17.28it/s]\n"
     ]
    },
    {
     "name": "stdout",
     "output_type": "stream",
     "text": [
      "\n",
      "epoch 15, best valid loss = 61.39458871,count = 0\n"
     ]
    },
    {
     "name": "stderr",
     "output_type": "stream",
     "text": [
      "train loss = 1.320206: 100%|██████████| 94/94 [00:04<00:00, 19.99it/s]\n",
      "validation loss = 1.305741: 100%|██████████| 47/47 [00:02<00:00, 17.60it/s]\n"
     ]
    },
    {
     "name": "stdout",
     "output_type": "stream",
     "text": [
      "\n",
      "epoch 16, best valid loss = 61.36980629,count = 0\n"
     ]
    },
    {
     "name": "stderr",
     "output_type": "stream",
     "text": [
      "train loss = 1.314106: 100%|██████████| 94/94 [00:04<00:00, 20.46it/s]\n",
      "validation loss = 1.309588: 100%|██████████| 47/47 [00:02<00:00, 16.72it/s]\n"
     ]
    },
    {
     "name": "stdout",
     "output_type": "stream",
     "text": [
      "\n",
      "epoch 17, best valid loss = 61.36980629,count = 1\n"
     ]
    },
    {
     "name": "stderr",
     "output_type": "stream",
     "text": [
      "train loss = 1.303485: 100%|██████████| 94/94 [00:04<00:00, 19.24it/s]\n",
      "validation loss = 1.301885: 100%|██████████| 47/47 [00:02<00:00, 16.12it/s]\n"
     ]
    },
    {
     "name": "stdout",
     "output_type": "stream",
     "text": [
      "\n",
      "epoch 18, best valid loss = 61.18861580,count = 0\n"
     ]
    },
    {
     "name": "stderr",
     "output_type": "stream",
     "text": [
      "train loss = 1.302721: 100%|██████████| 94/94 [00:04<00:00, 19.14it/s]\n",
      "validation loss = 1.318136: 100%|██████████| 47/47 [00:02<00:00, 17.03it/s]\n"
     ]
    },
    {
     "name": "stdout",
     "output_type": "stream",
     "text": [
      "\n",
      "epoch 19, best valid loss = 61.18861580,count = 1\n"
     ]
    },
    {
     "name": "stderr",
     "output_type": "stream",
     "text": [
      "train loss = 1.307685: 100%|██████████| 94/94 [00:04<00:00, 19.91it/s]\n",
      "validation loss = 1.307260: 100%|██████████| 47/47 [00:02<00:00, 16.79it/s]\n"
     ]
    },
    {
     "name": "stdout",
     "output_type": "stream",
     "text": [
      "\n",
      "epoch 20, best valid loss = 61.18861580,count = 2\n"
     ]
    },
    {
     "name": "stderr",
     "output_type": "stream",
     "text": [
      "train loss = 1.299108: 100%|██████████| 94/94 [00:04<00:00, 21.18it/s]\n",
      "validation loss = 1.304846: 100%|██████████| 47/47 [00:02<00:00, 18.17it/s]\n"
     ]
    },
    {
     "name": "stdout",
     "output_type": "stream",
     "text": [
      "\n",
      "epoch 21, best valid loss = 61.18861580,count = 3\n"
     ]
    },
    {
     "name": "stderr",
     "output_type": "stream",
     "text": [
      "train loss = 1.298546: 100%|██████████| 94/94 [00:04<00:00, 20.43it/s]\n",
      "validation loss = 1.315071: 100%|██████████| 47/47 [00:02<00:00, 17.13it/s]\n"
     ]
    },
    {
     "name": "stdout",
     "output_type": "stream",
     "text": [
      "\n",
      "epoch 22, best valid loss = 61.18861580,count = 4\n"
     ]
    },
    {
     "name": "stderr",
     "output_type": "stream",
     "text": [
      "train loss = 1.305102: 100%|██████████| 94/94 [00:04<00:00, 19.09it/s]\n",
      "validation loss = 1.306058: 100%|██████████| 47/47 [00:02<00:00, 16.69it/s]\n"
     ]
    },
    {
     "name": "stdout",
     "output_type": "stream",
     "text": [
      "\n",
      "epoch 23, best valid loss = 61.18861580,count = 5\n"
     ]
    },
    {
     "name": "stderr",
     "output_type": "stream",
     "text": [
      "train loss = 1.307063: 100%|██████████| 94/94 [00:04<00:00, 20.65it/s]\n",
      "validation loss = 1.315510: 100%|██████████| 47/47 [00:02<00:00, 17.46it/s]\n"
     ]
    },
    {
     "name": "stdout",
     "output_type": "stream",
     "text": [
      "\n",
      "epoch 24, best valid loss = 61.18861580,count = 6\n"
     ]
    },
    {
     "name": "stderr",
     "output_type": "stream",
     "text": [
      "train loss = 1.307803: 100%|██████████| 94/94 [00:04<00:00, 20.78it/s]\n",
      "validation loss = 1.305649: 100%|██████████| 47/47 [00:02<00:00, 17.16it/s]\n"
     ]
    },
    {
     "name": "stdout",
     "output_type": "stream",
     "text": [
      "\n",
      "epoch 25, best valid loss = 61.18861580,count = 7\n"
     ]
    },
    {
     "name": "stderr",
     "output_type": "stream",
     "text": [
      "train loss = 1.304596: 100%|██████████| 94/94 [00:04<00:00, 20.54it/s]\n",
      "validation loss = 1.329965: 100%|██████████| 47/47 [00:02<00:00, 17.49it/s]\n"
     ]
    },
    {
     "name": "stdout",
     "output_type": "stream",
     "text": [
      "\n",
      "epoch 26, best valid loss = 61.18861580,count = 8\n"
     ]
    },
    {
     "name": "stderr",
     "output_type": "stream",
     "text": [
      "train loss = 1.305964: 100%|██████████| 94/94 [00:04<00:00, 20.76it/s]\n",
      "validation loss = 1.304363: 100%|██████████| 47/47 [00:02<00:00, 17.49it/s]\n"
     ]
    },
    {
     "name": "stdout",
     "output_type": "stream",
     "text": [
      "\n",
      "epoch 27, best valid loss = 61.18861580,count = 9\n"
     ]
    },
    {
     "name": "stderr",
     "output_type": "stream",
     "text": [
      "train loss = 1.300759: 100%|██████████| 94/94 [00:04<00:00, 20.61it/s]\n",
      "validation loss = 1.295792: 100%|██████████| 47/47 [00:02<00:00, 17.39it/s]\n"
     ]
    },
    {
     "name": "stdout",
     "output_type": "stream",
     "text": [
      "\n",
      "epoch 28, best valid loss = 60.90221059,count = 0\n"
     ]
    },
    {
     "name": "stderr",
     "output_type": "stream",
     "text": [
      "train loss = 1.303517: 100%|██████████| 94/94 [00:04<00:00, 20.82it/s]\n",
      "validation loss = 1.301425: 100%|██████████| 47/47 [00:02<00:00, 17.17it/s]\n"
     ]
    },
    {
     "name": "stdout",
     "output_type": "stream",
     "text": [
      "\n",
      "epoch 29, best valid loss = 60.90221059,count = 1\n"
     ]
    },
    {
     "name": "stderr",
     "output_type": "stream",
     "text": [
      "train loss = 1.303038: 100%|██████████| 94/94 [00:04<00:00, 21.18it/s]\n",
      "validation loss = 1.301989: 100%|██████████| 47/47 [00:02<00:00, 17.53it/s]\n"
     ]
    },
    {
     "name": "stdout",
     "output_type": "stream",
     "text": [
      "\n",
      "epoch 30, best valid loss = 60.90221059,count = 2\n"
     ]
    },
    {
     "name": "stderr",
     "output_type": "stream",
     "text": [
      "train loss = 1.301226: 100%|██████████| 94/94 [00:04<00:00, 19.07it/s]\n",
      "validation loss = 1.309394: 100%|██████████| 47/47 [00:02<00:00, 16.20it/s]\n"
     ]
    },
    {
     "name": "stdout",
     "output_type": "stream",
     "text": [
      "\n",
      "epoch 31, best valid loss = 60.90221059,count = 3\n"
     ]
    },
    {
     "name": "stderr",
     "output_type": "stream",
     "text": [
      "train loss = 1.300274: 100%|██████████| 94/94 [00:04<00:00, 19.97it/s]\n",
      "validation loss = 1.313248: 100%|██████████| 47/47 [00:02<00:00, 17.66it/s]\n"
     ]
    },
    {
     "name": "stdout",
     "output_type": "stream",
     "text": [
      "\n",
      "epoch 32, best valid loss = 60.90221059,count = 4\n"
     ]
    },
    {
     "name": "stderr",
     "output_type": "stream",
     "text": [
      "train loss = 1.307076: 100%|██████████| 94/94 [00:04<00:00, 20.18it/s]\n",
      "validation loss = 1.293831: 100%|██████████| 47/47 [00:02<00:00, 17.16it/s]\n"
     ]
    },
    {
     "name": "stdout",
     "output_type": "stream",
     "text": [
      "\n",
      "epoch 33, best valid loss = 60.81006098,count = 0\n"
     ]
    },
    {
     "name": "stderr",
     "output_type": "stream",
     "text": [
      "train loss = 1.298650: 100%|██████████| 94/94 [00:04<00:00, 19.61it/s]\n",
      "validation loss = 1.307112: 100%|██████████| 47/47 [00:02<00:00, 16.59it/s]\n"
     ]
    },
    {
     "name": "stdout",
     "output_type": "stream",
     "text": [
      "\n",
      "epoch 34, best valid loss = 60.81006098,count = 1\n"
     ]
    },
    {
     "name": "stderr",
     "output_type": "stream",
     "text": [
      "train loss = 1.298234: 100%|██████████| 94/94 [00:04<00:00, 20.42it/s]\n",
      "validation loss = 1.301133: 100%|██████████| 47/47 [00:02<00:00, 16.77it/s]\n"
     ]
    },
    {
     "name": "stdout",
     "output_type": "stream",
     "text": [
      "\n",
      "epoch 35, best valid loss = 60.81006098,count = 2\n"
     ]
    },
    {
     "name": "stderr",
     "output_type": "stream",
     "text": [
      "train loss = 1.309866: 100%|██████████| 94/94 [00:04<00:00, 20.19it/s]\n",
      "validation loss = 1.315950: 100%|██████████| 47/47 [00:02<00:00, 16.71it/s]\n"
     ]
    },
    {
     "name": "stdout",
     "output_type": "stream",
     "text": [
      "\n",
      "epoch 36, best valid loss = 60.81006098,count = 3\n"
     ]
    },
    {
     "name": "stderr",
     "output_type": "stream",
     "text": [
      "train loss = 1.299061: 100%|██████████| 94/94 [00:04<00:00, 19.09it/s]\n",
      "validation loss = 1.300944: 100%|██████████| 47/47 [00:02<00:00, 16.01it/s]\n"
     ]
    },
    {
     "name": "stdout",
     "output_type": "stream",
     "text": [
      "\n",
      "epoch 37, best valid loss = 60.81006098,count = 4\n"
     ]
    },
    {
     "name": "stderr",
     "output_type": "stream",
     "text": [
      "train loss = 1.302416: 100%|██████████| 94/94 [00:04<00:00, 19.57it/s]\n",
      "validation loss = 1.305416: 100%|██████████| 47/47 [00:02<00:00, 16.66it/s]\n"
     ]
    },
    {
     "name": "stdout",
     "output_type": "stream",
     "text": [
      "\n",
      "epoch 38, best valid loss = 60.81006098,count = 5\n"
     ]
    },
    {
     "name": "stderr",
     "output_type": "stream",
     "text": [
      "train loss = 1.303162: 100%|██████████| 94/94 [00:04<00:00, 20.24it/s]\n",
      "validation loss = 1.315698: 100%|██████████| 47/47 [00:02<00:00, 18.28it/s]\n"
     ]
    },
    {
     "name": "stdout",
     "output_type": "stream",
     "text": [
      "\n",
      "epoch 39, best valid loss = 60.81006098,count = 6\n"
     ]
    },
    {
     "name": "stderr",
     "output_type": "stream",
     "text": [
      "train loss = 1.301954: 100%|██████████| 94/94 [00:04<00:00, 19.98it/s]\n",
      "validation loss = 1.311021: 100%|██████████| 47/47 [00:02<00:00, 18.05it/s]\n"
     ]
    },
    {
     "name": "stdout",
     "output_type": "stream",
     "text": [
      "\n",
      "epoch 40, best valid loss = 60.81006098,count = 7\n"
     ]
    },
    {
     "name": "stderr",
     "output_type": "stream",
     "text": [
      "train loss = 1.306225: 100%|██████████| 94/94 [00:04<00:00, 20.17it/s]\n",
      "validation loss = 1.306747: 100%|██████████| 47/47 [00:02<00:00, 17.31it/s]\n"
     ]
    },
    {
     "name": "stdout",
     "output_type": "stream",
     "text": [
      "\n",
      "epoch 41, best valid loss = 60.81006098,count = 8\n"
     ]
    },
    {
     "name": "stderr",
     "output_type": "stream",
     "text": [
      "train loss = 1.306928: 100%|██████████| 94/94 [00:04<00:00, 20.58it/s]\n",
      "validation loss = 1.306649: 100%|██████████| 47/47 [00:02<00:00, 17.55it/s]\n"
     ]
    },
    {
     "name": "stdout",
     "output_type": "stream",
     "text": [
      "\n",
      "epoch 42, best valid loss = 60.81006098,count = 9\n"
     ]
    },
    {
     "name": "stderr",
     "output_type": "stream",
     "text": [
      "train loss = 1.302040: 100%|██████████| 94/94 [00:04<00:00, 20.77it/s]\n",
      "validation loss = 1.301586: 100%|██████████| 47/47 [00:02<00:00, 17.11it/s]\n"
     ]
    },
    {
     "name": "stdout",
     "output_type": "stream",
     "text": [
      "\n",
      "epoch 43, best valid loss = 60.81006098,count = 10\n"
     ]
    },
    {
     "name": "stderr",
     "output_type": "stream",
     "text": [
      "train loss = 1.303965: 100%|██████████| 94/94 [00:04<00:00, 20.03it/s]\n",
      "validation loss = 1.309872: 100%|██████████| 47/47 [00:02<00:00, 17.35it/s]\n"
     ]
    },
    {
     "name": "stdout",
     "output_type": "stream",
     "text": [
      "\n",
      "epoch 44, best valid loss = 60.81006098,count = 11\n"
     ]
    },
    {
     "name": "stderr",
     "output_type": "stream",
     "text": [
      "train loss = 1.302188: 100%|██████████| 94/94 [00:04<00:00, 19.87it/s]\n",
      "validation loss = 1.303398: 100%|██████████| 47/47 [00:02<00:00, 17.04it/s]\n"
     ]
    },
    {
     "name": "stdout",
     "output_type": "stream",
     "text": [
      "\n",
      "epoch 45, best valid loss = 60.81006098,count = 12\n"
     ]
    },
    {
     "name": "stderr",
     "output_type": "stream",
     "text": [
      "train loss = 1.301397: 100%|██████████| 94/94 [00:04<00:00, 21.07it/s]\n",
      "validation loss = 1.298828: 100%|██████████| 47/47 [00:02<00:00, 17.40it/s]\n"
     ]
    },
    {
     "name": "stdout",
     "output_type": "stream",
     "text": [
      "\n",
      "epoch 46, best valid loss = 60.81006098,count = 13\n"
     ]
    },
    {
     "name": "stderr",
     "output_type": "stream",
     "text": [
      "train loss = 1.301882: 100%|██████████| 94/94 [00:04<00:00, 20.66it/s]\n",
      "validation loss = 1.311950: 100%|██████████| 47/47 [00:02<00:00, 16.79it/s]\n"
     ]
    },
    {
     "name": "stdout",
     "output_type": "stream",
     "text": [
      "\n",
      "epoch 47, best valid loss = 60.81006098,count = 14\n"
     ]
    },
    {
     "name": "stderr",
     "output_type": "stream",
     "text": [
      "train loss = 1.305476: 100%|██████████| 94/94 [00:04<00:00, 20.61it/s]\n",
      "validation loss = 1.310982: 100%|██████████| 47/47 [00:02<00:00, 17.24it/s]\n"
     ]
    },
    {
     "name": "stdout",
     "output_type": "stream",
     "text": [
      "\n",
      "epoch 48, best valid loss = 60.81006098,count = 15\n"
     ]
    },
    {
     "name": "stderr",
     "output_type": "stream",
     "text": [
      "train loss = 1.302181: 100%|██████████| 94/94 [00:04<00:00, 19.48it/s]\n",
      "validation loss = 1.311201: 100%|██████████| 47/47 [00:02<00:00, 17.61it/s]\n"
     ]
    },
    {
     "name": "stdout",
     "output_type": "stream",
     "text": [
      "\n",
      "epoch 49, best valid loss = 60.81006098,count = 16\n"
     ]
    },
    {
     "name": "stderr",
     "output_type": "stream",
     "text": [
      "train loss = 1.303599: 100%|██████████| 94/94 [00:04<00:00, 20.80it/s]\n",
      "validation loss = 1.303198: 100%|██████████| 47/47 [00:02<00:00, 17.54it/s]\n"
     ]
    },
    {
     "name": "stdout",
     "output_type": "stream",
     "text": [
      "\n",
      "epoch 50, best valid loss = 60.81006098,count = 17\n"
     ]
    },
    {
     "name": "stderr",
     "output_type": "stream",
     "text": [
      "train loss = 1.299015: 100%|██████████| 94/94 [00:04<00:00, 20.62it/s]\n",
      "validation loss = 1.297132: 100%|██████████| 47/47 [00:02<00:00, 16.38it/s]\n"
     ]
    },
    {
     "name": "stdout",
     "output_type": "stream",
     "text": [
      "\n",
      "epoch 51, best valid loss = 60.81006098,count = 18\n"
     ]
    },
    {
     "name": "stderr",
     "output_type": "stream",
     "text": [
      "train loss = 1.299101: 100%|██████████| 94/94 [00:04<00:00, 19.68it/s]\n",
      "validation loss = 1.306621: 100%|██████████| 47/47 [00:02<00:00, 17.26it/s]\n"
     ]
    },
    {
     "name": "stdout",
     "output_type": "stream",
     "text": [
      "\n",
      "epoch 52, best valid loss = 60.81006098,count = 19\n"
     ]
    },
    {
     "name": "stderr",
     "output_type": "stream",
     "text": [
      "train loss = 1.309835: 100%|██████████| 94/94 [00:04<00:00, 20.68it/s]\n",
      "validation loss = 1.300730: 100%|██████████| 47/47 [00:02<00:00, 16.38it/s]\n"
     ]
    }
   ],
   "source": [
    "%load 1.1.train_model.py\n",
    "%run 1.1.train_model.py"
   ]
  },
  {
   "cell_type": "code",
   "execution_count": 2,
   "id": "3a01b7a5-d477-4170-8bcb-f4e42870e2e2",
   "metadata": {},
   "outputs": [],
   "source": [
    "!/usr/bin/shutdown"
   ]
  },
  {
   "cell_type": "code",
   "execution_count": null,
   "id": "7b2e3dec-b960-4b20-800a-c804738de018",
   "metadata": {},
   "outputs": [],
   "source": []
  }
 ],
 "metadata": {
  "kernelspec": {
   "display_name": "py38",
   "language": "python",
   "name": "py38"
  },
  "language_info": {
   "codemirror_mode": {
    "name": "ipython",
    "version": 3
   },
   "file_extension": ".py",
   "mimetype": "text/x-python",
   "name": "python",
   "nbconvert_exporter": "python",
   "pygments_lexer": "ipython3",
   "version": "3.8.13"
  }
 },
 "nbformat": 4,
 "nbformat_minor": 5
}
