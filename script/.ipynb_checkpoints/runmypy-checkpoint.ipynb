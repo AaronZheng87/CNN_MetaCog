{
 "cells": [
  {
   "cell_type": "code",
   "execution_count": 1,
   "id": "9a1ffe47-09b2-497d-ad1f-fff7c48f286a",
   "metadata": {},
   "outputs": [
    {
     "name": "stderr",
     "output_type": "stream",
     "text": [
      "train loss = 1.487730: 100%|██████████| 329/329 [00:17<00:00, 18.74it/s]\n",
      "validation loss = 1.471812: 100%|██████████| 47/47 [00:03<00:00, 15.33it/s]\n"
     ]
    },
    {
     "name": "stdout",
     "output_type": "stream",
     "text": [
      "\n",
      "epoch 1, best valid loss = inf,count = 0\n"
     ]
    },
    {
     "name": "stderr",
     "output_type": "stream",
     "text": [
      "train loss = 1.436363: 100%|██████████| 329/329 [00:15<00:00, 21.63it/s]\n",
      "validation loss = 1.420104: 100%|██████████| 47/47 [00:03<00:00, 15.39it/s]\n"
     ]
    },
    {
     "name": "stdout",
     "output_type": "stream",
     "text": [
      "\n",
      "epoch 2, best valid loss = inf,count = 0\n"
     ]
    },
    {
     "name": "stderr",
     "output_type": "stream",
     "text": [
      "train loss = 1.405474: 100%|██████████| 329/329 [00:15<00:00, 21.92it/s]\n",
      "validation loss = 1.393605: 100%|██████████| 47/47 [00:03<00:00, 15.56it/s]\n"
     ]
    },
    {
     "name": "stdout",
     "output_type": "stream",
     "text": [
      "\n",
      "epoch 3, best valid loss = inf,count = 0\n"
     ]
    },
    {
     "name": "stderr",
     "output_type": "stream",
     "text": [
      "train loss = 1.383112: 100%|██████████| 329/329 [00:15<00:00, 21.84it/s]\n",
      "validation loss = 1.378415: 100%|██████████| 47/47 [00:03<00:00, 15.06it/s]\n"
     ]
    },
    {
     "name": "stdout",
     "output_type": "stream",
     "text": [
      "\n",
      "epoch 4, best valid loss = 64.78552234,count = 0\n"
     ]
    },
    {
     "name": "stderr",
     "output_type": "stream",
     "text": [
      "train loss = 1.363521: 100%|██████████| 329/329 [00:15<00:00, 21.74it/s]\n",
      "validation loss = 1.353089: 100%|██████████| 47/47 [00:03<00:00, 15.54it/s]\n"
     ]
    },
    {
     "name": "stdout",
     "output_type": "stream",
     "text": [
      "\n",
      "epoch 5, best valid loss = 63.59519947,count = 0\n"
     ]
    },
    {
     "name": "stderr",
     "output_type": "stream",
     "text": [
      "train loss = 1.345364: 100%|██████████| 329/329 [00:15<00:00, 21.78it/s]\n",
      "validation loss = 1.337558: 100%|██████████| 47/47 [00:03<00:00, 15.55it/s]\n"
     ]
    },
    {
     "name": "stdout",
     "output_type": "stream",
     "text": [
      "\n",
      "epoch 6, best valid loss = 62.86521196,count = 0\n"
     ]
    },
    {
     "name": "stderr",
     "output_type": "stream",
     "text": [
      "train loss = 1.330720: 100%|██████████| 329/329 [00:14<00:00, 22.04it/s]\n",
      "validation loss = 1.317185: 100%|██████████| 47/47 [00:03<00:00, 15.65it/s]\n"
     ]
    },
    {
     "name": "stdout",
     "output_type": "stream",
     "text": [
      "\n",
      "epoch 7, best valid loss = 61.90769160,count = 0\n"
     ]
    },
    {
     "name": "stderr",
     "output_type": "stream",
     "text": [
      "train loss = 1.321021: 100%|██████████| 329/329 [00:15<00:00, 21.79it/s]\n",
      "validation loss = 1.318359: 100%|██████████| 47/47 [00:02<00:00, 16.25it/s]\n"
     ]
    },
    {
     "name": "stdout",
     "output_type": "stream",
     "text": [
      "\n",
      "epoch 8, best valid loss = 61.90769160,count = 1\n"
     ]
    },
    {
     "name": "stderr",
     "output_type": "stream",
     "text": [
      "train loss = 1.312995: 100%|██████████| 329/329 [00:15<00:00, 21.38it/s]\n",
      "validation loss = 1.302130: 100%|██████████| 47/47 [00:03<00:00, 15.45it/s]\n"
     ]
    },
    {
     "name": "stdout",
     "output_type": "stream",
     "text": [
      "\n",
      "epoch 9, best valid loss = 61.20009232,count = 0\n"
     ]
    },
    {
     "name": "stderr",
     "output_type": "stream",
     "text": [
      "train loss = 1.304983: 100%|██████████| 329/329 [00:15<00:00, 21.62it/s]\n",
      "validation loss = 1.299513: 100%|██████████| 47/47 [00:03<00:00, 15.49it/s]\n"
     ]
    },
    {
     "name": "stdout",
     "output_type": "stream",
     "text": [
      "\n",
      "epoch 10, best valid loss = 61.07712066,count = 0\n"
     ]
    },
    {
     "name": "stderr",
     "output_type": "stream",
     "text": [
      "train loss = 1.299531: 100%|██████████| 329/329 [00:15<00:00, 21.57it/s]\n",
      "validation loss = 1.291259: 100%|██████████| 47/47 [00:02<00:00, 16.22it/s]\n"
     ]
    },
    {
     "name": "stdout",
     "output_type": "stream",
     "text": [
      "\n",
      "epoch 11, best valid loss = 60.68915856,count = 0\n"
     ]
    },
    {
     "name": "stderr",
     "output_type": "stream",
     "text": [
      "train loss = 1.294868: 100%|██████████| 329/329 [00:15<00:00, 21.33it/s]\n",
      "validation loss = 1.287236: 100%|██████████| 47/47 [00:02<00:00, 15.89it/s]\n"
     ]
    },
    {
     "name": "stdout",
     "output_type": "stream",
     "text": [
      "\n",
      "epoch 12, best valid loss = 60.50011396,count = 0\n"
     ]
    },
    {
     "name": "stderr",
     "output_type": "stream",
     "text": [
      "train loss = 1.291200: 100%|██████████| 329/329 [00:15<00:00, 21.73it/s]\n",
      "validation loss = 1.277856: 100%|██████████| 47/47 [00:03<00:00, 15.01it/s]\n"
     ]
    },
    {
     "name": "stdout",
     "output_type": "stream",
     "text": [
      "\n",
      "epoch 13, best valid loss = 60.05925512,count = 0\n"
     ]
    },
    {
     "name": "stderr",
     "output_type": "stream",
     "text": [
      "train loss = 1.287210: 100%|██████████| 329/329 [00:15<00:00, 21.20it/s]\n",
      "validation loss = 1.289464: 100%|██████████| 47/47 [00:02<00:00, 15.79it/s]\n"
     ]
    },
    {
     "name": "stdout",
     "output_type": "stream",
     "text": [
      "\n",
      "epoch 14, best valid loss = 60.05925512,count = 1\n"
     ]
    },
    {
     "name": "stderr",
     "output_type": "stream",
     "text": [
      "train loss = 1.284105: 100%|██████████| 329/329 [00:15<00:00, 21.55it/s]\n",
      "validation loss = 1.276404: 100%|██████████| 47/47 [00:03<00:00, 15.15it/s]\n"
     ]
    },
    {
     "name": "stdout",
     "output_type": "stream",
     "text": [
      "\n",
      "epoch 15, best valid loss = 59.99098170,count = 0\n"
     ]
    },
    {
     "name": "stderr",
     "output_type": "stream",
     "text": [
      "train loss = 1.287812: 100%|██████████| 329/329 [00:15<00:00, 21.67it/s]\n",
      "validation loss = 1.272731: 100%|██████████| 47/47 [00:02<00:00, 15.72it/s]\n"
     ]
    },
    {
     "name": "stdout",
     "output_type": "stream",
     "text": [
      "\n",
      "epoch 16, best valid loss = 59.81836438,count = 0\n"
     ]
    },
    {
     "name": "stderr",
     "output_type": "stream",
     "text": [
      "train loss = 1.285758: 100%|██████████| 329/329 [00:15<00:00, 21.71it/s]\n",
      "validation loss = 1.279810: 100%|██████████| 47/47 [00:03<00:00, 14.68it/s]\n"
     ]
    },
    {
     "name": "stdout",
     "output_type": "stream",
     "text": [
      "\n",
      "epoch 17, best valid loss = 59.81836438,count = 1\n"
     ]
    },
    {
     "name": "stderr",
     "output_type": "stream",
     "text": [
      "train loss = 1.282395: 100%|██████████| 329/329 [00:15<00:00, 21.48it/s]\n",
      "validation loss = 1.269429: 100%|██████████| 47/47 [00:02<00:00, 16.17it/s]\n"
     ]
    },
    {
     "name": "stdout",
     "output_type": "stream",
     "text": [
      "\n",
      "epoch 18, best valid loss = 59.66318178,count = 0\n"
     ]
    },
    {
     "name": "stderr",
     "output_type": "stream",
     "text": [
      "train loss = 1.281125: 100%|██████████| 329/329 [00:15<00:00, 21.33it/s]\n",
      "validation loss = 1.281475: 100%|██████████| 47/47 [00:03<00:00, 15.37it/s]\n"
     ]
    },
    {
     "name": "stdout",
     "output_type": "stream",
     "text": [
      "\n",
      "epoch 19, best valid loss = 59.66318178,count = 1\n"
     ]
    },
    {
     "name": "stderr",
     "output_type": "stream",
     "text": [
      "train loss = 1.286550: 100%|██████████| 329/329 [00:15<00:00, 21.48it/s]\n",
      "validation loss = 1.287198: 100%|██████████| 47/47 [00:03<00:00, 15.54it/s]\n"
     ]
    },
    {
     "name": "stdout",
     "output_type": "stream",
     "text": [
      "\n",
      "epoch 20, best valid loss = 59.66318178,count = 2\n"
     ]
    },
    {
     "name": "stderr",
     "output_type": "stream",
     "text": [
      "train loss = 1.282703: 100%|██████████| 329/329 [00:15<00:00, 21.30it/s]\n",
      "validation loss = 1.280682: 100%|██████████| 47/47 [00:02<00:00, 15.67it/s]\n"
     ]
    },
    {
     "name": "stdout",
     "output_type": "stream",
     "text": [
      "\n",
      "epoch 21, best valid loss = 59.66318178,count = 3\n"
     ]
    },
    {
     "name": "stderr",
     "output_type": "stream",
     "text": [
      "train loss = 1.279171: 100%|██████████| 329/329 [00:15<00:00, 21.58it/s]\n",
      "validation loss = 1.290894: 100%|██████████| 47/47 [00:02<00:00, 16.57it/s]\n"
     ]
    },
    {
     "name": "stdout",
     "output_type": "stream",
     "text": [
      "\n",
      "epoch 22, best valid loss = 59.66318178,count = 4\n"
     ]
    },
    {
     "name": "stderr",
     "output_type": "stream",
     "text": [
      "train loss = 1.285075: 100%|██████████| 329/329 [00:15<00:00, 21.76it/s]\n",
      "validation loss = 1.281415: 100%|██████████| 47/47 [00:03<00:00, 15.64it/s]\n"
     ]
    },
    {
     "name": "stdout",
     "output_type": "stream",
     "text": [
      "\n",
      "epoch 23, best valid loss = 59.66318178,count = 5\n"
     ]
    },
    {
     "name": "stderr",
     "output_type": "stream",
     "text": [
      "train loss = 1.284706: 100%|██████████| 329/329 [00:15<00:00, 21.73it/s]\n",
      "validation loss = 1.276997: 100%|██████████| 47/47 [00:03<00:00, 15.62it/s]\n"
     ]
    },
    {
     "name": "stdout",
     "output_type": "stream",
     "text": [
      "\n",
      "epoch 24, best valid loss = 59.66318178,count = 6\n"
     ]
    },
    {
     "name": "stderr",
     "output_type": "stream",
     "text": [
      "train loss = 1.281937: 100%|██████████| 329/329 [00:15<00:00, 21.54it/s]\n",
      "validation loss = 1.280732: 100%|██████████| 47/47 [00:03<00:00, 15.52it/s]\n"
     ]
    },
    {
     "name": "stdout",
     "output_type": "stream",
     "text": [
      "\n",
      "epoch 25, best valid loss = 59.66318178,count = 7\n"
     ]
    },
    {
     "name": "stderr",
     "output_type": "stream",
     "text": [
      "train loss = 1.285642: 100%|██████████| 329/329 [00:15<00:00, 21.46it/s]\n",
      "validation loss = 1.275479: 100%|██████████| 47/47 [00:02<00:00, 16.08it/s]\n"
     ]
    },
    {
     "name": "stdout",
     "output_type": "stream",
     "text": [
      "\n",
      "epoch 26, best valid loss = 59.66318178,count = 8\n"
     ]
    },
    {
     "name": "stderr",
     "output_type": "stream",
     "text": [
      "train loss = 1.277828: 100%|██████████| 329/329 [00:15<00:00, 21.39it/s]\n",
      "validation loss = 1.286331: 100%|██████████| 47/47 [00:02<00:00, 15.78it/s]\n"
     ]
    },
    {
     "name": "stdout",
     "output_type": "stream",
     "text": [
      "\n",
      "epoch 27, best valid loss = 59.66318178,count = 9\n"
     ]
    },
    {
     "name": "stderr",
     "output_type": "stream",
     "text": [
      "train loss = 1.281114: 100%|██████████| 329/329 [00:15<00:00, 21.71it/s]\n",
      "validation loss = 1.269030: 100%|██████████| 47/47 [00:02<00:00, 16.18it/s]\n"
     ]
    },
    {
     "name": "stdout",
     "output_type": "stream",
     "text": [
      "\n",
      "epoch 28, best valid loss = 59.64440274,count = 0\n"
     ]
    },
    {
     "name": "stderr",
     "output_type": "stream",
     "text": [
      "train loss = 1.278565: 100%|██████████| 329/329 [00:15<00:00, 21.79it/s]\n",
      "validation loss = 1.275636: 100%|██████████| 47/47 [00:03<00:00, 15.33it/s]\n"
     ]
    },
    {
     "name": "stdout",
     "output_type": "stream",
     "text": [
      "\n",
      "epoch 29, best valid loss = 59.64440274,count = 1\n"
     ]
    },
    {
     "name": "stderr",
     "output_type": "stream",
     "text": [
      "train loss = 1.282037: 100%|██████████| 329/329 [00:15<00:00, 21.80it/s]\n",
      "validation loss = 1.277057: 100%|██████████| 47/47 [00:02<00:00, 15.79it/s]\n"
     ]
    },
    {
     "name": "stdout",
     "output_type": "stream",
     "text": [
      "\n",
      "epoch 30, best valid loss = 59.64440274,count = 2\n"
     ]
    },
    {
     "name": "stderr",
     "output_type": "stream",
     "text": [
      "train loss = 1.283910: 100%|██████████| 329/329 [00:15<00:00, 21.46it/s]\n",
      "validation loss = 1.278553: 100%|██████████| 47/47 [00:02<00:00, 15.71it/s]\n"
     ]
    },
    {
     "name": "stdout",
     "output_type": "stream",
     "text": [
      "\n",
      "epoch 31, best valid loss = 59.64440274,count = 3\n"
     ]
    },
    {
     "name": "stderr",
     "output_type": "stream",
     "text": [
      "train loss = 1.287221: 100%|██████████| 329/329 [00:15<00:00, 21.58it/s]\n",
      "validation loss = 1.278539: 100%|██████████| 47/47 [00:03<00:00, 14.87it/s]\n"
     ]
    },
    {
     "name": "stdout",
     "output_type": "stream",
     "text": [
      "\n",
      "epoch 32, best valid loss = 59.64440274,count = 4\n"
     ]
    },
    {
     "name": "stderr",
     "output_type": "stream",
     "text": [
      "train loss = 1.279763: 100%|██████████| 329/329 [00:15<00:00, 21.48it/s]\n",
      "validation loss = 1.277594: 100%|██████████| 47/47 [00:02<00:00, 15.87it/s]\n"
     ]
    },
    {
     "name": "stdout",
     "output_type": "stream",
     "text": [
      "\n",
      "epoch 33, best valid loss = 59.64440274,count = 5\n"
     ]
    },
    {
     "name": "stderr",
     "output_type": "stream",
     "text": [
      "train loss = 1.277274: 100%|██████████| 329/329 [00:15<00:00, 21.32it/s]\n",
      "validation loss = 1.282958: 100%|██████████| 47/47 [00:02<00:00, 16.04it/s]\n"
     ]
    },
    {
     "name": "stdout",
     "output_type": "stream",
     "text": [
      "\n",
      "epoch 34, best valid loss = 59.64440274,count = 6\n"
     ]
    },
    {
     "name": "stderr",
     "output_type": "stream",
     "text": [
      "train loss = 1.285940: 100%|██████████| 329/329 [00:15<00:00, 21.47it/s]\n",
      "validation loss = 1.275597: 100%|██████████| 47/47 [00:02<00:00, 16.09it/s]\n"
     ]
    },
    {
     "name": "stdout",
     "output_type": "stream",
     "text": [
      "\n",
      "epoch 35, best valid loss = 59.64440274,count = 7\n"
     ]
    },
    {
     "name": "stderr",
     "output_type": "stream",
     "text": [
      "train loss = 1.284995: 100%|██████████| 329/329 [00:15<00:00, 21.59it/s]\n",
      "validation loss = 1.275540: 100%|██████████| 47/47 [00:02<00:00, 16.13it/s]\n"
     ]
    },
    {
     "name": "stdout",
     "output_type": "stream",
     "text": [
      "\n",
      "epoch 36, best valid loss = 59.64440274,count = 8\n"
     ]
    },
    {
     "name": "stderr",
     "output_type": "stream",
     "text": [
      "train loss = 1.282873: 100%|██████████| 329/329 [00:15<00:00, 21.65it/s]\n",
      "validation loss = 1.276968: 100%|██████████| 47/47 [00:02<00:00, 16.20it/s]\n"
     ]
    },
    {
     "name": "stdout",
     "output_type": "stream",
     "text": [
      "\n",
      "epoch 37, best valid loss = 59.64440274,count = 9\n"
     ]
    },
    {
     "name": "stderr",
     "output_type": "stream",
     "text": [
      "train loss = 1.280808: 100%|██████████| 329/329 [00:15<00:00, 21.92it/s]\n",
      "validation loss = 1.282006: 100%|██████████| 47/47 [00:03<00:00, 15.50it/s]\n"
     ]
    },
    {
     "name": "stdout",
     "output_type": "stream",
     "text": [
      "\n",
      "epoch 38, best valid loss = 59.64440274,count = 10\n"
     ]
    },
    {
     "name": "stderr",
     "output_type": "stream",
     "text": [
      "train loss = 1.282881: 100%|██████████| 329/329 [00:14<00:00, 22.11it/s]\n",
      "validation loss = 1.278208: 100%|██████████| 47/47 [00:02<00:00, 15.82it/s]\n"
     ]
    },
    {
     "name": "stdout",
     "output_type": "stream",
     "text": [
      "\n",
      "epoch 39, best valid loss = 59.64440274,count = 11\n"
     ]
    },
    {
     "name": "stderr",
     "output_type": "stream",
     "text": [
      "train loss = 1.276221: 100%|██████████| 329/329 [00:15<00:00, 21.48it/s]\n",
      "validation loss = 1.275074: 100%|██████████| 47/47 [00:02<00:00, 15.74it/s]\n"
     ]
    },
    {
     "name": "stdout",
     "output_type": "stream",
     "text": [
      "\n",
      "epoch 40, best valid loss = 59.64440274,count = 12\n"
     ]
    },
    {
     "name": "stderr",
     "output_type": "stream",
     "text": [
      "train loss = 1.287115: 100%|██████████| 329/329 [00:15<00:00, 21.45it/s]\n",
      "validation loss = 1.285344: 100%|██████████| 47/47 [00:03<00:00, 14.83it/s]\n"
     ]
    },
    {
     "name": "stdout",
     "output_type": "stream",
     "text": [
      "\n",
      "epoch 41, best valid loss = 59.64440274,count = 13\n"
     ]
    },
    {
     "name": "stderr",
     "output_type": "stream",
     "text": [
      "train loss = 1.278697: 100%|██████████| 329/329 [00:14<00:00, 22.04it/s]\n",
      "validation loss = 1.293537: 100%|██████████| 47/47 [00:02<00:00, 15.72it/s]\n"
     ]
    },
    {
     "name": "stdout",
     "output_type": "stream",
     "text": [
      "\n",
      "epoch 42, best valid loss = 59.64440274,count = 14\n"
     ]
    },
    {
     "name": "stderr",
     "output_type": "stream",
     "text": [
      "train loss = 1.282605: 100%|██████████| 329/329 [00:15<00:00, 21.15it/s]\n",
      "validation loss = 1.272416: 100%|██████████| 47/47 [00:02<00:00, 15.68it/s]\n"
     ]
    },
    {
     "name": "stdout",
     "output_type": "stream",
     "text": [
      "\n",
      "epoch 43, best valid loss = 59.64440274,count = 15\n"
     ]
    },
    {
     "name": "stderr",
     "output_type": "stream",
     "text": [
      "train loss = 1.284784: 100%|██████████| 329/329 [00:15<00:00, 21.78it/s]\n",
      "validation loss = 1.288447: 100%|██████████| 47/47 [00:03<00:00, 15.09it/s]\n"
     ]
    },
    {
     "name": "stdout",
     "output_type": "stream",
     "text": [
      "\n",
      "epoch 44, best valid loss = 59.64440274,count = 16\n"
     ]
    },
    {
     "name": "stderr",
     "output_type": "stream",
     "text": [
      "train loss = 1.281267: 100%|██████████| 329/329 [00:15<00:00, 21.63it/s]\n",
      "validation loss = 1.274321: 100%|██████████| 47/47 [00:02<00:00, 15.97it/s]\n"
     ]
    },
    {
     "name": "stdout",
     "output_type": "stream",
     "text": [
      "\n",
      "epoch 45, best valid loss = 59.64440274,count = 17\n"
     ]
    },
    {
     "name": "stderr",
     "output_type": "stream",
     "text": [
      "train loss = 1.289475: 100%|██████████| 329/329 [00:15<00:00, 21.42it/s]\n",
      "validation loss = 1.285398: 100%|██████████| 47/47 [00:02<00:00, 16.13it/s]\n"
     ]
    },
    {
     "name": "stdout",
     "output_type": "stream",
     "text": [
      "\n",
      "epoch 46, best valid loss = 59.64440274,count = 18\n"
     ]
    },
    {
     "name": "stderr",
     "output_type": "stream",
     "text": [
      "train loss = 1.280496: 100%|██████████| 329/329 [00:15<00:00, 21.06it/s]\n",
      "validation loss = 1.280078: 100%|██████████| 47/47 [00:03<00:00, 15.16it/s]\n"
     ]
    },
    {
     "name": "stdout",
     "output_type": "stream",
     "text": [
      "\n",
      "epoch 47, best valid loss = 59.64440274,count = 19\n"
     ]
    },
    {
     "name": "stderr",
     "output_type": "stream",
     "text": [
      "train loss = 1.285221: 100%|██████████| 329/329 [00:15<00:00, 21.61it/s]\n",
      "validation loss = 1.282603: 100%|██████████| 47/47 [00:02<00:00, 16.06it/s]\n"
     ]
    }
   ],
   "source": [
    "%load 1.1.train_model.py\n",
    "%run 1.1.train_model.py"
   ]
  },
  {
   "cell_type": "code",
   "execution_count": null,
   "id": "3a01b7a5-d477-4170-8bcb-f4e42870e2e2",
   "metadata": {},
   "outputs": [],
   "source": [
    "!/usr/bin/shutdown"
   ]
  }
 ],
 "metadata": {
  "kernelspec": {
   "display_name": "py38",
   "language": "python",
   "name": "py38"
  },
  "language_info": {
   "codemirror_mode": {
    "name": "ipython",
    "version": 3
   },
   "file_extension": ".py",
   "mimetype": "text/x-python",
   "name": "python",
   "nbconvert_exporter": "python",
   "pygments_lexer": "ipython3",
   "version": "3.8.13"
  }
 },
 "nbformat": 4,
 "nbformat_minor": 5
}
