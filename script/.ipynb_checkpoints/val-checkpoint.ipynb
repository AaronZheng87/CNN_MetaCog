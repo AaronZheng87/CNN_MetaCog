{
 "cells": [
  {
   "cell_type": "code",
   "execution_count": 1,
   "id": "fe821d2f-7bfb-44ec-b53c-1bd5c3d2211f",
   "metadata": {},
   "outputs": [
    {
     "name": "stderr",
     "output_type": "stream",
     "text": [
      "/Users/zhengyuanrui/opt/anaconda3/envs/workspace/lib/python3.8/site-packages/tqdm/auto.py:21: TqdmWarning: IProgress not found. Please update jupyter and ipywidgets. See https://ipywidgets.readthedocs.io/en/stable/user_install.html\n",
      "  from .autonotebook import tqdm as notebook_tqdm\n",
      "1it [00:12, 12.50s/it]\n"
     ]
    }
   ],
   "source": [
    "import commonsetting\n",
    "from models import perceptual_network, Encoder, Class_out, Conf_out\n",
    "from dataloader import CustomImageDataset, concatenate_transform_steps\n",
    "from torch.utils.data import Dataset, DataLoader\n",
    "from torch.optim import Adam\n",
    "from torch import nn\n",
    "import torch\n",
    "from tqdm import tqdm\n",
    "import numpy as np\n",
    "import pandas as pd\n",
    "\n",
    "\n",
    "def calculate_confidence_label(y_pred):\n",
    "    if y_pred <= 1/3:\n",
    "        y_pred = 0\n",
    "    elif y_pred >= 2/3:\n",
    "        y_pred = 1\n",
    "    else:\n",
    "        y_pred = 0.5\n",
    "\n",
    "    return y_pred\n",
    "\n",
    "\n",
    "if __name__ == \"__main__\":\n",
    "    pretrained_model_name   = commonsetting.pretrained_model_name\n",
    "    hidden_layer_size       = commonsetting.hidden_layer_size\n",
    "    hidden_activation_name  = commonsetting.hidden_activation_name\n",
    "    hidden_activation       = commonsetting.hidden_activation\n",
    "    hidden_dropout          = commonsetting.hidden_dropout\n",
    "    resize                  = commonsetting.image_resize\n",
    "    in_shape                = (1,3,resize,resize)\n",
    "\n",
    "    SimpleCNN_args = dict(\n",
    "        pretrained_model_name   = pretrained_model_name,\n",
    "        hidden_layer_size       = hidden_layer_size,\n",
    "        hidden_activation       = hidden_activation,\n",
    "        hidden_dropout          = hidden_dropout,\n",
    "        hidden_layer_type       = commonsetting.hidden_layer_type,\n",
    "        output_layer_size       = commonsetting.output_layer_size,\n",
    "        in_shape                = (1,3,resize,resize),\n",
    "        retrain_encoder         = commonsetting.retrain_encoder,\n",
    "        device                  = commonsetting.device,\n",
    "        )\n",
    "        \n",
    "\n",
    "    tranformer_steps = concatenate_transform_steps(image_resize=commonsetting.image_resize, rotate=0)\n",
    "\n",
    "    dataset_val = CustomImageDataset(commonsetting.val_dir,label_map=commonsetting.label_map , transform=tranformer_steps)\n",
    "    dataloader_test = DataLoader(dataset_val, batch_size=commonsetting.batch_size, shuffle=True, num_workers=commonsetting.num_workers)\n",
    "    SimpleCNN = perceptual_network(**SimpleCNN_args)\n",
    "    SimpleCNN.load_state_dict(torch.load(\"../models/simplecnn.h5\"))\n",
    "    for p in SimpleCNN.parameters(): p.requires_grad = False\n",
    "    # define loss function\n",
    "    classification_loss = nn.BCELoss()\n",
    "    # when there is no noise\n",
    "    SimpleCNN.eval()\n",
    "    SimpleCNN.to(commonsetting.device)\n",
    "    with torch.no_grad():\n",
    "        # extract features of each image\n",
    "        y_true = []\n",
    "        y_pred = []\n",
    "        y_correct_pred = []\n",
    "        confidence_out = []\n",
    "        for idx_batch, (batch_image, batch_label) in tqdm(enumerate(dataloader_test)):\n",
    "            batch_label = torch.vstack(batch_label).T.float()\n",
    "            #记得每一次处理数据之前要做这一步\n",
    "            \n",
    "            features,hidden_representation,prediction, confidence =  SimpleCNN(batch_image.to(commonsetting.device))\n",
    "            correct_preds = batch_label.clone().detach().argmax(1)==prediction.clone().detach().argmax(1)\n",
    "            correct_preds = correct_preds.float()\n",
    "\n",
    "            correct_preds = torch.vstack([1-correct_preds, correct_preds]).T.float()\n",
    "            \n",
    "            \n",
    "            y_correct_pred.append(correct_preds.detach().cpu().numpy())\n",
    "            y_true.append(batch_label.detach().cpu().numpy())\n",
    "            y_pred.append(prediction.detach().cpu().numpy())\n",
    "            confidence_out.append(confidence.detach().cpu().numpy())\n",
    "    \n",
    "    y_pred = np.concatenate(y_pred, axis=0)\n",
    "    y_true = np.concatenate(y_true, axis=0)\n",
    "    y_correct_pred = np.concatenate(y_correct_pred, axis=0)\n",
    "    confidence_out = np.concatenate(confidence_out, axis=0)\n"
   ]
  },
  {
   "cell_type": "code",
   "execution_count": 2,
   "id": "06c9f356-4629-4a02-93c4-01168fe98bc0",
   "metadata": {},
   "outputs": [],
   "source": [
    "from sklearn.metrics import roc_auc_score, accuracy_score"
   ]
  },
  {
   "cell_type": "code",
   "execution_count": 3,
   "id": "12ef5757-3322-42bc-be37-d12c46acd702",
   "metadata": {},
   "outputs": [
    {
     "data": {
      "text/plain": [
       "0.5883333333333334"
      ]
     },
     "execution_count": 3,
     "metadata": {},
     "output_type": "execute_result"
    }
   ],
   "source": [
    "roc_auc_score(y_true, y_pred)"
   ]
  },
  {
   "cell_type": "code",
   "execution_count": 4,
   "id": "e69652cf",
   "metadata": {},
   "outputs": [
    {
     "data": {
      "text/plain": [
       "0.5601851851851851"
      ]
     },
     "execution_count": 4,
     "metadata": {},
     "output_type": "execute_result"
    }
   ],
   "source": [
    "roc_auc_score(y_correct_pred, confidence_out)"
   ]
  },
  {
   "cell_type": "code",
   "execution_count": 5,
   "id": "e639657a",
   "metadata": {},
   "outputs": [
    {
     "data": {
      "text/plain": [
       "(30, 3)"
      ]
     },
     "execution_count": 5,
     "metadata": {},
     "output_type": "execute_result"
    }
   ],
   "source": [
    "y_pred.shape"
   ]
  },
  {
   "cell_type": "code",
   "execution_count": 6,
   "id": "4fd104c7",
   "metadata": {},
   "outputs": [
    {
     "data": {
      "text/plain": [
       "array([[0.6014606 , 0.14806998, 0.25046948],\n",
       "       [0.41671267, 0.34513202, 0.23815529],\n",
       "       [0.47437614, 0.14896885, 0.37665498],\n",
       "       [0.05675047, 0.00511016, 0.9381394 ],\n",
       "       [0.72801566, 0.05499058, 0.21699369],\n",
       "       [0.7750306 , 0.10721951, 0.11774988],\n",
       "       [0.37068298, 0.559941  , 0.06937608],\n",
       "       [0.46068147, 0.26688802, 0.27243048],\n",
       "       [0.38077512, 0.03955689, 0.579668  ],\n",
       "       [0.2809205 , 0.04314089, 0.6759386 ],\n",
       "       [0.48659536, 0.38869396, 0.12471066],\n",
       "       [0.28068498, 0.06685774, 0.65245736],\n",
       "       [0.25506896, 0.16685079, 0.57808024],\n",
       "       [0.09880001, 0.05880461, 0.8423954 ],\n",
       "       [0.593714  , 0.06227618, 0.34400976],\n",
       "       [0.29912218, 0.29169115, 0.40918666],\n",
       "       [0.4996155 , 0.13778676, 0.3625978 ],\n",
       "       [0.6162068 , 0.00314189, 0.38065135],\n",
       "       [0.33089733, 0.00811437, 0.66098833],\n",
       "       [0.4987528 , 0.00339611, 0.49785107],\n",
       "       [0.60667133, 0.02130175, 0.3720269 ],\n",
       "       [0.72131735, 0.15639825, 0.12228435],\n",
       "       [0.3462154 , 0.6250919 , 0.02869265],\n",
       "       [0.31465515, 0.4942216 , 0.19112322],\n",
       "       [0.5539633 , 0.18513073, 0.26090598],\n",
       "       [0.45953402, 0.27113673, 0.26932916],\n",
       "       [0.6630084 , 0.27992845, 0.05706319],\n",
       "       [0.3503771 , 0.48037055, 0.16925234],\n",
       "       [0.14995988, 0.03244409, 0.817596  ],\n",
       "       [0.09593095, 0.00941916, 0.8946499 ]], dtype=float32)"
      ]
     },
     "execution_count": 6,
     "metadata": {},
     "output_type": "execute_result"
    }
   ],
   "source": [
    "y_pred"
   ]
  },
  {
   "cell_type": "code",
   "execution_count": 7,
   "id": "098dfa2a",
   "metadata": {},
   "outputs": [
    {
     "data": {
      "text/plain": [
       "array([[1., 0., 0.],\n",
       "       [0., 0., 1.],\n",
       "       [0., 1., 0.],\n",
       "       [0., 0., 1.],\n",
       "       [0., 1., 0.],\n",
       "       [0., 1., 0.],\n",
       "       [0., 0., 1.],\n",
       "       [0., 0., 1.],\n",
       "       [0., 1., 0.],\n",
       "       [0., 1., 0.],\n",
       "       [0., 1., 0.],\n",
       "       [0., 0., 1.],\n",
       "       [0., 1., 0.],\n",
       "       [1., 0., 0.],\n",
       "       [0., 0., 1.],\n",
       "       [1., 0., 0.],\n",
       "       [0., 0., 1.],\n",
       "       [1., 0., 0.],\n",
       "       [1., 0., 0.],\n",
       "       [0., 1., 0.],\n",
       "       [1., 0., 0.],\n",
       "       [1., 0., 0.],\n",
       "       [0., 1., 0.],\n",
       "       [1., 0., 0.],\n",
       "       [0., 0., 1.],\n",
       "       [1., 0., 0.],\n",
       "       [1., 0., 0.],\n",
       "       [0., 1., 0.],\n",
       "       [0., 0., 1.],\n",
       "       [0., 0., 1.]], dtype=float32)"
      ]
     },
     "execution_count": 7,
     "metadata": {},
     "output_type": "execute_result"
    }
   ],
   "source": [
    "y_true"
   ]
  },
  {
   "cell_type": "code",
   "execution_count": 8,
   "id": "cbd5a31d-a368-47f2-b430-5916b1495180",
   "metadata": {},
   "outputs": [],
   "source": [
    "from matplotlib import pyplot as plt"
   ]
  },
  {
   "cell_type": "code",
   "execution_count": 9,
   "id": "fa34703b-48e1-429b-a8b4-36fa92094306",
   "metadata": {},
   "outputs": [
    {
     "data": {
      "text/plain": [
       "(array([1., 0., 2., 1., 5., 4., 7., 3., 5., 2.]),\n",
       " array([0.28310716, 0.3429265 , 0.40274587, 0.46256521, 0.52238458,\n",
       "        0.58220392, 0.64202327, 0.70184261, 0.76166201, 0.82148135,\n",
       "        0.88130069]),\n",
       " <BarContainer object of 10 artists>)"
      ]
     },
     "execution_count": 9,
     "metadata": {},
     "output_type": "execute_result"
    },
    {
     "data": {
      "image/png": "[encoded data removed]",
      "text/plain": [
       "<Figure size 640x480 with 1 Axes>"
      ]
     },
     "metadata": {},
     "output_type": "display_data"
    }
   ],
   "source": [
    "plt.hist(confidence_out[:,1])"
   ]
  },
  {
   "cell_type": "code",
   "execution_count": 10,
   "id": "b2596c76",
   "metadata": {},
   "outputs": [
    {
     "data": {
      "text/plain": [
       "array([[0.46121737, 0.5387826 ],\n",
       "       [0.40212175, 0.5978783 ],\n",
       "       [0.43999183, 0.56000817],\n",
       "       [0.14363278, 0.8563672 ],\n",
       "       [0.4441524 , 0.5558476 ],\n",
       "       [0.18008101, 0.81991905],\n",
       "       [0.23947032, 0.76052976],\n",
       "       [0.56698763, 0.43301243],\n",
       "       [0.40015736, 0.5998426 ],\n",
       "       [0.35354027, 0.6464597 ],\n",
       "       [0.30932608, 0.6906739 ],\n",
       "       [0.32264134, 0.6773586 ],\n",
       "       [0.29807323, 0.70192677],\n",
       "       [0.28415665, 0.7158433 ],\n",
       "       [0.52256364, 0.47743636],\n",
       "       [0.38242704, 0.6175729 ],\n",
       "       [0.5624406 , 0.43755937],\n",
       "       [0.22320017, 0.77679986],\n",
       "       [0.20191075, 0.79808927],\n",
       "       [0.21690814, 0.78309184],\n",
       "       [0.3387793 , 0.66122067],\n",
       "       [0.11869922, 0.8813007 ],\n",
       "       [0.30174482, 0.69825524],\n",
       "       [0.32625836, 0.67374164],\n",
       "       [0.376585  , 0.62341505],\n",
       "       [0.43517935, 0.56482065],\n",
       "       [0.44955403, 0.550446  ],\n",
       "       [0.71689284, 0.28310716],\n",
       "       [0.3231476 , 0.6768524 ],\n",
       "       [0.21714309, 0.78285694]], dtype=float32)"
      ]
     },
     "execution_count": 10,
     "metadata": {},
     "output_type": "execute_result"
    }
   ],
   "source": [
    "confidence_out"
   ]
  },
  {
   "cell_type": "code",
   "execution_count": 11,
   "id": "73ca091d-ed87-4609-9fa9-3607e26f746e",
   "metadata": {},
   "outputs": [],
   "source": [
    "#the value is 1 to 0,below 0.5 is low confident, above is high confident\n",
    "\n",
    "def calculate_confidence_rating(confidence_out):\n",
    "    if confidence_out <= 1/2:\n",
    "        confidence_out = 1\n",
    "    else:\n",
    "        confidence_out = 2\n",
    "\n",
    "    return confidence_out\n",
    "rating = ([calculate_confidence_rating(item) for item in confidence_out[:,1]])"
   ]
  },
  {
   "cell_type": "code",
   "execution_count": 12,
   "id": "dad78517-d070-42a0-9e1d-81e1c14de261",
   "metadata": {},
   "outputs": [
    {
     "data": {
      "text/plain": [
       "tensor([[0., 1.],\n",
       "        [1., 0.],\n",
       "        [1., 0.],\n",
       "        [0., 1.],\n",
       "        [1., 0.],\n",
       "        [1., 0.],\n",
       "        [1., 0.],\n",
       "        [1., 0.],\n",
       "        [1., 0.],\n",
       "        [1., 0.],\n",
       "        [1., 0.],\n",
       "        [0., 1.],\n",
       "        [1., 0.],\n",
       "        [1., 0.],\n",
       "        [1., 0.],\n",
       "        [1., 0.],\n",
       "        [1., 0.],\n",
       "        [0., 1.],\n",
       "        [1., 0.],\n",
       "        [1., 0.],\n",
       "        [0., 1.],\n",
       "        [0., 1.],\n",
       "        [0., 1.],\n",
       "        [1., 0.],\n",
       "        [1., 0.],\n",
       "        [0., 1.],\n",
       "        [0., 1.],\n",
       "        [0., 1.],\n",
       "        [0., 1.],\n",
       "        [0., 1.]])"
      ]
     },
     "execution_count": 12,
     "metadata": {},
     "output_type": "execute_result"
    }
   ],
   "source": [
    "response = y_pred[:,1]\n",
    "correct_preds"
   ]
  },
  {
   "cell_type": "code",
   "execution_count": 13,
   "id": "45947124",
   "metadata": {},
   "outputs": [
    {
     "data": {
      "text/plain": [
       "array([[0.6014606 , 0.14806998, 0.25046948],\n",
       "       [0.41671267, 0.34513202, 0.23815529],\n",
       "       [0.47437614, 0.14896885, 0.37665498],\n",
       "       [0.05675047, 0.00511016, 0.9381394 ],\n",
       "       [0.72801566, 0.05499058, 0.21699369],\n",
       "       [0.7750306 , 0.10721951, 0.11774988],\n",
       "       [0.37068298, 0.559941  , 0.06937608],\n",
       "       [0.46068147, 0.26688802, 0.27243048],\n",
       "       [0.38077512, 0.03955689, 0.579668  ],\n",
       "       [0.2809205 , 0.04314089, 0.6759386 ],\n",
       "       [0.48659536, 0.38869396, 0.12471066],\n",
       "       [0.28068498, 0.06685774, 0.65245736],\n",
       "       [0.25506896, 0.16685079, 0.57808024],\n",
       "       [0.09880001, 0.05880461, 0.8423954 ],\n",
       "       [0.593714  , 0.06227618, 0.34400976],\n",
       "       [0.29912218, 0.29169115, 0.40918666],\n",
       "       [0.4996155 , 0.13778676, 0.3625978 ],\n",
       "       [0.6162068 , 0.00314189, 0.38065135],\n",
       "       [0.33089733, 0.00811437, 0.66098833],\n",
       "       [0.4987528 , 0.00339611, 0.49785107],\n",
       "       [0.60667133, 0.02130175, 0.3720269 ],\n",
       "       [0.72131735, 0.15639825, 0.12228435],\n",
       "       [0.3462154 , 0.6250919 , 0.02869265],\n",
       "       [0.31465515, 0.4942216 , 0.19112322],\n",
       "       [0.5539633 , 0.18513073, 0.26090598],\n",
       "       [0.45953402, 0.27113673, 0.26932916],\n",
       "       [0.6630084 , 0.27992845, 0.05706319],\n",
       "       [0.3503771 , 0.48037055, 0.16925234],\n",
       "       [0.14995988, 0.03244409, 0.817596  ],\n",
       "       [0.09593095, 0.00941916, 0.8946499 ]], dtype=float32)"
      ]
     },
     "execution_count": 13,
     "metadata": {},
     "output_type": "execute_result"
    }
   ],
   "source": [
    "y_pred"
   ]
  },
  {
   "cell_type": "code",
   "execution_count": 14,
   "id": "0e0125bd",
   "metadata": {},
   "outputs": [
    {
     "data": {
      "text/plain": [
       "Counter({1.0: 12, 0.0: 18})"
      ]
     },
     "execution_count": 14,
     "metadata": {},
     "output_type": "execute_result"
    }
   ],
   "source": [
    "from collections import Counter\n",
    "Counter(y_correct_pred[:,1])"
   ]
  },
  {
   "cell_type": "code",
   "execution_count": 15,
   "id": "c99ff93f",
   "metadata": {},
   "outputs": [],
   "source": [
    "def response_good(y_pred):\n",
    "    if y_pred == 1:\n",
    "        y_pred = 1\n",
    "    else:\n",
    "        y_pred = 0\n",
    "\n",
    "    return y_pred"
   ]
  },
  {
   "cell_type": "code",
   "execution_count": 16,
   "id": "f8ddc105",
   "metadata": {},
   "outputs": [],
   "source": [
    "y_pred_list = y_pred.argmax(1).tolist()"
   ]
  },
  {
   "cell_type": "code",
   "execution_count": 17,
   "id": "49829a33",
   "metadata": {},
   "outputs": [],
   "source": [
    "response = ([response_good(item) for item in y_pred_list])"
   ]
  },
  {
   "cell_type": "code",
   "execution_count": 18,
   "id": "06968be4-f5b8-4070-a110-48d102df075e",
   "metadata": {},
   "outputs": [],
   "source": [
    "data = {\"stim\":y_true[:,1].tolist(), \"response\":response, \"rating\":rating, \"acc\":y_correct_pred[:,1].tolist()}"
   ]
  },
  {
   "cell_type": "code",
   "execution_count": 19,
   "id": "01faae29-b7e2-473a-9356-8411b9bcacfd",
   "metadata": {},
   "outputs": [],
   "source": [
    "df = pd.DataFrame(data)"
   ]
  },
  {
   "cell_type": "code",
   "execution_count": 20,
   "id": "eeb6fb27-99a8-4565-9f2f-53e235bc4e21",
   "metadata": {},
   "outputs": [
    {
     "data": {
      "text/html": [
       "<div>\n",
       "<style scoped>\n",
       "    .dataframe tbody tr th:only-of-type {\n",
       "        vertical-align: middle;\n",
       "    }\n",
       "\n",
       "    .dataframe tbody tr th {\n",
       "        vertical-align: top;\n",
       "    }\n",
       "\n",
       "    .dataframe thead th {\n",
       "        text-align: right;\n",
       "    }\n",
       "</style>\n",
       "<table border=\"1\" class=\"dataframe\">\n",
       "  <thead>\n",
       "    <tr style=\"text-align: right;\">\n",
       "      <th></th>\n",
       "      <th>stim</th>\n",
       "      <th>response</th>\n",
       "      <th>rating</th>\n",
       "      <th>acc</th>\n",
       "    </tr>\n",
       "  </thead>\n",
       "  <tbody>\n",
       "    <tr>\n",
       "      <th>0</th>\n",
       "      <td>0.0</td>\n",
       "      <td>0</td>\n",
       "      <td>2</td>\n",
       "      <td>1.0</td>\n",
       "    </tr>\n",
       "    <tr>\n",
       "      <th>1</th>\n",
       "      <td>0.0</td>\n",
       "      <td>0</td>\n",
       "      <td>2</td>\n",
       "      <td>0.0</td>\n",
       "    </tr>\n",
       "    <tr>\n",
       "      <th>2</th>\n",
       "      <td>1.0</td>\n",
       "      <td>0</td>\n",
       "      <td>2</td>\n",
       "      <td>0.0</td>\n",
       "    </tr>\n",
       "    <tr>\n",
       "      <th>3</th>\n",
       "      <td>0.0</td>\n",
       "      <td>0</td>\n",
       "      <td>2</td>\n",
       "      <td>1.0</td>\n",
       "    </tr>\n",
       "    <tr>\n",
       "      <th>4</th>\n",
       "      <td>1.0</td>\n",
       "      <td>0</td>\n",
       "      <td>2</td>\n",
       "      <td>0.0</td>\n",
       "    </tr>\n",
       "    <tr>\n",
       "      <th>5</th>\n",
       "      <td>1.0</td>\n",
       "      <td>0</td>\n",
       "      <td>2</td>\n",
       "      <td>0.0</td>\n",
       "    </tr>\n",
       "    <tr>\n",
       "      <th>6</th>\n",
       "      <td>0.0</td>\n",
       "      <td>1</td>\n",
       "      <td>2</td>\n",
       "      <td>0.0</td>\n",
       "    </tr>\n",
       "    <tr>\n",
       "      <th>7</th>\n",
       "      <td>0.0</td>\n",
       "      <td>0</td>\n",
       "      <td>1</td>\n",
       "      <td>0.0</td>\n",
       "    </tr>\n",
       "    <tr>\n",
       "      <th>8</th>\n",
       "      <td>1.0</td>\n",
       "      <td>0</td>\n",
       "      <td>2</td>\n",
       "      <td>0.0</td>\n",
       "    </tr>\n",
       "    <tr>\n",
       "      <th>9</th>\n",
       "      <td>1.0</td>\n",
       "      <td>0</td>\n",
       "      <td>2</td>\n",
       "      <td>0.0</td>\n",
       "    </tr>\n",
       "    <tr>\n",
       "      <th>10</th>\n",
       "      <td>1.0</td>\n",
       "      <td>0</td>\n",
       "      <td>2</td>\n",
       "      <td>0.0</td>\n",
       "    </tr>\n",
       "    <tr>\n",
       "      <th>11</th>\n",
       "      <td>0.0</td>\n",
       "      <td>0</td>\n",
       "      <td>2</td>\n",
       "      <td>1.0</td>\n",
       "    </tr>\n",
       "    <tr>\n",
       "      <th>12</th>\n",
       "      <td>1.0</td>\n",
       "      <td>0</td>\n",
       "      <td>2</td>\n",
       "      <td>0.0</td>\n",
       "    </tr>\n",
       "    <tr>\n",
       "      <th>13</th>\n",
       "      <td>0.0</td>\n",
       "      <td>0</td>\n",
       "      <td>2</td>\n",
       "      <td>0.0</td>\n",
       "    </tr>\n",
       "    <tr>\n",
       "      <th>14</th>\n",
       "      <td>0.0</td>\n",
       "      <td>0</td>\n",
       "      <td>1</td>\n",
       "      <td>0.0</td>\n",
       "    </tr>\n",
       "    <tr>\n",
       "      <th>15</th>\n",
       "      <td>0.0</td>\n",
       "      <td>0</td>\n",
       "      <td>2</td>\n",
       "      <td>0.0</td>\n",
       "    </tr>\n",
       "    <tr>\n",
       "      <th>16</th>\n",
       "      <td>0.0</td>\n",
       "      <td>0</td>\n",
       "      <td>1</td>\n",
       "      <td>0.0</td>\n",
       "    </tr>\n",
       "    <tr>\n",
       "      <th>17</th>\n",
       "      <td>0.0</td>\n",
       "      <td>0</td>\n",
       "      <td>2</td>\n",
       "      <td>1.0</td>\n",
       "    </tr>\n",
       "    <tr>\n",
       "      <th>18</th>\n",
       "      <td>0.0</td>\n",
       "      <td>0</td>\n",
       "      <td>2</td>\n",
       "      <td>0.0</td>\n",
       "    </tr>\n",
       "    <tr>\n",
       "      <th>19</th>\n",
       "      <td>1.0</td>\n",
       "      <td>0</td>\n",
       "      <td>2</td>\n",
       "      <td>0.0</td>\n",
       "    </tr>\n",
       "    <tr>\n",
       "      <th>20</th>\n",
       "      <td>0.0</td>\n",
       "      <td>0</td>\n",
       "      <td>2</td>\n",
       "      <td>1.0</td>\n",
       "    </tr>\n",
       "    <tr>\n",
       "      <th>21</th>\n",
       "      <td>0.0</td>\n",
       "      <td>0</td>\n",
       "      <td>2</td>\n",
       "      <td>1.0</td>\n",
       "    </tr>\n",
       "    <tr>\n",
       "      <th>22</th>\n",
       "      <td>1.0</td>\n",
       "      <td>1</td>\n",
       "      <td>2</td>\n",
       "      <td>1.0</td>\n",
       "    </tr>\n",
       "    <tr>\n",
       "      <th>23</th>\n",
       "      <td>0.0</td>\n",
       "      <td>1</td>\n",
       "      <td>2</td>\n",
       "      <td>0.0</td>\n",
       "    </tr>\n",
       "    <tr>\n",
       "      <th>24</th>\n",
       "      <td>0.0</td>\n",
       "      <td>0</td>\n",
       "      <td>2</td>\n",
       "      <td>0.0</td>\n",
       "    </tr>\n",
       "    <tr>\n",
       "      <th>25</th>\n",
       "      <td>0.0</td>\n",
       "      <td>0</td>\n",
       "      <td>2</td>\n",
       "      <td>1.0</td>\n",
       "    </tr>\n",
       "    <tr>\n",
       "      <th>26</th>\n",
       "      <td>0.0</td>\n",
       "      <td>0</td>\n",
       "      <td>2</td>\n",
       "      <td>1.0</td>\n",
       "    </tr>\n",
       "    <tr>\n",
       "      <th>27</th>\n",
       "      <td>1.0</td>\n",
       "      <td>1</td>\n",
       "      <td>1</td>\n",
       "      <td>1.0</td>\n",
       "    </tr>\n",
       "    <tr>\n",
       "      <th>28</th>\n",
       "      <td>0.0</td>\n",
       "      <td>0</td>\n",
       "      <td>2</td>\n",
       "      <td>1.0</td>\n",
       "    </tr>\n",
       "    <tr>\n",
       "      <th>29</th>\n",
       "      <td>0.0</td>\n",
       "      <td>0</td>\n",
       "      <td>2</td>\n",
       "      <td>1.0</td>\n",
       "    </tr>\n",
       "  </tbody>\n",
       "</table>\n",
       "</div>"
      ],
      "text/plain": [
       "    stim  response  rating  acc\n",
       "0    0.0         0       2  1.0\n",
       "1    0.0         0       2  0.0\n",
       "2    1.0         0       2  0.0\n",
       "3    0.0         0       2  1.0\n",
       "4    1.0         0       2  0.0\n",
       "5    1.0         0       2  0.0\n",
       "6    0.0         1       2  0.0\n",
       "7    0.0         0       1  0.0\n",
       "8    1.0         0       2  0.0\n",
       "9    1.0         0       2  0.0\n",
       "10   1.0         0       2  0.0\n",
       "11   0.0         0       2  1.0\n",
       "12   1.0         0       2  0.0\n",
       "13   0.0         0       2  0.0\n",
       "14   0.0         0       1  0.0\n",
       "15   0.0         0       2  0.0\n",
       "16   0.0         0       1  0.0\n",
       "17   0.0         0       2  1.0\n",
       "18   0.0         0       2  0.0\n",
       "19   1.0         0       2  0.0\n",
       "20   0.0         0       2  1.0\n",
       "21   0.0         0       2  1.0\n",
       "22   1.0         1       2  1.0\n",
       "23   0.0         1       2  0.0\n",
       "24   0.0         0       2  0.0\n",
       "25   0.0         0       2  1.0\n",
       "26   0.0         0       2  1.0\n",
       "27   1.0         1       1  1.0\n",
       "28   0.0         0       2  1.0\n",
       "29   0.0         0       2  1.0"
      ]
     },
     "execution_count": 20,
     "metadata": {},
     "output_type": "execute_result"
    }
   ],
   "source": [
    "df"
   ]
  },
  {
   "cell_type": "code",
   "execution_count": 21,
   "id": "c557bad0-0567-4cae-8ad6-6fe1a2f78b36",
   "metadata": {},
   "outputs": [],
   "source": [
    "df.to_csv(\"../data/sub/metad_CNN.csv\")"
   ]
  },
  {
   "cell_type": "code",
   "execution_count": 22,
   "id": "91065e1a-edcf-4a06-9e29-014db9a8e2ef",
   "metadata": {},
   "outputs": [
    {
     "data": {
      "text/plain": [
       "2    26\n",
       "1     4\n",
       "Name: rating, dtype: int64"
      ]
     },
     "execution_count": 22,
     "metadata": {},
     "output_type": "execute_result"
    }
   ],
   "source": [
    "df['rating'].value_counts()"
   ]
  },
  {
   "cell_type": "code",
   "execution_count": 23,
   "id": "e52d9373",
   "metadata": {},
   "outputs": [
    {
     "data": {
      "text/plain": [
       "0    26\n",
       "1     4\n",
       "Name: response, dtype: int64"
      ]
     },
     "execution_count": 23,
     "metadata": {},
     "output_type": "execute_result"
    }
   ],
   "source": [
    "df['response'].value_counts()"
   ]
  },
  {
   "cell_type": "code",
   "execution_count": 24,
   "id": "8679af50",
   "metadata": {},
   "outputs": [
    {
     "data": {
      "text/plain": [
       "0.0    20\n",
       "1.0    10\n",
       "Name: stim, dtype: int64"
      ]
     },
     "execution_count": 24,
     "metadata": {},
     "output_type": "execute_result"
    }
   ],
   "source": [
    "df['stim'].value_counts()"
   ]
  },
  {
   "cell_type": "code",
   "execution_count": 25,
   "id": "803d535a",
   "metadata": {},
   "outputs": [
    {
     "data": {
      "text/plain": [
       "0.0    18\n",
       "1.0    12\n",
       "Name: acc, dtype: int64"
      ]
     },
     "execution_count": 25,
     "metadata": {},
     "output_type": "execute_result"
    }
   ],
   "source": [
    "df['acc'].value_counts()"
   ]
  },
  {
   "cell_type": "code",
   "execution_count": null,
   "id": "14eeed99",
   "metadata": {},
   "outputs": [],
   "source": []
  }
 ],
 "metadata": {
  "kernelspec": {
   "display_name": "workspace",
   "language": "python",
   "name": "python3"
  },
  "language_info": {
   "codemirror_mode": {
    "name": "ipython",
    "version": 3
   },
   "file_extension": ".py",
   "mimetype": "text/x-python",
   "name": "python",
   "nbconvert_exporter": "python",
   "pygments_lexer": "ipython3",
   "version": "3.8.16"
  }
 },
 "nbformat": 4,
 "nbformat_minor": 5
}
