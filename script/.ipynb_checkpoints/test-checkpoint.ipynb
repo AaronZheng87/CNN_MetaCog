{
 "cells": [
  {
   "cell_type": "code",
   "execution_count": 1,
   "id": "fe821d2f-7bfb-44ec-b53c-1bd5c3d2211f",
   "metadata": {},
   "outputs": [
    {
     "name": "stderr",
     "output_type": "stream",
     "text": [
      "12it [00:02,  4.21it/s]\n"
     ]
    }
   ],
   "source": [
    "import commonsetting\n",
    "from models import perceptual_network, Encoder, Class_out, Conf_out\n",
    "from dataloader import CustomImageDataset, concatenate_transform_steps\n",
    "from torch.utils.data import Dataset, DataLoader\n",
    "from torch.optim import Adam\n",
    "from torch import nn\n",
    "import torch\n",
    "from tqdm import tqdm\n",
    "import numpy as np\n",
    "import pandas as pd\n",
    "\n",
    "\n",
    "if __name__ == \"__main__\":\n",
    "    pretrained_model_name   = commonsetting.pretrained_model_name\n",
    "    hidden_layer_size       = commonsetting.hidden_layer_size\n",
    "    hidden_activation_name  = commonsetting.hidden_activation_name\n",
    "    hidden_activation       = commonsetting.hidden_activation\n",
    "    hidden_dropout          = commonsetting.hidden_dropout\n",
    "    resize                  = commonsetting.image_resize\n",
    "    in_shape                = (1,3,resize,resize)\n",
    "\n",
    "    SimpleCNN_args = dict(\n",
    "        pretrained_model_name   = pretrained_model_name,\n",
    "        hidden_layer_size       = hidden_layer_size,\n",
    "        hidden_activation       = hidden_activation,\n",
    "        hidden_dropout          = hidden_dropout,\n",
    "        hidden_layer_type       = commonsetting.hidden_layer_type,\n",
    "        output_layer_size       = commonsetting.output_layer_size,\n",
    "        in_shape                = (1,3,resize,resize),\n",
    "        retrain_encoder         = commonsetting.retrain_encoder,\n",
    "        device                  = commonsetting.device,\n",
    "        )\n",
    "        \n",
    "\n",
    "    tranformer_steps = concatenate_transform_steps(image_resize=commonsetting.image_resize, rotate=0)\n",
    "\n",
    "    dataset_test = CustomImageDataset(commonsetting.test_dir,label_map=commonsetting.label_map , transform=tranformer_steps)\n",
    "    dataloader_test = DataLoader(dataset_test, batch_size=commonsetting.batch_size, shuffle=True, num_workers=commonsetting.num_workers)\n",
    "    SimpleCNN = perceptual_network(**SimpleCNN_args)\n",
    "    SimpleCNN.load_state_dict(torch.load(\"../models/train_pixel_0.6/simplecnn_bs32e4i224h300.h5\"))\n",
    "    for p in SimpleCNN.parameters(): p.requires_grad = False\n",
    "    # define loss function\n",
    "    classification_loss = nn.BCELoss()\n",
    "    # when there is no noise\n",
    "    SimpleCNN.eval()\n",
    "    SimpleCNN.to(commonsetting.device)\n",
    "    with torch.no_grad():\n",
    "        # extract features of each image\n",
    "        y_true = []\n",
    "        y_pred = []\n",
    "        y_correct_pred = []\n",
    "        confidence_out = []\n",
    "        for idx_batch, (batch_image, batch_label) in tqdm(enumerate(dataloader_test)):\n",
    "            batch_label = torch.vstack(batch_label).T.float()\n",
    "            #记得每一次处理数据之前要做这一步\n",
    "            batch_image = batch_image.to(commonsetting.device)\n",
    "            batch_label = batch_label.to(commonsetting.device)\n",
    "            \n",
    "            features,hidden_representation,prediction, confidence =  SimpleCNN(batch_image.to(commonsetting.device))\n",
    "            correct_preds = batch_label.clone().detach().argmax(1)==prediction.clone().detach().argmax(1)\n",
    "            correct_preds = correct_preds.float()\n",
    "\n",
    "            correct_preds = torch.vstack([1-correct_preds, correct_preds]).T.float()\n",
    "            \n",
    "            \n",
    "            y_correct_pred.append(correct_preds.detach().cpu().numpy())\n",
    "            y_true.append(batch_label.detach().cpu().numpy())\n",
    "            y_pred.append(prediction.detach().cpu().numpy())\n",
    "            confidence_out.append(confidence.detach().cpu().numpy())\n",
    "    \n",
    "    y_pred = np.concatenate(y_pred, axis=0)\n",
    "    y_true = np.concatenate(y_true, axis=0)\n",
    "    y_correct_pred = np.concatenate(y_correct_pred, axis=0)\n",
    "    confidence_out = np.concatenate(confidence_out, axis=0)\n"
   ]
  },
  {
   "cell_type": "code",
   "execution_count": 2,
   "id": "06c9f356-4629-4a02-93c4-01168fe98bc0",
   "metadata": {},
   "outputs": [],
   "source": [
    "from sklearn.metrics import roc_auc_score, accuracy_score"
   ]
  },
  {
   "cell_type": "code",
   "execution_count": 3,
   "id": "12ef5757-3322-42bc-be37-d12c46acd702",
   "metadata": {},
   "outputs": [
    {
     "data": {
      "text/plain": [
       "0.798599537037037"
      ]
     },
     "execution_count": 3,
     "metadata": {},
     "output_type": "execute_result"
    }
   ],
   "source": [
    "roc_auc_score(y_true, y_pred)"
   ]
  },
  {
   "cell_type": "code",
   "execution_count": 4,
   "id": "e69652cf",
   "metadata": {},
   "outputs": [
    {
     "data": {
      "text/plain": [
       "0.6566294475731632"
      ]
     },
     "execution_count": 4,
     "metadata": {},
     "output_type": "execute_result"
    }
   ],
   "source": [
    "roc_auc_score(y_correct_pred, confidence_out)"
   ]
  },
  {
   "cell_type": "code",
   "execution_count": 5,
   "id": "e639657a",
   "metadata": {},
   "outputs": [
    {
     "data": {
      "text/plain": [
       "(360, 3)"
      ]
     },
     "execution_count": 5,
     "metadata": {},
     "output_type": "execute_result"
    }
   ],
   "source": [
    "y_pred.shape"
   ]
  },
  {
   "cell_type": "code",
   "execution_count": 6,
   "id": "4fd104c7",
   "metadata": {},
   "outputs": [
    {
     "data": {
      "text/plain": [
       "Counter({1: 124, 0: 160, 2: 76})"
      ]
     },
     "execution_count": 6,
     "metadata": {},
     "output_type": "execute_result"
    }
   ],
   "source": [
    "from collections import Counter\n",
    "Counter(y_pred.argmax(1))"
   ]
  },
  {
   "cell_type": "code",
   "execution_count": 7,
   "id": "cbd5a31d-a368-47f2-b430-5916b1495180",
   "metadata": {},
   "outputs": [],
   "source": [
    "from matplotlib import pyplot as plt"
   ]
  },
  {
   "cell_type": "code",
   "execution_count": 8,
   "id": "fa34703b-48e1-429b-a8b4-36fa92094306",
   "metadata": {},
   "outputs": [
    {
     "data": {
      "text/plain": [
       "(array([ 4.,  5.,  9., 18., 49., 85., 87., 63., 30., 10.]),\n",
       " array([0.18625516, 0.22858199, 0.27090883, 0.31323564, 0.35556248,\n",
       "        0.39788932, 0.44021615, 0.48254299, 0.5248698 , 0.56719667,\n",
       "        0.60952348]),\n",
       " <BarContainer object of 10 artists>)"
      ]
     },
     "execution_count": 8,
     "metadata": {},
     "output_type": "execute_result"
    },
    {
     "data": {
      "image/png": "[encoded data removed]",
      "text/plain": [
       "<Figure size 640x480 with 1 Axes>"
      ]
     },
     "metadata": {},
     "output_type": "display_data"
    }
   ],
   "source": [
    "plt.hist(confidence_out[:,0])"
   ]
  },
  {
   "cell_type": "code",
   "execution_count": 9,
   "id": "0eeb3dd0",
   "metadata": {},
   "outputs": [
    {
     "data": {
      "text/plain": [
       "array([0, 1, 1, 1, 1, 1, 1, 1, 1, 1, 1, 1, 1, 1, 1, 1, 1, 1, 1, 1, 1, 1,\n",
       "       1, 1, 1, 1, 0, 1, 1, 1, 1, 1, 1, 1, 1, 1, 1, 1, 1, 0, 1, 1, 1, 0,\n",
       "       1, 1, 1, 1, 1, 0, 0, 0, 1, 1, 1, 1, 1, 1, 1, 1, 0, 1, 1, 1, 1, 1,\n",
       "       1, 1, 1, 1, 1, 1, 1, 1, 1, 1, 0, 1, 1, 0, 1, 1, 1, 1, 1, 1, 1, 1,\n",
       "       1, 0, 1, 1, 1, 1, 1, 1, 1, 1, 1, 1, 1, 0, 0, 1, 0, 1, 1, 1, 1, 0,\n",
       "       0, 1, 1, 1, 1, 1, 1, 1, 1, 0, 1, 1, 1, 0, 1, 0, 1, 0, 1, 1, 0, 1,\n",
       "       1, 1, 1, 0, 1, 1, 1, 0, 1, 1, 1, 1, 1, 1, 0, 1, 0, 1, 1, 0, 1, 1,\n",
       "       1, 1, 1, 0, 1, 1, 1, 1, 1, 0, 1, 0, 1, 1, 1, 1, 1, 1, 1, 0, 0, 1,\n",
       "       1, 0, 1, 1, 1, 1, 1, 0, 0, 1, 1, 1, 1, 0, 0, 1, 1, 1, 1, 1, 1, 1,\n",
       "       0, 1, 1, 0, 1, 1, 0, 0, 1, 1, 1, 1, 0, 1, 1, 1, 0, 1, 1, 1, 1, 1,\n",
       "       0, 1, 1, 1, 1, 1, 1, 1, 1, 1, 1, 1, 1, 0, 0, 0, 0, 1, 1, 1, 1, 0,\n",
       "       0, 1, 1, 1, 1, 1, 1, 0, 1, 0, 1, 1, 0, 1, 1, 1, 1, 1, 1, 1, 1, 1,\n",
       "       1, 1, 1, 0, 1, 1, 1, 1, 0, 1, 1, 1, 1, 1, 0, 1, 0, 1, 1, 1, 1, 1,\n",
       "       1, 1, 0, 1, 1, 1, 1, 1, 1, 1, 1, 1, 0, 0, 1, 0, 1, 1, 1, 1, 0, 1,\n",
       "       0, 1, 1, 1, 1, 1, 1, 0, 0, 1, 0, 1, 1, 1, 1, 1, 0, 1, 1, 1, 1, 1,\n",
       "       1, 0, 1, 1, 1, 0, 1, 0, 1, 0, 1, 1, 1, 0, 1, 1, 0, 1, 1, 1, 1, 1,\n",
       "       1, 1, 1, 1, 1, 1, 1, 1])"
      ]
     },
     "execution_count": 9,
     "metadata": {},
     "output_type": "execute_result"
    }
   ],
   "source": [
    "confidence_out.argmax(1)"
   ]
  },
  {
   "cell_type": "code",
   "execution_count": 10,
   "id": "d3be74bf",
   "metadata": {},
   "outputs": [],
   "source": [
    "confidence_onehot = np.vstack([1-confidence_out.argmax(1), confidence_out.argmax(1)]).T"
   ]
  },
  {
   "cell_type": "code",
   "execution_count": 11,
   "id": "2c176f5b-d61a-4c5c-a37f-16559b7008d2",
   "metadata": {},
   "outputs": [
    {
     "data": {
      "text/plain": [
       "Counter({0.0: 139, 1.0: 221})"
      ]
     },
     "execution_count": 11,
     "metadata": {},
     "output_type": "execute_result"
    }
   ],
   "source": [
    "from collections import Counter\n",
    "Counter(y_correct_pred[:,1])"
   ]
  },
  {
   "cell_type": "code",
   "execution_count": 12,
   "id": "3798e27e-4a38-46c6-bff6-56766bc830b5",
   "metadata": {},
   "outputs": [
    {
     "data": {
      "text/plain": [
       "array([[0., 0., 1.],\n",
       "       [1., 0., 0.],\n",
       "       [0., 0., 1.],\n",
       "       ...,\n",
       "       [0., 1., 0.],\n",
       "       [0., 0., 1.],\n",
       "       [0., 0., 1.]], dtype=float32)"
      ]
     },
     "execution_count": 12,
     "metadata": {},
     "output_type": "execute_result"
    }
   ],
   "source": [
    "y_true"
   ]
  },
  {
   "cell_type": "code",
   "execution_count": 13,
   "id": "262c7dcd-8c9e-4ef8-91f7-c8678aa81328",
   "metadata": {},
   "outputs": [
    {
     "data": {
      "text/plain": [
       "array([1, 0, 0, 0, 0, 1, 1, 1, 1, 0, 1, 0, 0, 0, 0, 1, 0, 1, 0, 0, 0, 1,\n",
       "       1, 1, 1, 1, 1, 1, 1, 0, 0, 0, 0, 0, 1, 0, 0, 1, 0, 0, 0, 0, 1, 0,\n",
       "       1, 1, 0, 0, 0, 0, 0, 0, 1, 1, 1, 0, 0, 0, 1, 0, 0, 0, 0, 1, 1, 0,\n",
       "       0, 0, 0, 0, 1, 0, 0, 1, 0, 0, 0, 0, 0, 0, 1, 1, 0, 0, 0, 0, 1, 0,\n",
       "       0, 0, 0, 1, 1, 0, 0, 0, 0, 0, 0, 0, 0, 0, 1, 0, 0, 1, 0, 0, 1, 0,\n",
       "       0, 1, 1, 0, 0, 1, 0, 0, 1, 1, 1, 0, 0, 1, 0, 0, 1, 1, 0, 1, 0, 1,\n",
       "       0, 1, 1, 1, 1, 1, 0, 0, 0, 1, 0, 1, 0, 1, 0, 0, 0, 0, 0, 0, 1, 0,\n",
       "       0, 0, 1, 0, 0, 1, 1, 1, 1, 0, 0, 0, 0, 1, 0, 1, 1, 1, 0, 0, 0, 1,\n",
       "       0, 0, 1, 0, 0, 0, 0, 1, 1, 0, 0, 0, 0, 0, 0, 1, 1, 1, 1, 0, 0, 0,\n",
       "       0, 1, 1, 0, 0, 0, 0, 0, 0, 0, 1, 1, 0, 0, 0, 0, 0, 0, 0, 0, 0, 1,\n",
       "       0, 1, 0, 0, 0, 1, 0, 1, 1, 0, 0, 1, 0, 0, 0, 0, 1, 0, 0, 1, 0, 1,\n",
       "       1, 1, 0, 1, 0, 0, 0, 0, 0, 0, 0, 0, 0, 1, 0, 1, 1, 0, 0, 0, 0, 1,\n",
       "       1, 0, 0, 0, 0, 0, 0, 0, 0, 1, 0, 0, 1, 1, 0, 0, 0, 0, 1, 1, 0, 1,\n",
       "       1, 0, 1, 0, 1, 0, 0, 0, 1, 1, 1, 0, 0, 1, 0, 0, 1, 0, 0, 1, 0, 1,\n",
       "       0, 1, 1, 0, 0, 0, 0, 0, 0, 1, 0, 0, 1, 0, 0, 0, 0, 0, 1, 1, 0, 0,\n",
       "       1, 0, 0, 0, 0, 0, 0, 1, 0, 1, 1, 0, 1, 0, 0, 0, 0, 0, 0, 0, 0, 1,\n",
       "       0, 0, 0, 0, 0, 0, 1, 0])"
      ]
     },
     "execution_count": 13,
     "metadata": {},
     "output_type": "execute_result"
    }
   ],
   "source": [
    "response = y_pred.argmax(1) == 1\n",
    "response.astype(int)"
   ]
  },
  {
   "cell_type": "code",
   "execution_count": 14,
   "id": "a8b42d01-8e61-471f-969a-bdec7a6dec64",
   "metadata": {},
   "outputs": [
    {
     "data": {
      "text/plain": [
       "array([[0.37620103, 0.44052342, 0.18327555],\n",
       "       [0.40994316, 0.27902088, 0.3110359 ],\n",
       "       [0.43183511, 0.33721584, 0.230949  ],\n",
       "       ...,\n",
       "       [0.4367189 , 0.4013916 , 0.16188946],\n",
       "       [0.31364378, 0.5103891 , 0.17596716],\n",
       "       [0.49209282, 0.0905348 , 0.41737238]], dtype=float32)"
      ]
     },
     "execution_count": 14,
     "metadata": {},
     "output_type": "execute_result"
    }
   ],
   "source": [
    "y_pred"
   ]
  },
  {
   "cell_type": "code",
   "execution_count": 15,
   "id": "e9fbfdf6-3189-4dfa-97bd-c71ddcf7b160",
   "metadata": {},
   "outputs": [],
   "source": [
    "rating = confidence_out.argmax(1) == 1"
   ]
  },
  {
   "cell_type": "code",
   "execution_count": 16,
   "id": "2b9e6c01-45ca-4ca0-8890-3cb835ab04cc",
   "metadata": {},
   "outputs": [],
   "source": [
    "df_cnn = pd.DataFrame({\"response\":response.astype(int).tolist(), \n",
    "              \"stim\":y_true[:, 1].astype(int).tolist(), \n",
    "             \"acc\":y_correct_pred[:, 1].astype(int).tolist(), \n",
    "             \"confidence\":rating.astype(int).tolist()})"
   ]
  },
  {
   "cell_type": "code",
   "execution_count": 17,
   "id": "244fa8ef-c7fc-4a63-9d0c-b066ce646d8a",
   "metadata": {},
   "outputs": [],
   "source": [
    "def type2_proba(data):\n",
    "    \n",
    "    confidence_onehot = np.vstack([1-data[\"confidence\"], data[\"confidence\"]]).T\n",
    "    \n",
    "    idx_correct_trial = data[\"acc\"] == 1#正确的trial\n",
    "    idx_incorrect_trial = data[\"acc\"] == 0#错误的trial\n",
    "    \n",
    "    total_correct = sum(idx_correct_trial.astype(int))\n",
    "    total_incorrect = sum(idx_incorrect_trial.astype(int))\n",
    "    \n",
    "    correct_confidence =confidence_onehot[:, 1][idx_correct_trial]\n",
    "    \n",
    "    low_confidence = confidence_onehot[:, 0]\n",
    "    high_confidence = confidence_onehot[:, 1]\n",
    "    \n",
    "    low_correct =  sum(low_confidence[idx_correct_trial])/ total_correct\n",
    "    low_incorrect = sum(low_confidence[idx_incorrect_trial])/ total_incorrect\n",
    "    \n",
    "    high_correct = sum(high_confidence[idx_correct_trial])/ total_correct\n",
    "    high_incorrect = sum(high_confidence[idx_incorrect_trial])/ total_incorrect\n",
    "    \n",
    "    return  low_correct, low_incorrect, high_correct, high_incorrect"
   ]
  },
  {
   "cell_type": "code",
   "execution_count": 18,
   "id": "d692ce67-65ae-4b6c-9e1d-da7844fb502e",
   "metadata": {},
   "outputs": [
    {
     "data": {
      "text/plain": [
       "(0.14027149321266968,\n",
       " 0.2949640287769784,\n",
       " 0.8597285067873304,\n",
       " 0.7050359712230215)"
      ]
     },
     "execution_count": 18,
     "metadata": {},
     "output_type": "execute_result"
    }
   ],
   "source": [
    "type2_proba(df_cnn)"
   ]
  },
  {
   "cell_type": "code",
   "execution_count": 19,
   "id": "71fc15ee-120b-41d3-8377-3f075e1a933e",
   "metadata": {},
   "outputs": [],
   "source": [
    "df_sub1 = pd.read_csv(\"../data/sub/sub1.csv\")"
   ]
  },
  {
   "cell_type": "code",
   "execution_count": 20,
   "id": "b99d062d-b985-410c-97fa-054b107c439e",
   "metadata": {},
   "outputs": [],
   "source": [
    "df_sub1 = df_sub1.rename(columns = {\"rating\":\"confidence\"})"
   ]
  },
  {
   "cell_type": "code",
   "execution_count": 21,
   "id": "157746a0-2a95-483b-8653-22a5751690b2",
   "metadata": {},
   "outputs": [
    {
     "data": {
      "text/html": [
       "<div>\n",
       "<style scoped>\n",
       "    .dataframe tbody tr th:only-of-type {\n",
       "        vertical-align: middle;\n",
       "    }\n",
       "\n",
       "    .dataframe tbody tr th {\n",
       "        vertical-align: top;\n",
       "    }\n",
       "\n",
       "    .dataframe thead th {\n",
       "        text-align: right;\n",
       "    }\n",
       "</style>\n",
       "<table border=\"1\" class=\"dataframe\">\n",
       "  <thead>\n",
       "    <tr style=\"text-align: right;\">\n",
       "      <th></th>\n",
       "      <th>stimulus</th>\n",
       "      <th>trials_id</th>\n",
       "      <th>acc</th>\n",
       "      <th>correct_response</th>\n",
       "      <th>decision</th>\n",
       "      <th>rt</th>\n",
       "      <th>decision_2</th>\n",
       "      <th>stim</th>\n",
       "      <th>response</th>\n",
       "      <th>confidence</th>\n",
       "    </tr>\n",
       "  </thead>\n",
       "  <tbody>\n",
       "    <tr>\n",
       "      <th>0</th>\n",
       "      <td>../data/img/test/triangle/triangle12_4.png</td>\n",
       "      <td>1</td>\n",
       "      <td>1</td>\n",
       "      <td>Good</td>\n",
       "      <td>好人</td>\n",
       "      <td>1217</td>\n",
       "      <td>正确</td>\n",
       "      <td>1</td>\n",
       "      <td>1</td>\n",
       "      <td>2</td>\n",
       "    </tr>\n",
       "    <tr>\n",
       "      <th>1</th>\n",
       "      <td>../data/img/test/triangle/triangle26_3.png</td>\n",
       "      <td>2</td>\n",
       "      <td>1</td>\n",
       "      <td>Good</td>\n",
       "      <td>好人</td>\n",
       "      <td>1246</td>\n",
       "      <td>正确</td>\n",
       "      <td>1</td>\n",
       "      <td>1</td>\n",
       "      <td>2</td>\n",
       "    </tr>\n",
       "    <tr>\n",
       "      <th>2</th>\n",
       "      <td>../data/img/test/triangle/triangle82_3.png</td>\n",
       "      <td>3</td>\n",
       "      <td>1</td>\n",
       "      <td>Good</td>\n",
       "      <td>好人</td>\n",
       "      <td>1602</td>\n",
       "      <td>正确</td>\n",
       "      <td>1</td>\n",
       "      <td>1</td>\n",
       "      <td>2</td>\n",
       "    </tr>\n",
       "    <tr>\n",
       "      <th>3</th>\n",
       "      <td>../data/img/test/circle/circle34_4.png</td>\n",
       "      <td>4</td>\n",
       "      <td>1</td>\n",
       "      <td>No_info</td>\n",
       "      <td>无信息</td>\n",
       "      <td>1267</td>\n",
       "      <td>正确</td>\n",
       "      <td>0</td>\n",
       "      <td>0</td>\n",
       "      <td>2</td>\n",
       "    </tr>\n",
       "    <tr>\n",
       "      <th>4</th>\n",
       "      <td>../data/img/test/triangle/triangle63_1.png</td>\n",
       "      <td>6</td>\n",
       "      <td>0</td>\n",
       "      <td>Good</td>\n",
       "      <td>无信息</td>\n",
       "      <td>1258</td>\n",
       "      <td>错误</td>\n",
       "      <td>1</td>\n",
       "      <td>0</td>\n",
       "      <td>1</td>\n",
       "    </tr>\n",
       "    <tr>\n",
       "      <th>...</th>\n",
       "      <td>...</td>\n",
       "      <td>...</td>\n",
       "      <td>...</td>\n",
       "      <td>...</td>\n",
       "      <td>...</td>\n",
       "      <td>...</td>\n",
       "      <td>...</td>\n",
       "      <td>...</td>\n",
       "      <td>...</td>\n",
       "      <td>...</td>\n",
       "    </tr>\n",
       "    <tr>\n",
       "      <th>333</th>\n",
       "      <td>../data/img/test/triangle/triangle63_3.png</td>\n",
       "      <td>355</td>\n",
       "      <td>1</td>\n",
       "      <td>Good</td>\n",
       "      <td>好人</td>\n",
       "      <td>1418</td>\n",
       "      <td>正确</td>\n",
       "      <td>1</td>\n",
       "      <td>1</td>\n",
       "      <td>2</td>\n",
       "    </tr>\n",
       "    <tr>\n",
       "      <th>334</th>\n",
       "      <td>../data/img/test/square/square44_4.png</td>\n",
       "      <td>356</td>\n",
       "      <td>1</td>\n",
       "      <td>Bad</td>\n",
       "      <td>坏人</td>\n",
       "      <td>1428</td>\n",
       "      <td>错误</td>\n",
       "      <td>0</td>\n",
       "      <td>0</td>\n",
       "      <td>1</td>\n",
       "    </tr>\n",
       "    <tr>\n",
       "      <th>335</th>\n",
       "      <td>../data/img/test/circle/circle44_2.png</td>\n",
       "      <td>357</td>\n",
       "      <td>1</td>\n",
       "      <td>No_info</td>\n",
       "      <td>无信息</td>\n",
       "      <td>1549</td>\n",
       "      <td>正确</td>\n",
       "      <td>0</td>\n",
       "      <td>0</td>\n",
       "      <td>2</td>\n",
       "    </tr>\n",
       "    <tr>\n",
       "      <th>336</th>\n",
       "      <td>../data/img/test/circle/circle41_2.png</td>\n",
       "      <td>359</td>\n",
       "      <td>1</td>\n",
       "      <td>No_info</td>\n",
       "      <td>无信息</td>\n",
       "      <td>980</td>\n",
       "      <td>正确</td>\n",
       "      <td>0</td>\n",
       "      <td>0</td>\n",
       "      <td>2</td>\n",
       "    </tr>\n",
       "    <tr>\n",
       "      <th>337</th>\n",
       "      <td>../data/img/test/triangle/triangle11_5.png</td>\n",
       "      <td>360</td>\n",
       "      <td>1</td>\n",
       "      <td>Good</td>\n",
       "      <td>好人</td>\n",
       "      <td>1362</td>\n",
       "      <td>错误</td>\n",
       "      <td>1</td>\n",
       "      <td>1</td>\n",
       "      <td>1</td>\n",
       "    </tr>\n",
       "  </tbody>\n",
       "</table>\n",
       "<p>338 rows × 10 columns</p>\n",
       "</div>"
      ],
      "text/plain": [
       "                                       stimulus  trials_id  acc  \\\n",
       "0    ../data/img/test/triangle/triangle12_4.png          1    1   \n",
       "1    ../data/img/test/triangle/triangle26_3.png          2    1   \n",
       "2    ../data/img/test/triangle/triangle82_3.png          3    1   \n",
       "3        ../data/img/test/circle/circle34_4.png          4    1   \n",
       "4    ../data/img/test/triangle/triangle63_1.png          6    0   \n",
       "..                                          ...        ...  ...   \n",
       "333  ../data/img/test/triangle/triangle63_3.png        355    1   \n",
       "334      ../data/img/test/square/square44_4.png        356    1   \n",
       "335      ../data/img/test/circle/circle44_2.png        357    1   \n",
       "336      ../data/img/test/circle/circle41_2.png        359    1   \n",
       "337  ../data/img/test/triangle/triangle11_5.png        360    1   \n",
       "\n",
       "    correct_response decision    rt decision_2  stim  response  confidence  \n",
       "0               Good       好人  1217         正确     1         1           2  \n",
       "1               Good       好人  1246         正确     1         1           2  \n",
       "2               Good       好人  1602         正确     1         1           2  \n",
       "3            No_info      无信息  1267         正确     0         0           2  \n",
       "4               Good      无信息  1258         错误     1         0           1  \n",
       "..               ...      ...   ...        ...   ...       ...         ...  \n",
       "333             Good       好人  1418         正确     1         1           2  \n",
       "334              Bad       坏人  1428         错误     0         0           1  \n",
       "335          No_info      无信息  1549         正确     0         0           2  \n",
       "336          No_info      无信息   980         正确     0         0           2  \n",
       "337             Good       好人  1362         错误     1         1           1  \n",
       "\n",
       "[338 rows x 10 columns]"
      ]
     },
     "execution_count": 21,
     "metadata": {},
     "output_type": "execute_result"
    }
   ],
   "source": [
    "df_sub1"
   ]
  },
  {
   "cell_type": "code",
   "execution_count": 22,
   "id": "02a383e3-cb38-471a-bbb1-e517b12ec470",
   "metadata": {},
   "outputs": [],
   "source": [
    "def confidence_value(x):\n",
    "    if x[\"confidence\"] == 2:\n",
    "        return 1\n",
    "    else:\n",
    "        return 0"
   ]
  },
  {
   "cell_type": "code",
   "execution_count": 23,
   "id": "220bcf01-18d6-4cec-a780-c6e0b1a7b91c",
   "metadata": {},
   "outputs": [],
   "source": [
    "df_sub1[\"confidence\"] = df_sub1.apply(lambda x: confidence_value(x), axis=1)"
   ]
  },
  {
   "cell_type": "code",
   "execution_count": 24,
   "id": "217d9653-8d71-40cb-ae63-0961cfb3e829",
   "metadata": {},
   "outputs": [
    {
     "data": {
      "text/plain": [
       "(0.16470588235294117,\n",
       " 0.5060240963855421,\n",
       " 0.8352941176470589,\n",
       " 0.4939759036144578)"
      ]
     },
     "execution_count": 24,
     "metadata": {},
     "output_type": "execute_result"
    }
   ],
   "source": [
    " type2_proba(df_sub1)"
   ]
  },
  {
   "cell_type": "code",
   "execution_count": 25,
   "id": "fc2c671b-a95f-4e9f-94bf-0fda53dc067f",
   "metadata": {},
   "outputs": [],
   "source": [
    "df_cnn.to_csv(\"../data/sub/cnn.csv\")"
   ]
  },
  {
   "cell_type": "code",
   "execution_count": 26,
   "id": "a5ab5291-9914-456b-884e-14307fda9636",
   "metadata": {},
   "outputs": [
    {
     "data": {
      "text/html": [
       "<div>\n",
       "<style scoped>\n",
       "    .dataframe tbody tr th:only-of-type {\n",
       "        vertical-align: middle;\n",
       "    }\n",
       "\n",
       "    .dataframe tbody tr th {\n",
       "        vertical-align: top;\n",
       "    }\n",
       "\n",
       "    .dataframe thead th {\n",
       "        text-align: right;\n",
       "    }\n",
       "</style>\n",
       "<table border=\"1\" class=\"dataframe\">\n",
       "  <thead>\n",
       "    <tr style=\"text-align: right;\">\n",
       "      <th></th>\n",
       "      <th>stimulus</th>\n",
       "      <th>trials_id</th>\n",
       "      <th>acc</th>\n",
       "      <th>correct_response</th>\n",
       "      <th>decision</th>\n",
       "      <th>rt</th>\n",
       "      <th>decision_2</th>\n",
       "      <th>stim</th>\n",
       "      <th>response</th>\n",
       "      <th>confidence</th>\n",
       "    </tr>\n",
       "  </thead>\n",
       "  <tbody>\n",
       "    <tr>\n",
       "      <th>0</th>\n",
       "      <td>../data/img/test/triangle/triangle12_4.png</td>\n",
       "      <td>1</td>\n",
       "      <td>1</td>\n",
       "      <td>Good</td>\n",
       "      <td>好人</td>\n",
       "      <td>1217</td>\n",
       "      <td>正确</td>\n",
       "      <td>1</td>\n",
       "      <td>1</td>\n",
       "      <td>1</td>\n",
       "    </tr>\n",
       "    <tr>\n",
       "      <th>1</th>\n",
       "      <td>../data/img/test/triangle/triangle26_3.png</td>\n",
       "      <td>2</td>\n",
       "      <td>1</td>\n",
       "      <td>Good</td>\n",
       "      <td>好人</td>\n",
       "      <td>1246</td>\n",
       "      <td>正确</td>\n",
       "      <td>1</td>\n",
       "      <td>1</td>\n",
       "      <td>1</td>\n",
       "    </tr>\n",
       "    <tr>\n",
       "      <th>2</th>\n",
       "      <td>../data/img/test/triangle/triangle82_3.png</td>\n",
       "      <td>3</td>\n",
       "      <td>1</td>\n",
       "      <td>Good</td>\n",
       "      <td>好人</td>\n",
       "      <td>1602</td>\n",
       "      <td>正确</td>\n",
       "      <td>1</td>\n",
       "      <td>1</td>\n",
       "      <td>1</td>\n",
       "    </tr>\n",
       "    <tr>\n",
       "      <th>3</th>\n",
       "      <td>../data/img/test/circle/circle34_4.png</td>\n",
       "      <td>4</td>\n",
       "      <td>1</td>\n",
       "      <td>No_info</td>\n",
       "      <td>无信息</td>\n",
       "      <td>1267</td>\n",
       "      <td>正确</td>\n",
       "      <td>0</td>\n",
       "      <td>0</td>\n",
       "      <td>1</td>\n",
       "    </tr>\n",
       "    <tr>\n",
       "      <th>4</th>\n",
       "      <td>../data/img/test/triangle/triangle63_1.png</td>\n",
       "      <td>6</td>\n",
       "      <td>0</td>\n",
       "      <td>Good</td>\n",
       "      <td>无信息</td>\n",
       "      <td>1258</td>\n",
       "      <td>错误</td>\n",
       "      <td>1</td>\n",
       "      <td>0</td>\n",
       "      <td>0</td>\n",
       "    </tr>\n",
       "    <tr>\n",
       "      <th>...</th>\n",
       "      <td>...</td>\n",
       "      <td>...</td>\n",
       "      <td>...</td>\n",
       "      <td>...</td>\n",
       "      <td>...</td>\n",
       "      <td>...</td>\n",
       "      <td>...</td>\n",
       "      <td>...</td>\n",
       "      <td>...</td>\n",
       "      <td>...</td>\n",
       "    </tr>\n",
       "    <tr>\n",
       "      <th>333</th>\n",
       "      <td>../data/img/test/triangle/triangle63_3.png</td>\n",
       "      <td>355</td>\n",
       "      <td>1</td>\n",
       "      <td>Good</td>\n",
       "      <td>好人</td>\n",
       "      <td>1418</td>\n",
       "      <td>正确</td>\n",
       "      <td>1</td>\n",
       "      <td>1</td>\n",
       "      <td>1</td>\n",
       "    </tr>\n",
       "    <tr>\n",
       "      <th>334</th>\n",
       "      <td>../data/img/test/square/square44_4.png</td>\n",
       "      <td>356</td>\n",
       "      <td>1</td>\n",
       "      <td>Bad</td>\n",
       "      <td>坏人</td>\n",
       "      <td>1428</td>\n",
       "      <td>错误</td>\n",
       "      <td>0</td>\n",
       "      <td>0</td>\n",
       "      <td>0</td>\n",
       "    </tr>\n",
       "    <tr>\n",
       "      <th>335</th>\n",
       "      <td>../data/img/test/circle/circle44_2.png</td>\n",
       "      <td>357</td>\n",
       "      <td>1</td>\n",
       "      <td>No_info</td>\n",
       "      <td>无信息</td>\n",
       "      <td>1549</td>\n",
       "      <td>正确</td>\n",
       "      <td>0</td>\n",
       "      <td>0</td>\n",
       "      <td>1</td>\n",
       "    </tr>\n",
       "    <tr>\n",
       "      <th>336</th>\n",
       "      <td>../data/img/test/circle/circle41_2.png</td>\n",
       "      <td>359</td>\n",
       "      <td>1</td>\n",
       "      <td>No_info</td>\n",
       "      <td>无信息</td>\n",
       "      <td>980</td>\n",
       "      <td>正确</td>\n",
       "      <td>0</td>\n",
       "      <td>0</td>\n",
       "      <td>1</td>\n",
       "    </tr>\n",
       "    <tr>\n",
       "      <th>337</th>\n",
       "      <td>../data/img/test/triangle/triangle11_5.png</td>\n",
       "      <td>360</td>\n",
       "      <td>1</td>\n",
       "      <td>Good</td>\n",
       "      <td>好人</td>\n",
       "      <td>1362</td>\n",
       "      <td>错误</td>\n",
       "      <td>1</td>\n",
       "      <td>1</td>\n",
       "      <td>0</td>\n",
       "    </tr>\n",
       "  </tbody>\n",
       "</table>\n",
       "<p>338 rows × 10 columns</p>\n",
       "</div>"
      ],
      "text/plain": [
       "                                       stimulus  trials_id  acc  \\\n",
       "0    ../data/img/test/triangle/triangle12_4.png          1    1   \n",
       "1    ../data/img/test/triangle/triangle26_3.png          2    1   \n",
       "2    ../data/img/test/triangle/triangle82_3.png          3    1   \n",
       "3        ../data/img/test/circle/circle34_4.png          4    1   \n",
       "4    ../data/img/test/triangle/triangle63_1.png          6    0   \n",
       "..                                          ...        ...  ...   \n",
       "333  ../data/img/test/triangle/triangle63_3.png        355    1   \n",
       "334      ../data/img/test/square/square44_4.png        356    1   \n",
       "335      ../data/img/test/circle/circle44_2.png        357    1   \n",
       "336      ../data/img/test/circle/circle41_2.png        359    1   \n",
       "337  ../data/img/test/triangle/triangle11_5.png        360    1   \n",
       "\n",
       "    correct_response decision    rt decision_2  stim  response  confidence  \n",
       "0               Good       好人  1217         正确     1         1           1  \n",
       "1               Good       好人  1246         正确     1         1           1  \n",
       "2               Good       好人  1602         正确     1         1           1  \n",
       "3            No_info      无信息  1267         正确     0         0           1  \n",
       "4               Good      无信息  1258         错误     1         0           0  \n",
       "..               ...      ...   ...        ...   ...       ...         ...  \n",
       "333             Good       好人  1418         正确     1         1           1  \n",
       "334              Bad       坏人  1428         错误     0         0           0  \n",
       "335          No_info      无信息  1549         正确     0         0           1  \n",
       "336          No_info      无信息   980         正确     0         0           1  \n",
       "337             Good       好人  1362         错误     1         1           0  \n",
       "\n",
       "[338 rows x 10 columns]"
      ]
     },
     "execution_count": 26,
     "metadata": {},
     "output_type": "execute_result"
    }
   ],
   "source": [
    "df_sub1"
   ]
  },
  {
   "cell_type": "code",
   "execution_count": 27,
   "id": "1fdf9426-3424-4dda-9e93-d2d22527d96c",
   "metadata": {},
   "outputs": [
    {
     "data": {
      "text/plain": [
       "stim  response  confidence\n",
       "0     0         0              43\n",
       "                1             153\n",
       "      1         0              10\n",
       "                1              34\n",
       "1     0         0              13\n",
       "                1              27\n",
       "      1         0               6\n",
       "                1              74\n",
       "Name: count, dtype: int64"
      ]
     },
     "execution_count": 27,
     "metadata": {},
     "output_type": "execute_result"
    }
   ],
   "source": [
    "df_cnn[\"count\"] = 1\n",
    "df_cnn.groupby([\"stim\", \"response\", \"confidence\"])[\"count\"].count()"
   ]
  },
  {
   "cell_type": "code",
   "execution_count": 28,
   "id": "3b05fdd0-10f7-4066-ac7b-ade6161c03e2",
   "metadata": {},
   "outputs": [
    {
     "data": {
      "text/plain": [
       "stim  response  confidence\n",
       "0     0         0              47\n",
       "                1             138\n",
       "      1         0              14\n",
       "                1              24\n",
       "1     0         0              11\n",
       "                1               6\n",
       "      1         0              12\n",
       "                1              86\n",
       "Name: count, dtype: int64"
      ]
     },
     "execution_count": 28,
     "metadata": {},
     "output_type": "execute_result"
    }
   ],
   "source": [
    "df_sub1[\"count\"] = 1\n",
    "df_sub1.groupby([\"stim\", \"response\", \"confidence\"])[\"count\"].count()"
   ]
  },
  {
   "cell_type": "code",
   "execution_count": 29,
   "id": "41509f7f-9d81-4043-b1e2-a9d574d4e765",
   "metadata": {},
   "outputs": [],
   "source": [
    "from fit_meta_d_MLE import fit_meta_d_MLE"
   ]
  },
  {
   "cell_type": "code",
   "execution_count": null,
   "id": "ec7c653c-4fd9-48ce-bc8e-21fb1b0ec7bd",
   "metadata": {},
   "outputs": [
    {
     "name": "stderr",
     "output_type": "stream",
     "text": [
      "/root/miniconda3/envs/py38/lib/python3.8/site-packages/scipy/optimize/_hessian_update_strategy.py:182: UserWarning: delta_grad == 0.0. Check if the approximated function is linear. If the function is linear better results can be obtained by defining the Hessian as zero instead of using quasi-Newton approximations.\n",
      "  warn('delta_grad == 0.0. Check if the approximated '\n"
     ]
    },
    {
     "name": "stdout",
     "output_type": "stream",
     "text": [
      "`xtol` termination condition is satisfied.\n",
      "Number of iterations: 103, function evaluations: 520, CG iterations: 198, optimality: 3.52e-07, constraint violation: 0.00e+00, execution time: 0.86 s.\n"
     ]
    }
   ],
   "source": [
    "CNN_nR_S1 = [153, 43, 10, 34]\n",
    "CNN_nR_S2 = [27, 13, 6, 74]\n",
    "\n",
    "fit_cnn = fit_meta_d_MLE(CNN_nR_S1,CNN_nR_S2)\n"
   ]
  },
  {
   "cell_type": "code",
   "execution_count": 36,
   "id": "4c339ca3-451c-4140-95c6-92ed00ee2095",
   "metadata": {},
   "outputs": [
    {
     "name": "stderr",
     "output_type": "stream",
     "text": [
      "/root/miniconda3/envs/py38/lib/python3.8/site-packages/scipy/optimize/_hessian_update_strategy.py:182: UserWarning: delta_grad == 0.0. Check if the approximated function is linear. If the function is linear better results can be obtained by defining the Hessian as zero instead of using quasi-Newton approximations.\n",
      "  warn('delta_grad == 0.0. Check if the approximated '\n"
     ]
    },
    {
     "name": "stdout",
     "output_type": "stream",
     "text": [
      "`xtol` termination condition is satisfied.\n",
      "Number of iterations: 89, function evaluations: 384, CG iterations: 165, optimality: 2.19e-06, constraint violation: 0.00e+00, execution time: 0.75 s.\n"
     ]
    }
   ],
   "source": [
    "sub1_nR_S1 = [138, 47, 14, 24]\n",
    "sub1_nR_S2 = [6, 11, 12, 86]\n",
    "\n",
    "fit_sub1 = fit_meta_d_MLE(sub1_nR_S1,sub1_nR_S2)"
   ]
  },
  {
   "cell_type": "code",
   "execution_count": 47,
   "id": "7c8d77a3-bd6a-43df-8b50-9618936e00c6",
   "metadata": {},
   "outputs": [
    {
     "name": "stdout",
     "output_type": "stream",
     "text": [
      "The drpime of CNN is  1.3334620909393222\n",
      "The meta drpime of CNN is  0.8312791356536239\n",
      "-----------------------------------------------\n",
      "The drpime of real subject 1 is  1.9983742092753833\n",
      "The meta drpime of real subject 1 is  1.7028798096933422\n"
     ]
    }
   ],
   "source": [
    "print(\"The drpime of CNN is \", fit_cnn['da'])\n",
    "print(\"The meta drpime of CNN is \", fit_cnn['meta_da'])\n",
    "print(\"-----------------------------------------------\")\n",
    "print(\"The drpime of real subject 1 is \", fit_sub1['da'])\n",
    "print(\"The meta drpime of real subject 1 is \", fit_sub1['meta_da'])"
   ]
  },
  {
   "cell_type": "code",
   "execution_count": null,
   "id": "07e8cd32-9aa9-4229-a586-5d3e9d427a10",
   "metadata": {},
   "outputs": [],
   "source": []
  }
 ],
 "metadata": {
  "kernelspec": {
   "display_name": "py38",
   "language": "python",
   "name": "py38"
  },
  "language_info": {
   "codemirror_mode": {
    "name": "ipython",
    "version": 3
   },
   "file_extension": ".py",
   "mimetype": "text/x-python",
   "name": "python",
   "nbconvert_exporter": "python",
   "pygments_lexer": "ipython3",
   "version": "3.8.13"
  }
 },
 "nbformat": 4,
 "nbformat_minor": 5
}
