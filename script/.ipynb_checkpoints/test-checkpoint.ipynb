{
 "cells": [
  {
   "cell_type": "code",
   "execution_count": 1,
   "id": "fe821d2f-7bfb-44ec-b53c-1bd5c3d2211f",
   "metadata": {},
   "outputs": [
    {
     "name": "stderr",
     "output_type": "stream",
     "text": [
      "12it [00:02,  4.18it/s]\n"
     ]
    }
   ],
   "source": [
    "import commonsetting\n",
    "from models import perceptual_network, Encoder, Class_out, Conf_out\n",
    "from dataloader import CustomImageDataset, concatenate_transform_steps\n",
    "from torch.utils.data import Dataset, DataLoader\n",
    "from torch.optim import Adam\n",
    "from torch import nn\n",
    "import torch\n",
    "from tqdm import tqdm\n",
    "import numpy as np\n",
    "import pandas as pd\n",
    "\n",
    "\n",
    "def calculate_confidence_label(y_pred):\n",
    "    if y_pred <= 1/3:\n",
    "        y_pred = 0\n",
    "    elif y_pred >= 2/3:\n",
    "        y_pred = 1\n",
    "    else:\n",
    "        y_pred = 0.5\n",
    "\n",
    "    return y_pred\n",
    "\n",
    "\n",
    "if __name__ == \"__main__\":\n",
    "    pretrained_model_name   = commonsetting.pretrained_model_name\n",
    "    hidden_layer_size       = commonsetting.hidden_layer_size\n",
    "    hidden_activation_name  = commonsetting.hidden_activation_name\n",
    "    hidden_activation       = commonsetting.hidden_activation\n",
    "    hidden_dropout          = commonsetting.hidden_dropout\n",
    "    resize                  = commonsetting.image_resize\n",
    "    in_shape                = (1,3,resize,resize)\n",
    "\n",
    "    SimpleCNN_args = dict(\n",
    "        pretrained_model_name   = pretrained_model_name,\n",
    "        hidden_layer_size       = hidden_layer_size,\n",
    "        hidden_activation       = hidden_activation,\n",
    "        hidden_dropout          = hidden_dropout,\n",
    "        hidden_layer_type       = commonsetting.hidden_layer_type,\n",
    "        output_layer_size       = commonsetting.output_layer_size,\n",
    "        in_shape                = (1,3,resize,resize),\n",
    "        retrain_encoder         = commonsetting.retrain_encoder,\n",
    "        device                  = commonsetting.device,\n",
    "        )\n",
    "        \n",
    "\n",
    "    tranformer_steps = concatenate_transform_steps(image_resize=commonsetting.image_resize, rotate=0)\n",
    "\n",
    "    dataset_val = CustomImageDataset(commonsetting.test_dir,label_map=commonsetting.label_map , transform=tranformer_steps)\n",
    "    dataloader_test = DataLoader(dataset_val, batch_size=commonsetting.batch_size, shuffle=True, num_workers=commonsetting.num_workers)\n",
    "    SimpleCNN = perceptual_network(**SimpleCNN_args)\n",
    "    SimpleCNN.load_state_dict(torch.load(\"../models/simplecnn.h5\"))\n",
    "    for p in SimpleCNN.parameters(): p.requires_grad = False\n",
    "    # define loss function\n",
    "    classification_loss = nn.BCELoss()\n",
    "    # when there is no noise\n",
    "    SimpleCNN.eval()\n",
    "    SimpleCNN.to(commonsetting.device)\n",
    "    with torch.no_grad():\n",
    "        # extract features of each image\n",
    "        y_true = []\n",
    "        y_pred = []\n",
    "        y_correct_pred = []\n",
    "        confidence_out = []\n",
    "        for idx_batch, (batch_image, batch_label) in tqdm(enumerate(dataloader_test)):\n",
    "            batch_label = torch.vstack(batch_label).T.float()\n",
    "            #记得每一次处理数据之前要做这一步\n",
    "            \n",
    "            features,hidden_representation,prediction, confidence =  SimpleCNN(batch_image.to(commonsetting.device))\n",
    "            correct_preds = batch_label.clone().detach().argmax(1)==prediction.clone().detach().argmax(1)\n",
    "            correct_preds = correct_preds.float()\n",
    "\n",
    "            correct_preds = torch.vstack([1-correct_preds, correct_preds]).T.float()\n",
    "            \n",
    "            \n",
    "            y_correct_pred.append(correct_preds.detach().cpu().numpy())\n",
    "            y_true.append(batch_label.detach().cpu().numpy())\n",
    "            y_pred.append(prediction.detach().cpu().numpy())\n",
    "            confidence_out.append(confidence.detach().cpu().numpy())\n",
    "    \n",
    "    y_pred = np.concatenate(y_pred, axis=0)\n",
    "    y_true = np.concatenate(y_true, axis=0)\n",
    "    y_correct_pred = np.concatenate(y_correct_pred, axis=0)\n",
    "    confidence_out = np.concatenate(confidence_out, axis=0)\n"
   ]
  },
  {
   "cell_type": "code",
   "execution_count": 2,
   "id": "06c9f356-4629-4a02-93c4-01168fe98bc0",
   "metadata": {},
   "outputs": [],
   "source": [
    "from sklearn.metrics import roc_auc_score, accuracy_score"
   ]
  },
  {
   "cell_type": "code",
   "execution_count": 3,
   "id": "12ef5757-3322-42bc-be37-d12c46acd702",
   "metadata": {},
   "outputs": [
    {
     "data": {
      "text/plain": [
       "0.6225"
      ]
     },
     "execution_count": 3,
     "metadata": {},
     "output_type": "execute_result"
    }
   ],
   "source": [
    "roc_auc_score(y_true, y_pred)"
   ]
  },
  {
   "cell_type": "code",
   "execution_count": 4,
   "id": "e69652cf",
   "metadata": {},
   "outputs": [
    {
     "data": {
      "text/plain": [
       "0.5948025359926034"
      ]
     },
     "execution_count": 4,
     "metadata": {},
     "output_type": "execute_result"
    }
   ],
   "source": [
    "roc_auc_score(y_correct_pred, confidence_out)"
   ]
  },
  {
   "cell_type": "code",
   "execution_count": 5,
   "id": "e639657a",
   "metadata": {},
   "outputs": [
    {
     "data": {
      "text/plain": [
       "(360, 3)"
      ]
     },
     "execution_count": 5,
     "metadata": {},
     "output_type": "execute_result"
    }
   ],
   "source": [
    "y_pred.shape"
   ]
  },
  {
   "cell_type": "code",
   "execution_count": 24,
   "id": "4fd104c7",
   "metadata": {},
   "outputs": [
    {
     "data": {
      "text/plain": [
       "Counter({2: 341, 1: 16, 0: 3})"
      ]
     },
     "execution_count": 24,
     "metadata": {},
     "output_type": "execute_result"
    }
   ],
   "source": [
    "Counter(y_pred.argmax(1))"
   ]
  },
  {
   "cell_type": "code",
   "execution_count": 25,
   "id": "9dd67b2c-de51-456b-9a46-75b8e3b6a6cf",
   "metadata": {},
   "outputs": [
    {
     "data": {
      "text/plain": [
       "Counter({2: 120, 0: 120, 1: 120})"
      ]
     },
     "execution_count": 25,
     "metadata": {},
     "output_type": "execute_result"
    }
   ],
   "source": [
    "Counter(y_true.argmax(1))"
   ]
  },
  {
   "cell_type": "code",
   "execution_count": 27,
   "id": "f016d950-16bd-4eef-bd07-57fc0b55121c",
   "metadata": {},
   "outputs": [],
   "source": [
    "acc = y_true == y_pred"
   ]
  },
  {
   "cell_type": "code",
   "execution_count": 36,
   "id": "838147a5-7689-494d-ac73-e66130dac5ac",
   "metadata": {},
   "outputs": [
    {
     "data": {
      "text/plain": [
       "array([[False, False, False],\n",
       "       [False, False, False],\n",
       "       [False, False, False],\n",
       "       ...,\n",
       "       [False, False, False],\n",
       "       [False, False, False],\n",
       "       [False, False, False]])"
      ]
     },
     "execution_count": 36,
     "metadata": {},
     "output_type": "execute_result"
    }
   ],
   "source": [
    "acc"
   ]
  },
  {
   "cell_type": "code",
   "execution_count": 37,
   "id": "e6b18094-ad27-4160-a04a-9c8b7c78b77a",
   "metadata": {},
   "outputs": [],
   "source": [
    "acc = acc.astype(np.float_)"
   ]
  },
  {
   "cell_type": "code",
   "execution_count": 7,
   "id": "098dfa2a",
   "metadata": {},
   "outputs": [
    {
     "data": {
      "text/plain": [
       "array([[0., 0., 1.],\n",
       "       [1., 0., 0.],\n",
       "       [0., 0., 1.],\n",
       "       ...,\n",
       "       [0., 1., 0.],\n",
       "       [0., 0., 1.],\n",
       "       [0., 0., 1.]], dtype=float32)"
      ]
     },
     "execution_count": 7,
     "metadata": {},
     "output_type": "execute_result"
    }
   ],
   "source": [
    "y_true"
   ]
  },
  {
   "cell_type": "code",
   "execution_count": 8,
   "id": "cbd5a31d-a368-47f2-b430-5916b1495180",
   "metadata": {},
   "outputs": [],
   "source": [
    "from matplotlib import pyplot as plt"
   ]
  },
  {
   "cell_type": "code",
   "execution_count": 9,
   "id": "fa34703b-48e1-429b-a8b4-36fa92094306",
   "metadata": {},
   "outputs": [
    {
     "data": {
      "text/plain": [
       "(array([12., 34., 51., 70., 71., 40., 46., 24.,  7.,  5.]),\n",
       " array([0.25935316, 0.28680575, 0.31425837, 0.34171095, 0.36916357,\n",
       "        0.39661616, 0.42406875, 0.45152137, 0.47897395, 0.50642657,\n",
       "        0.53387916]),\n",
       " <BarContainer object of 10 artists>)"
      ]
     },
     "execution_count": 9,
     "metadata": {},
     "output_type": "execute_result"
    },
    {
     "data": {
      "image/png": "[encoded data removed]",
      "text/plain": [
       "<Figure size 640x480 with 1 Axes>"
      ]
     },
     "metadata": {},
     "output_type": "display_data"
    }
   ],
   "source": [
    "plt.hist(confidence_out[:,1])"
   ]
  },
  {
   "cell_type": "code",
   "execution_count": 10,
   "id": "2c176f5b-d61a-4c5c-a37f-16559b7008d2",
   "metadata": {},
   "outputs": [
    {
     "data": {
      "text/plain": [
       "Counter({1.0: 134, 0.0: 226})"
      ]
     },
     "execution_count": 10,
     "metadata": {},
     "output_type": "execute_result"
    }
   ],
   "source": [
    "from collections import Counter\n",
    "Counter(y_correct_pred[:,1])"
   ]
  },
  {
   "cell_type": "code",
   "execution_count": null,
   "id": "bca536c0-37c4-4c55-b63a-a6d0ce322640",
   "metadata": {},
   "outputs": [],
   "source": [
    "dict{\"acc\" = acc.tolist(), 'response' = y_pred.tolist()}"
   ]
  }
 ],
 "metadata": {
  "kernelspec": {
   "display_name": "py38",
   "language": "python",
   "name": "py38"
  },
  "language_info": {
   "codemirror_mode": {
    "name": "ipython",
    "version": 3
   },
   "file_extension": ".py",
   "mimetype": "text/x-python",
   "name": "python",
   "nbconvert_exporter": "python",
   "pygments_lexer": "ipython3",
   "version": "3.8.13"
  }
 },
 "nbformat": 4,
 "nbformat_minor": 5
}
